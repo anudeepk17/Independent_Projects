{
  "nbformat": 4,
  "nbformat_minor": 0,
  "metadata": {
    "colab": {
      "provenance": [],
      "collapsed_sections": [],
      "include_colab_link": true
    },
    "kernelspec": {
      "name": "python3",
      "display_name": "Python 3"
    }
  },
  "cells": [
    {
      "cell_type": "markdown",
      "metadata": {
        "id": "view-in-github",
        "colab_type": "text"
      },
      "source": [
        "<a href=\"https://colab.research.google.com/github/anudeepk17/Lab7/blob/main/saccharide_final.ipynb\" target=\"_parent\"><img src=\"https://colab.research.google.com/assets/colab-badge.svg\" alt=\"Open In Colab\"/></a>"
      ]
    },
    {
      "cell_type": "markdown",
      "metadata": {
        "id": "xdOfeVMeXFvp"
      },
      "source": [
        "**Import the file from your drive**"
      ]
    },
    {
      "cell_type": "code",
      "metadata": {
        "id": "wn61T85zhWnL",
        "colab": {
          "resources": {
            "http://localhost:8080/nbextensions/google.colab/files.js": {
              "data": "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",
              "ok": true,
              "headers": [
                [
                  "content-type",
                  "application/javascript"
                ]
              ],
              "status": 200,
              "status_text": ""
            }
          },
          "base_uri": "https://localhost:8080/",
          "height": 90
        },
        "outputId": "881e714e-3d0c-46d0-9aac-f0464b59bb2e"
      },
      "source": [
        "from google.colab import files\n",
        "\n",
        "uploaded = files.upload()\n",
        "\n",
        "for fn in uploaded.keys():\n",
        "  print('User uploaded file \"{name}\" with length {length} bytes'.format(\n",
        "      name=fn, length=len(uploaded[fn])))"
      ],
      "execution_count": null,
      "outputs": [
        {
          "output_type": "display_data",
          "data": {
            "text/html": [
              "\n",
              "     <input type=\"file\" id=\"files-d0bc74d3-bcc2-41dd-a33a-0d19a77a8a79\" name=\"files[]\" multiple disabled\n",
              "        style=\"border:none\" />\n",
              "     <output id=\"result-d0bc74d3-bcc2-41dd-a33a-0d19a77a8a79\">\n",
              "      Upload widget is only available when the cell has been executed in the\n",
              "      current browser session. Please rerun this cell to enable.\n",
              "      </output>\n",
              "      <script src=\"/nbextensions/google.colab/files.js\"></script> "
            ],
            "text/plain": [
              "<IPython.core.display.HTML object>"
            ]
          },
          "metadata": {
            "tags": []
          }
        },
        {
          "output_type": "stream",
          "text": [
            "Saving saccharides_data_ARS.csv to saccharides_data_ARS (1).csv\n",
            "User uploaded file \"saccharides_data_ARS.csv\" with length 39207 bytes\n"
          ],
          "name": "stdout"
        }
      ]
    },
    {
      "cell_type": "markdown",
      "metadata": {
        "id": "L8JkqVqmX9jt"
      },
      "source": [
        "**Read The data**\n"
      ]
    },
    {
      "cell_type": "code",
      "metadata": {
        "id": "-fFQe5LnhjMD",
        "colab": {
          "base_uri": "https://localhost:8080/",
          "height": 252
        },
        "outputId": "983c8419-3a90-4be4-8dfe-59a813bcd772"
      },
      "source": [
        "import pandas as pd\n",
        "import io\n",
        "data=pd.read_csv(io.StringIO(uploaded['saccharides_data_ARS.csv'].decode('utf-8')))\n",
        "data.head"
      ],
      "execution_count": null,
      "outputs": [
        {
          "output_type": "execute_result",
          "data": {
            "text/plain": [
              "<bound method NDFrame.head of        conc      R       G      B    G.1      Y     cR     cB saccharide\n",
              "0         0  0.817   0.551 -0.752  0.496  0.410 -0.660  0.166   Fructose\n",
              "1         0  1.022   0.953  1.561  1.042  0.888  0.267 -0.025   Fructose\n",
              "2         0  0.017  -0.646 -1.564 -0.516 -0.473 -0.570  0.261   Fructose\n",
              "3         0  0.247  -0.418 -1.000 -0.252 -0.248 -0.428  0.266   Fructose\n",
              "4         0 -0.818  -1.921 -1.689 -1.522 -1.342 -0.112  0.426   Fructose\n",
              "..      ...    ...     ...    ...    ...    ...    ...    ...        ...\n",
              "635  100000 -2.020 -15.074 -0.557 -9.517 -8.162  4.328  4.790    Glucose\n",
              "636  100000 -1.948 -14.037  2.432 -8.551 -7.342  5.356  4.155    Glucose\n",
              "637  100000 -1.998 -14.527  0.507 -9.073 -7.788  4.647  4.509    Glucose\n",
              "638  100000 -1.110 -12.533 -0.349 -7.712 -6.625  3.558  4.182    Glucose\n",
              "639  100000 -1.524 -14.590 -0.141 -9.048 -7.759  4.317  4.783    Glucose\n",
              "\n",
              "[640 rows x 9 columns]>"
            ]
          },
          "metadata": {
            "tags": []
          },
          "execution_count": 3
        }
      ]
    },
    {
      "cell_type": "markdown",
      "metadata": {
        "id": "xHtO6UQgYKqA"
      },
      "source": [
        "**Data Distribution**"
      ]
    },
    {
      "cell_type": "code",
      "metadata": {
        "id": "aRk2TM8ThvTx",
        "colab": {
          "base_uri": "https://localhost:8080/",
          "height": 366
        },
        "outputId": "c545b680-190b-4bb0-99c6-4b5254f2a7c5"
      },
      "source": [
        "import seaborn as sns\n",
        "ax = sns.countplot(data['saccharide'], label='Count')\n",
        "Fructose,Glucose = data['saccharide'].value_counts()\n",
        "print('Fructose', Fructose)\n",
        "print('Glucose', Glucose)"
      ],
      "execution_count": null,
      "outputs": [
        {
          "output_type": "stream",
          "text": [
            "/usr/local/lib/python3.6/dist-packages/statsmodels/tools/_testing.py:19: FutureWarning: pandas.util.testing is deprecated. Use the functions in the public API at pandas.testing instead.\n",
            "  import pandas.util.testing as tm\n"
          ],
          "name": "stderr"
        },
        {
          "output_type": "stream",
          "text": [
            "Fructose 352\n",
            "Glucose 288\n"
          ],
          "name": "stdout"
        },
        {
          "output_type": "display_data",
          "data": {
            "image/png": "[encoded data removed]",
            "text/plain": [
              "<Figure size 432x288 with 1 Axes>"
            ]
          },
          "metadata": {
            "tags": [],
            "needs_background": "light"
          }
        }
      ]
    },
    {
      "cell_type": "markdown",
      "metadata": {
        "id": "joQrg-J9YWhd"
      },
      "source": [
        "**Assign The Data**"
      ]
    },
    {
      "cell_type": "code",
      "metadata": {
        "id": "Nkr7B5Sgh-Aw"
      },
      "source": [
        "import pandas as pd\n",
        "import numpy as np\n",
        "import matplotlib.pyplot as plt"
      ],
      "execution_count": null,
      "outputs": []
    },
    {
      "cell_type": "code",
      "metadata": {
        "id": "JWrbFoAViBBY"
      },
      "source": [
        "X = data.iloc[:, 1:8].values\n",
        "saccharide = data.iloc[:, 8].values\n",
        "conc = data.iloc[:,0].values\n"
      ],
      "execution_count": null,
      "outputs": []
    },
    {
      "cell_type": "markdown",
      "metadata": {
        "id": "p4ucmre-YdHt"
      },
      "source": [
        "**Label Encode The data**"
      ]
    },
    {
      "cell_type": "code",
      "metadata": {
        "id": "xhuJjozxm_kl"
      },
      "source": [
        "from sklearn.preprocessing import LabelEncoder\n",
        "labelencoder_X_1 = LabelEncoder()\n",
        "y = labelencoder_X_1.fit_transform(saccharide)"
      ],
      "execution_count": null,
      "outputs": []
    },
    {
      "cell_type": "code",
      "metadata": {
        "id": "koIeeQbMnGIz",
        "colab": {
          "base_uri": "https://localhost:8080/",
          "height": 1000
        },
        "outputId": "8b3c4aa6-9d27-4cd0-9058-0823bb257c74"
      },
      "source": [
        "saccharide"
      ],
      "execution_count": null,
      "outputs": [
        {
          "output_type": "execute_result",
          "data": {
            "text/plain": [
              "array(['Fructose', 'Fructose', 'Fructose', 'Fructose', 'Fructose',\n",
              "       'Fructose', 'Fructose', 'Fructose', 'Fructose', 'Fructose',\n",
              "       'Fructose', 'Fructose', 'Fructose', 'Fructose', 'Fructose',\n",
              "       'Fructose', 'Fructose', 'Fructose', 'Fructose', 'Fructose',\n",
              "       'Fructose', 'Fructose', 'Fructose', 'Fructose', 'Fructose',\n",
              "       'Fructose', 'Fructose', 'Fructose', 'Fructose', 'Fructose',\n",
              "       'Fructose', 'Fructose', 'Fructose', 'Fructose', 'Fructose',\n",
              "       'Fructose', 'Fructose', 'Fructose', 'Fructose', 'Fructose',\n",
              "       'Fructose', 'Fructose', 'Fructose', 'Fructose', 'Fructose',\n",
              "       'Fructose', 'Fructose', 'Fructose', 'Fructose', 'Fructose',\n",
              "       'Fructose', 'Fructose', 'Fructose', 'Fructose', 'Fructose',\n",
              "       'Fructose', 'Fructose', 'Fructose', 'Fructose', 'Fructose',\n",
              "       'Fructose', 'Fructose', 'Fructose', 'Fructose', 'Fructose',\n",
              "       'Fructose', 'Fructose', 'Fructose', 'Fructose', 'Fructose',\n",
              "       'Fructose', 'Fructose', 'Fructose', 'Fructose', 'Fructose',\n",
              "       'Fructose', 'Fructose', 'Fructose', 'Fructose', 'Fructose',\n",
              "       'Fructose', 'Fructose', 'Fructose', 'Fructose', 'Fructose',\n",
              "       'Fructose', 'Fructose', 'Fructose', 'Fructose', 'Fructose',\n",
              "       'Fructose', 'Fructose', 'Fructose', 'Fructose', 'Fructose',\n",
              "       'Fructose', 'Fructose', 'Fructose', 'Fructose', 'Fructose',\n",
              "       'Fructose', 'Fructose', 'Fructose', 'Fructose', 'Fructose',\n",
              "       'Fructose', 'Fructose', 'Fructose', 'Fructose', 'Fructose',\n",
              "       'Fructose', 'Fructose', 'Fructose', 'Fructose', 'Fructose',\n",
              "       'Fructose', 'Fructose', 'Fructose', 'Fructose', 'Fructose',\n",
              "       'Fructose', 'Fructose', 'Fructose', 'Fructose', 'Fructose',\n",
              "       'Fructose', 'Fructose', 'Fructose', 'Fructose', 'Fructose',\n",
              "       'Fructose', 'Fructose', 'Fructose', 'Fructose', 'Fructose',\n",
              "       'Fructose', 'Fructose', 'Fructose', 'Fructose', 'Fructose',\n",
              "       'Fructose', 'Fructose', 'Fructose', 'Fructose', 'Fructose',\n",
              "       'Fructose', 'Fructose', 'Fructose', 'Fructose', 'Fructose',\n",
              "       'Fructose', 'Fructose', 'Fructose', 'Fructose', 'Fructose',\n",
              "       'Fructose', 'Fructose', 'Fructose', 'Fructose', 'Fructose',\n",
              "       'Fructose', 'Fructose', 'Fructose', 'Fructose', 'Fructose',\n",
              "       'Fructose', 'Fructose', 'Fructose', 'Fructose', 'Fructose',\n",
              "       'Fructose', 'Fructose', 'Fructose', 'Fructose', 'Fructose',\n",
              "       'Fructose', 'Fructose', 'Fructose', 'Fructose', 'Fructose',\n",
              "       'Fructose', 'Fructose', 'Fructose', 'Fructose', 'Fructose',\n",
              "       'Fructose', 'Fructose', 'Fructose', 'Fructose', 'Fructose',\n",
              "       'Fructose', 'Fructose', 'Fructose', 'Fructose', 'Fructose',\n",
              "       'Fructose', 'Fructose', 'Fructose', 'Fructose', 'Fructose',\n",
              "       'Fructose', 'Fructose', 'Fructose', 'Fructose', 'Fructose',\n",
              "       'Fructose', 'Fructose', 'Fructose', 'Fructose', 'Fructose',\n",
              "       'Fructose', 'Fructose', 'Fructose', 'Fructose', 'Fructose',\n",
              "       'Fructose', 'Fructose', 'Fructose', 'Fructose', 'Fructose',\n",
              "       'Fructose', 'Fructose', 'Fructose', 'Fructose', 'Fructose',\n",
              "       'Fructose', 'Fructose', 'Fructose', 'Fructose', 'Fructose',\n",
              "       'Fructose', 'Fructose', 'Fructose', 'Fructose', 'Fructose',\n",
              "       'Fructose', 'Fructose', 'Fructose', 'Fructose', 'Fructose',\n",
              "       'Fructose', 'Fructose', 'Fructose', 'Fructose', 'Fructose',\n",
              "       'Fructose', 'Fructose', 'Fructose', 'Fructose', 'Fructose',\n",
              "       'Fructose', 'Fructose', 'Fructose', 'Fructose', 'Fructose',\n",
              "       'Fructose', 'Fructose', 'Fructose', 'Fructose', 'Fructose',\n",
              "       'Fructose', 'Fructose', 'Fructose', 'Fructose', 'Fructose',\n",
              "       'Fructose', 'Fructose', 'Fructose', 'Fructose', 'Fructose',\n",
              "       'Fructose', 'Fructose', 'Fructose', 'Fructose', 'Fructose',\n",
              "       'Fructose', 'Fructose', 'Fructose', 'Fructose', 'Fructose',\n",
              "       'Fructose', 'Fructose', 'Fructose', 'Fructose', 'Fructose',\n",
              "       'Fructose', 'Fructose', 'Fructose', 'Glucose', 'Glucose',\n",
              "       'Glucose', 'Glucose', 'Glucose', 'Glucose', 'Glucose', 'Glucose',\n",
              "       'Glucose', 'Glucose', 'Glucose', 'Glucose', 'Glucose', 'Glucose',\n",
              "       'Glucose', 'Glucose', 'Glucose', 'Glucose', 'Glucose', 'Glucose',\n",
              "       'Glucose', 'Glucose', 'Glucose', 'Glucose', 'Glucose', 'Glucose',\n",
              "       'Glucose', 'Glucose', 'Glucose', 'Glucose', 'Glucose', 'Glucose',\n",
              "       'Glucose', 'Glucose', 'Glucose', 'Glucose', 'Glucose', 'Glucose',\n",
              "       'Glucose', 'Glucose', 'Glucose', 'Glucose', 'Glucose', 'Glucose',\n",
              "       'Glucose', 'Glucose', 'Glucose', 'Glucose', 'Glucose', 'Glucose',\n",
              "       'Glucose', 'Glucose', 'Glucose', 'Glucose', 'Glucose', 'Glucose',\n",
              "       'Glucose', 'Glucose', 'Glucose', 'Glucose', 'Glucose', 'Glucose',\n",
              "       'Glucose', 'Glucose', 'Glucose', 'Glucose', 'Glucose', 'Glucose',\n",
              "       'Glucose', 'Glucose', 'Glucose', 'Glucose', 'Glucose', 'Glucose',\n",
              "       'Glucose', 'Glucose', 'Glucose', 'Glucose', 'Glucose', 'Glucose',\n",
              "       'Glucose', 'Glucose', 'Glucose', 'Glucose', 'Glucose', 'Glucose',\n",
              "       'Glucose', 'Glucose', 'Glucose', 'Glucose', 'Glucose', 'Glucose',\n",
              "       'Glucose', 'Glucose', 'Glucose', 'Glucose', 'Glucose', 'Glucose',\n",
              "       'Glucose', 'Glucose', 'Glucose', 'Glucose', 'Glucose', 'Glucose',\n",
              "       'Glucose', 'Glucose', 'Glucose', 'Glucose', 'Glucose', 'Glucose',\n",
              "       'Glucose', 'Glucose', 'Glucose', 'Glucose', 'Glucose', 'Glucose',\n",
              "       'Glucose', 'Glucose', 'Glucose', 'Glucose', 'Glucose', 'Glucose',\n",
              "       'Glucose', 'Glucose', 'Glucose', 'Glucose', 'Glucose', 'Glucose',\n",
              "       'Glucose', 'Glucose', 'Glucose', 'Glucose', 'Glucose', 'Glucose',\n",
              "       'Glucose', 'Glucose', 'Glucose', 'Glucose', 'Glucose', 'Glucose',\n",
              "       'Glucose', 'Glucose', 'Glucose', 'Glucose', 'Glucose', 'Glucose',\n",
              "       'Glucose', 'Glucose', 'Glucose', 'Glucose', 'Glucose', 'Glucose',\n",
              "       'Glucose', 'Glucose', 'Glucose', 'Glucose', 'Glucose', 'Glucose',\n",
              "       'Glucose', 'Glucose', 'Glucose', 'Glucose', 'Glucose', 'Glucose',\n",
              "       'Glucose', 'Glucose', 'Glucose', 'Glucose', 'Glucose', 'Glucose',\n",
              "       'Glucose', 'Glucose', 'Glucose', 'Glucose', 'Glucose', 'Glucose',\n",
              "       'Glucose', 'Glucose', 'Glucose', 'Glucose', 'Glucose', 'Glucose',\n",
              "       'Glucose', 'Glucose', 'Glucose', 'Glucose', 'Glucose', 'Glucose',\n",
              "       'Glucose', 'Glucose', 'Glucose', 'Glucose', 'Glucose', 'Glucose',\n",
              "       'Glucose', 'Glucose', 'Glucose', 'Glucose', 'Glucose', 'Glucose',\n",
              "       'Glucose', 'Glucose', 'Glucose', 'Glucose', 'Glucose', 'Glucose',\n",
              "       'Glucose', 'Glucose', 'Glucose', 'Glucose', 'Glucose', 'Glucose',\n",
              "       'Glucose', 'Glucose', 'Glucose', 'Glucose', 'Glucose', 'Glucose',\n",
              "       'Glucose', 'Glucose', 'Glucose', 'Glucose', 'Glucose', 'Glucose',\n",
              "       'Glucose', 'Glucose', 'Glucose', 'Glucose', 'Glucose', 'Glucose',\n",
              "       'Glucose', 'Glucose', 'Glucose', 'Glucose', 'Glucose', 'Glucose',\n",
              "       'Glucose', 'Glucose', 'Glucose', 'Glucose', 'Glucose', 'Glucose',\n",
              "       'Glucose', 'Glucose', 'Glucose', 'Glucose', 'Glucose', 'Glucose',\n",
              "       'Glucose', 'Glucose', 'Glucose', 'Glucose', 'Glucose', 'Glucose',\n",
              "       'Glucose', 'Glucose', 'Glucose', 'Glucose', 'Glucose', 'Glucose',\n",
              "       'Glucose', 'Glucose', 'Glucose', 'Glucose', 'Glucose', 'Glucose',\n",
              "       'Glucose', 'Glucose', 'Glucose', 'Glucose', 'Glucose', 'Glucose',\n",
              "       'Glucose', 'Glucose', 'Glucose', 'Glucose', 'Glucose', 'Glucose',\n",
              "       'Glucose', 'Glucose', 'Glucose', 'Glucose', 'Glucose', 'Glucose',\n",
              "       'Glucose', 'Glucose', 'Glucose', 'Glucose', 'Glucose', 'Glucose',\n",
              "       'Glucose', 'Glucose', 'Glucose', 'Glucose', 'Glucose', 'Glucose',\n",
              "       'Glucose', 'Glucose', 'Glucose', 'Glucose', 'Glucose', 'Glucose',\n",
              "       'Glucose', 'Glucose', 'Glucose', 'Glucose', 'Glucose', 'Glucose',\n",
              "       'Glucose', 'Glucose', 'Glucose', 'Glucose', 'Glucose', 'Glucose',\n",
              "       'Glucose', 'Glucose', 'Glucose', 'Glucose', 'Glucose', 'Glucose',\n",
              "       'Glucose', 'Glucose', 'Glucose', 'Glucose', 'Glucose', 'Glucose',\n",
              "       'Glucose', 'Glucose', 'Glucose', 'Glucose', 'Glucose', 'Glucose',\n",
              "       'Glucose', 'Glucose', 'Glucose', 'Glucose', 'Glucose', 'Glucose',\n",
              "       'Glucose', 'Glucose', 'Glucose', 'Glucose', 'Glucose', 'Glucose',\n",
              "       'Glucose', 'Glucose', 'Glucose', 'Glucose', 'Glucose', 'Glucose',\n",
              "       'Glucose', 'Glucose'], dtype=object)"
            ]
          },
          "metadata": {
            "tags": []
          },
          "execution_count": 22
        }
      ]
    },
    {
      "cell_type": "markdown",
      "metadata": {
        "id": "Rf_6loIIYkju"
      },
      "source": [
        "**This is the code for attaching the conc and Saccharide to a same matrix**"
      ]
    },
    {
      "cell_type": "code",
      "metadata": {
        "id": "ojipuGxrjvwL"
      },
      "source": [
        "labels=[]\n",
        "\n",
        "i=0\n",
        "while i<len(conc):\n",
        "  label=[]\n",
        "  label.append([conc[i]])\n",
        "  label.append([y[i]])\n",
        "  labels.append(label)\n",
        "  i+=1"
      ],
      "execution_count": null,
      "outputs": []
    },
    {
      "cell_type": "code",
      "metadata": {
        "id": "yvKD_Wcpkvtx"
      },
      "source": [
        "labels_f=np.array(labels)"
      ],
      "execution_count": null,
      "outputs": []
    },
    {
      "cell_type": "code",
      "metadata": {
        "id": "fI5tDVSP_Ta5",
        "colab": {
          "base_uri": "https://localhost:8080/",
          "height": 34
        },
        "outputId": "7fd76d42-fb4e-4b23-f641-bf1958ee19bd"
      },
      "source": [
        "labels_f.dtype"
      ],
      "execution_count": null,
      "outputs": [
        {
          "output_type": "execute_result",
          "data": {
            "text/plain": [
              "dtype('int64')"
            ]
          },
          "metadata": {
            "tags": []
          },
          "execution_count": 10
        }
      ]
    },
    {
      "cell_type": "code",
      "metadata": {
        "id": "8PtUq5A2k2zI"
      },
      "source": [
        "import tensorflow as tf\n",
        "from sklearn.model_selection import train_test_split"
      ],
      "execution_count": null,
      "outputs": []
    },
    {
      "cell_type": "code",
      "metadata": {
        "id": "nFVwpLPcfYvZ",
        "colab": {
          "base_uri": "https://localhost:8080/",
          "height": 34
        },
        "outputId": "9c17afd1-b877-450f-914e-b7bd292543c4"
      },
      "source": [
        "type(labels_f[0][0][0])"
      ],
      "execution_count": null,
      "outputs": [
        {
          "output_type": "execute_result",
          "data": {
            "text/plain": [
              "numpy.int64"
            ]
          },
          "metadata": {
            "tags": []
          },
          "execution_count": 28
        }
      ]
    },
    {
      "cell_type": "markdown",
      "metadata": {
        "id": "GWC9XtWFYxPk"
      },
      "source": [
        "**Define the testing and training data**"
      ]
    },
    {
      "cell_type": "code",
      "metadata": {
        "id": "hzW5ohrKk6Ig",
        "colab": {
          "base_uri": "https://localhost:8080/",
          "height": 34
        },
        "outputId": "c86de48e-90a5-43d7-fda5-e438000df380"
      },
      "source": [
        "X_train, X_test, Y_train, Y_test= train_test_split(X, labels_f,test_size=0.15)\n",
        "X_train.shape"
      ],
      "execution_count": null,
      "outputs": [
        {
          "output_type": "execute_result",
          "data": {
            "text/plain": [
              "(544, 7)"
            ]
          },
          "metadata": {
            "tags": []
          },
          "execution_count": 12
        }
      ]
    },
    {
      "cell_type": "code",
      "metadata": {
        "id": "o-heNgMMnRlR"
      },
      "source": [
        "from sklearn.preprocessing import StandardScaler\n",
        "sc = StandardScaler()\n",
        "X_train = sc.fit_transform(X_train)\n",
        "X_test = sc.transform(X_test)"
      ],
      "execution_count": null,
      "outputs": []
    },
    {
      "cell_type": "code",
      "metadata": {
        "id": "jEIy3Z8Fo8v4"
      },
      "source": [
        "Y_train_2=[Y_train[:,1],Y_train[:,0]]\n",
        "Y_test_2=[Y_test[:,1],Y_test[:,0]]"
      ],
      "execution_count": null,
      "outputs": []
    },
    {
      "cell_type": "code",
      "metadata": {
        "id": "_M1c7Swao94J",
        "colab": {
          "base_uri": "https://localhost:8080/",
          "height": 34
        },
        "outputId": "eb593168-57ca-40d4-c46a-d04078b44013"
      },
      "source": [
        "np.shape(Y_train_2)"
      ],
      "execution_count": null,
      "outputs": [
        {
          "output_type": "execute_result",
          "data": {
            "text/plain": [
              "(2, 544, 1)"
            ]
          },
          "metadata": {
            "tags": []
          },
          "execution_count": 15
        }
      ]
    },
    {
      "cell_type": "markdown",
      "metadata": {
        "id": "BsavJBNrY5IG"
      },
      "source": [
        "**Our neural network model**"
      ]
    },
    {
      "cell_type": "code",
      "metadata": {
        "id": "IOmLlckqnZeA"
      },
      "source": [
        "from tensorflow.keras.layers import Dropout\n",
        "from tensorflow.keras.layers import Dense\n",
        "from tensorflow.keras.layers import Input,Activation,Add\n",
        "from tensorflow.keras.models import Model\n",
        "from tensorflow.keras.optimizers import Adam\n",
        "import tensorflow as tf\n",
        "def model():\n",
        "  inputs = Input(shape=(7,))\n",
        "\n",
        "  dense_1= Dense(32,activation='relu')(inputs)\n",
        "  dense_2= Dense(32,activation='relu')(inputs)\n",
        "  dense_2= Dense(32,activation='relu')(inputs)\n",
        "  dense_2= Dense(32,activation='relu')(inputs)\n",
        "  drop_1=Dropout(0.2)(dense_1)\n",
        "  drop_2=Dropout(0.2)(dense_2)\n",
        "  output_1= Dense(1,activation=\"sigmoid\",name='saccharide_out')(drop_1)\n",
        "  output_2= Dense(1,activation=\"relu\",name='conc_out')(drop_2)\n",
        "  model = Model(inputs=[inputs], outputs=[output_1,output_2])\n",
        "  model.compile(loss=[\"binary_crossentropy\",\"mae\"], optimizer=\"Adam\",\n",
        "\tmetrics=[\"accuracy\"])\n",
        "  \n",
        "  return model"
      ],
      "execution_count": null,
      "outputs": []
    },
    {
      "cell_type": "code",
      "metadata": {
        "id": "rj04NpZ9fDWu"
      },
      "source": [
        "Model = model()"
      ],
      "execution_count": null,
      "outputs": []
    },
    {
      "cell_type": "code",
      "metadata": {
        "id": "p-p8z-OZ9YdN",
        "colab": {
          "base_uri": "https://localhost:8080/",
          "height": 386
        },
        "outputId": "bff643d8-4cec-422e-d1f2-43fb0e97ae60"
      },
      "source": [
        "Model.summary()"
      ],
      "execution_count": null,
      "outputs": [
        {
          "output_type": "stream",
          "text": [
            "Model: \"functional_1\"\n",
            "__________________________________________________________________________________________________\n",
            "Layer (type)                    Output Shape         Param #     Connected to                     \n",
            "==================================================================================================\n",
            "input_1 (InputLayer)            [(None, 7)]          0                                            \n",
            "__________________________________________________________________________________________________\n",
            "dense (Dense)                   (None, 32)           256         input_1[0][0]                    \n",
            "__________________________________________________________________________________________________\n",
            "dense_3 (Dense)                 (None, 32)           256         input_1[0][0]                    \n",
            "__________________________________________________________________________________________________\n",
            "dropout (Dropout)               (None, 32)           0           dense[0][0]                      \n",
            "__________________________________________________________________________________________________\n",
            "dropout_1 (Dropout)             (None, 32)           0           dense_3[0][0]                    \n",
            "__________________________________________________________________________________________________\n",
            "saccharide_out (Dense)          (None, 1)            33          dropout[0][0]                    \n",
            "__________________________________________________________________________________________________\n",
            "conc_out (Dense)                (None, 1)            33          dropout_1[0][0]                  \n",
            "==================================================================================================\n",
            "Total params: 578\n",
            "Trainable params: 578\n",
            "Non-trainable params: 0\n",
            "__________________________________________________________________________________________________\n"
          ],
          "name": "stdout"
        }
      ]
    },
    {
      "cell_type": "code",
      "metadata": {
        "id": "eII2EmDlems6"
      },
      "source": [
        "from tensorflow.keras.callbacks import ModelCheckpoint\n",
        "import tensorflow as tf"
      ],
      "execution_count": null,
      "outputs": []
    },
    {
      "cell_type": "markdown",
      "metadata": {
        "id": "8TGcWyp-Y9Zg"
      },
      "source": [
        "**Saving our weights of the model**"
      ]
    },
    {
      "cell_type": "code",
      "metadata": {
        "id": "PZBHA6qofB67"
      },
      "source": [
        "fle_s='saccharide.h5'\n",
        "checkpointer = ModelCheckpoint(fle_s, monitor='val_loss',verbose=1,save_best_only=True,save_weights_only=False, mode='auto',save_freq='epoch')\n",
        "Early_stop=tf.keras.callbacks.EarlyStopping(patience=75, monitor='val_loss',restore_best_weights=True),\n",
        "callback_list=[checkpointer,Early_stop]"
      ],
      "execution_count": null,
      "outputs": []
    },
    {
      "cell_type": "code",
      "metadata": {
        "id": "b8jQQPf_mF6c",
        "colab": {
          "base_uri": "https://localhost:8080/",
          "height": 34
        },
        "outputId": "05287277-7928-408f-8fdf-0853b03b0062"
      },
      "source": [
        "type(X_train[0])"
      ],
      "execution_count": null,
      "outputs": [
        {
          "output_type": "execute_result",
          "data": {
            "text/plain": [
              "numpy.ndarray"
            ]
          },
          "metadata": {
            "tags": []
          },
          "execution_count": 38
        }
      ]
    },
    {
      "cell_type": "markdown",
      "metadata": {
        "id": "Gy1G4euCZBRr"
      },
      "source": [
        "**Run the model**"
      ]
    },
    {
      "cell_type": "code",
      "metadata": {
        "id": "fxYOQ29zi5_U",
        "colab": {
          "base_uri": "https://localhost:8080/",
          "height": 1000
        },
        "outputId": "2fb162a4-1fdf-4f20-d19c-5d5e4254686f"
      },
      "source": [
        "History=Model.fit(X_train,Y_train_2,batch_size=512,validation_data=(X_test,Y_test_2),epochs=200,callbacks=[callback_list])"
      ],
      "execution_count": null,
      "outputs": [
        {
          "output_type": "stream",
          "text": [
            "Epoch 1/200\n",
            "1/2 [==============>...............] - ETA: 0s - loss: 27326.4512 - saccharide_out_loss: 0.6783 - conc_out_loss: 27325.7734 - saccharide_out_accuracy: 0.4922 - conc_out_accuracy: 0.0527\n",
            "Epoch 00001: val_loss improved from inf to 27566.66211, saving model to saccharide.h5\n",
            "2/2 [==============================] - 0s 132ms/step - loss: 27239.7324 - saccharide_out_loss: 0.6803 - conc_out_loss: 27239.0508 - saccharide_out_accuracy: 0.4871 - conc_out_accuracy: 0.0551 - val_loss: 27566.6621 - val_saccharide_out_loss: 0.6206 - val_conc_out_loss: 27566.0410 - val_saccharide_out_accuracy: 0.5938 - val_conc_out_accuracy: 0.0833\n",
            "Epoch 2/200\n",
            "1/2 [==============>...............] - ETA: 0s - loss: 27112.7754 - saccharide_out_loss: 0.6762 - conc_out_loss: 27112.0996 - saccharide_out_accuracy: 0.4805 - conc_out_accuracy: 0.0566\n",
            "Epoch 00002: val_loss improved from 27566.66211 to 27566.65820, saving model to saccharide.h5\n",
            "2/2 [==============================] - 0s 24ms/step - loss: 27239.7285 - saccharide_out_loss: 0.6757 - conc_out_loss: 27239.0508 - saccharide_out_accuracy: 0.4798 - conc_out_accuracy: 0.0570 - val_loss: 27566.6582 - val_saccharide_out_loss: 0.6165 - val_conc_out_loss: 27566.0410 - val_saccharide_out_accuracy: 0.6042 - val_conc_out_accuracy: 0.0833\n",
            "Epoch 3/200\n",
            "1/2 [==============>...............] - ETA: 0s - loss: 27116.5312 - saccharide_out_loss: 0.6594 - conc_out_loss: 27115.8711 - saccharide_out_accuracy: 0.5332 - conc_out_accuracy: 0.0586\n",
            "Epoch 00003: val_loss improved from 27566.65820 to 27566.65039, saving model to saccharide.h5\n",
            "2/2 [==============================] - 0s 20ms/step - loss: 27239.7129 - saccharide_out_loss: 0.6596 - conc_out_loss: 27239.0527 - saccharide_out_accuracy: 0.5312 - conc_out_accuracy: 0.0570 - val_loss: 27566.6504 - val_saccharide_out_loss: 0.6127 - val_conc_out_loss: 27566.0391 - val_saccharide_out_accuracy: 0.5938 - val_conc_out_accuracy: 0.0833\n",
            "Epoch 4/200\n",
            "1/2 [==============>...............] - ETA: 0s - loss: 27003.0488 - saccharide_out_loss: 0.6543 - conc_out_loss: 27002.3945 - saccharide_out_accuracy: 0.5234 - conc_out_accuracy: 0.0586\n",
            "Epoch 00004: val_loss did not improve from 27566.65039\n",
            "2/2 [==============================] - 0s 11ms/step - loss: 27239.6895 - saccharide_out_loss: 0.6552 - conc_out_loss: 27239.0352 - saccharide_out_accuracy: 0.5221 - conc_out_accuracy: 0.0570 - val_loss: 27566.6504 - val_saccharide_out_loss: 0.6093 - val_conc_out_loss: 27566.0410 - val_saccharide_out_accuracy: 0.5938 - val_conc_out_accuracy: 0.0833\n",
            "Epoch 5/200\n",
            "1/2 [==============>...............] - ETA: 0s - loss: 27366.7227 - saccharide_out_loss: 0.6475 - conc_out_loss: 27366.0742 - saccharide_out_accuracy: 0.5527 - conc_out_accuracy: 0.0586\n",
            "Epoch 00005: val_loss improved from 27566.65039 to 27566.63867, saving model to saccharide.h5\n",
            "2/2 [==============================] - 0s 24ms/step - loss: 27239.6895 - saccharide_out_loss: 0.6483 - conc_out_loss: 27239.0410 - saccharide_out_accuracy: 0.5515 - conc_out_accuracy: 0.0570 - val_loss: 27566.6387 - val_saccharide_out_loss: 0.6065 - val_conc_out_loss: 27566.0312 - val_saccharide_out_accuracy: 0.6042 - val_conc_out_accuracy: 0.0833\n",
            "Epoch 6/200\n",
            "1/2 [==============>...............] - ETA: 0s - loss: 27242.6699 - saccharide_out_loss: 0.6379 - conc_out_loss: 27242.0312 - saccharide_out_accuracy: 0.5547 - conc_out_accuracy: 0.0605\n",
            "Epoch 00006: val_loss improved from 27566.63867 to 27566.61914, saving model to saccharide.h5\n",
            "2/2 [==============================] - 0s 23ms/step - loss: 27239.6582 - saccharide_out_loss: 0.6376 - conc_out_loss: 27239.0176 - saccharide_out_accuracy: 0.5515 - conc_out_accuracy: 0.0570 - val_loss: 27566.6191 - val_saccharide_out_loss: 0.6044 - val_conc_out_loss: 27566.0176 - val_saccharide_out_accuracy: 0.5938 - val_conc_out_accuracy: 0.0833\n",
            "Epoch 7/200\n",
            "1/2 [==============>...............] - ETA: 0s - loss: 27030.7051 - saccharide_out_loss: 0.6393 - conc_out_loss: 27030.0664 - saccharide_out_accuracy: 0.5605 - conc_out_accuracy: 0.0488\n",
            "Epoch 00007: val_loss improved from 27566.61914 to 27566.59180, saving model to saccharide.h5\n",
            "2/2 [==============================] - 0s 25ms/step - loss: 27239.6465 - saccharide_out_loss: 0.6391 - conc_out_loss: 27239.0078 - saccharide_out_accuracy: 0.5625 - conc_out_accuracy: 0.0496 - val_loss: 27566.5918 - val_saccharide_out_loss: 0.6023 - val_conc_out_loss: 27565.9902 - val_saccharide_out_accuracy: 0.5833 - val_conc_out_accuracy: 0.0833\n",
            "Epoch 8/200\n",
            "1/2 [==============>...............] - ETA: 0s - loss: 27022.6602 - saccharide_out_loss: 0.6325 - conc_out_loss: 27022.0273 - saccharide_out_accuracy: 0.6055 - conc_out_accuracy: 0.0449\n",
            "Epoch 00008: val_loss improved from 27566.59180 to 27566.56250, saving model to saccharide.h5\n",
            "2/2 [==============================] - 0s 24ms/step - loss: 27239.6094 - saccharide_out_loss: 0.6304 - conc_out_loss: 27238.9785 - saccharide_out_accuracy: 0.6011 - conc_out_accuracy: 0.0460 - val_loss: 27566.5625 - val_saccharide_out_loss: 0.6003 - val_conc_out_loss: 27565.9629 - val_saccharide_out_accuracy: 0.6042 - val_conc_out_accuracy: 0.0833\n",
            "Epoch 9/200\n",
            "1/2 [==============>...............] - ETA: 0s - loss: 27495.5000 - saccharide_out_loss: 0.6173 - conc_out_loss: 27494.8828 - saccharide_out_accuracy: 0.6055 - conc_out_accuracy: 0.0527\n",
            "Epoch 00009: val_loss improved from 27566.56250 to 27566.52539, saving model to saccharide.h5\n",
            "2/2 [==============================] - 0s 23ms/step - loss: 27239.5801 - saccharide_out_loss: 0.6199 - conc_out_loss: 27238.9609 - saccharide_out_accuracy: 0.6103 - conc_out_accuracy: 0.0496 - val_loss: 27566.5254 - val_saccharide_out_loss: 0.5988 - val_conc_out_loss: 27565.9277 - val_saccharide_out_accuracy: 0.6354 - val_conc_out_accuracy: 0.0729\n",
            "Epoch 10/200\n",
            "1/2 [==============>...............] - ETA: 0s - loss: 27034.1816 - saccharide_out_loss: 0.6130 - conc_out_loss: 27033.5684 - saccharide_out_accuracy: 0.6621 - conc_out_accuracy: 0.0449\n",
            "Epoch 00010: val_loss improved from 27566.52539 to 27566.48242, saving model to saccharide.h5\n",
            "2/2 [==============================] - 0s 24ms/step - loss: 27239.5527 - saccharide_out_loss: 0.6141 - conc_out_loss: 27238.9395 - saccharide_out_accuracy: 0.6618 - conc_out_accuracy: 0.0478 - val_loss: 27566.4824 - val_saccharide_out_loss: 0.5974 - val_conc_out_loss: 27565.8848 - val_saccharide_out_accuracy: 0.6458 - val_conc_out_accuracy: 0.0729\n",
            "Epoch 11/200\n",
            "1/2 [==============>...............] - ETA: 0s - loss: 27373.3320 - saccharide_out_loss: 0.6159 - conc_out_loss: 27372.7168 - saccharide_out_accuracy: 0.6504 - conc_out_accuracy: 0.0352\n",
            "Epoch 00011: val_loss improved from 27566.48242 to 27566.43750, saving model to saccharide.h5\n",
            "2/2 [==============================] - 0s 23ms/step - loss: 27239.5234 - saccharide_out_loss: 0.6164 - conc_out_loss: 27238.9082 - saccharide_out_accuracy: 0.6471 - conc_out_accuracy: 0.0349 - val_loss: 27566.4375 - val_saccharide_out_loss: 0.5962 - val_conc_out_loss: 27565.8418 - val_saccharide_out_accuracy: 0.6250 - val_conc_out_accuracy: 0.0625\n",
            "Epoch 12/200\n",
            "1/2 [==============>...............] - ETA: 0s - loss: 27550.4160 - saccharide_out_loss: 0.6091 - conc_out_loss: 27549.8066 - saccharide_out_accuracy: 0.6426 - conc_out_accuracy: 0.0312\n",
            "Epoch 00012: val_loss improved from 27566.43750 to 27566.39062, saving model to saccharide.h5\n",
            "2/2 [==============================] - 0s 24ms/step - loss: 27239.4805 - saccharide_out_loss: 0.6093 - conc_out_loss: 27238.8711 - saccharide_out_accuracy: 0.6434 - conc_out_accuracy: 0.0312 - val_loss: 27566.3906 - val_saccharide_out_loss: 0.5955 - val_conc_out_loss: 27565.7949 - val_saccharide_out_accuracy: 0.6354 - val_conc_out_accuracy: 0.0417\n",
            "Epoch 13/200\n",
            "1/2 [==============>...............] - ETA: 0s - loss: 26289.5371 - saccharide_out_loss: 0.6124 - conc_out_loss: 26288.9238 - saccharide_out_accuracy: 0.6523 - conc_out_accuracy: 0.0410\n",
            "Epoch 00013: val_loss improved from 27566.39062 to 27566.34570, saving model to saccharide.h5\n",
            "2/2 [==============================] - 0s 26ms/step - loss: 27239.4375 - saccharide_out_loss: 0.6136 - conc_out_loss: 27238.8242 - saccharide_out_accuracy: 0.6507 - conc_out_accuracy: 0.0386 - val_loss: 27566.3457 - val_saccharide_out_loss: 0.5951 - val_conc_out_loss: 27565.7500 - val_saccharide_out_accuracy: 0.6042 - val_conc_out_accuracy: 0.0312\n",
            "Epoch 14/200\n",
            "1/2 [==============>...............] - ETA: 0s - loss: 27333.0352 - saccharide_out_loss: 0.6132 - conc_out_loss: 27332.4219 - saccharide_out_accuracy: 0.6602 - conc_out_accuracy: 0.0312\n",
            "Epoch 00014: val_loss improved from 27566.34570 to 27566.29492, saving model to saccharide.h5\n",
            "2/2 [==============================] - 0s 26ms/step - loss: 27239.4043 - saccharide_out_loss: 0.6165 - conc_out_loss: 27238.7871 - saccharide_out_accuracy: 0.6507 - conc_out_accuracy: 0.0312 - val_loss: 27566.2949 - val_saccharide_out_loss: 0.5944 - val_conc_out_loss: 27565.7012 - val_saccharide_out_accuracy: 0.6042 - val_conc_out_accuracy: 0.0104\n",
            "Epoch 15/200\n",
            "1/2 [==============>...............] - ETA: 0s - loss: 26961.8477 - saccharide_out_loss: 0.6125 - conc_out_loss: 26961.2344 - saccharide_out_accuracy: 0.6309 - conc_out_accuracy: 0.0117\n",
            "Epoch 00015: val_loss improved from 27566.29492 to 27566.24219, saving model to saccharide.h5\n",
            "2/2 [==============================] - 0s 22ms/step - loss: 27239.3613 - saccharide_out_loss: 0.6098 - conc_out_loss: 27238.7520 - saccharide_out_accuracy: 0.6379 - conc_out_accuracy: 0.0110 - val_loss: 27566.2422 - val_saccharide_out_loss: 0.5935 - val_conc_out_loss: 27565.6484 - val_saccharide_out_accuracy: 0.6042 - val_conc_out_accuracy: 0.0000e+00\n",
            "Epoch 16/200\n",
            "1/2 [==============>...............] - ETA: 0s - loss: 27523.3652 - saccharide_out_loss: 0.6029 - conc_out_loss: 27522.7617 - saccharide_out_accuracy: 0.6699 - conc_out_accuracy: 0.0176\n",
            "Epoch 00016: val_loss improved from 27566.24219 to 27566.19336, saving model to saccharide.h5\n",
            "2/2 [==============================] - 0s 24ms/step - loss: 27239.3184 - saccharide_out_loss: 0.6025 - conc_out_loss: 27238.7148 - saccharide_out_accuracy: 0.6728 - conc_out_accuracy: 0.0165 - val_loss: 27566.1934 - val_saccharide_out_loss: 0.5928 - val_conc_out_loss: 27565.5996 - val_saccharide_out_accuracy: 0.6042 - val_conc_out_accuracy: 0.0000e+00\n",
            "Epoch 17/200\n",
            "1/2 [==============>...............] - ETA: 0s - loss: 27483.7129 - saccharide_out_loss: 0.6003 - conc_out_loss: 27483.1133 - saccharide_out_accuracy: 0.6797 - conc_out_accuracy: 0.0059\n",
            "Epoch 00017: val_loss improved from 27566.19336 to 27566.13867, saving model to saccharide.h5\n",
            "2/2 [==============================] - 0s 29ms/step - loss: 27239.2676 - saccharide_out_loss: 0.6010 - conc_out_loss: 27238.6699 - saccharide_out_accuracy: 0.6783 - conc_out_accuracy: 0.0055 - val_loss: 27566.1387 - val_saccharide_out_loss: 0.5918 - val_conc_out_loss: 27565.5469 - val_saccharide_out_accuracy: 0.5938 - val_conc_out_accuracy: 0.0000e+00\n",
            "Epoch 18/200\n",
            "1/2 [==============>...............] - ETA: 0s - loss: 26947.2578 - saccharide_out_loss: 0.5938 - conc_out_loss: 26946.6641 - saccharide_out_accuracy: 0.6758 - conc_out_accuracy: 0.0059\n",
            "Epoch 00018: val_loss improved from 27566.13867 to 27566.08008, saving model to saccharide.h5\n",
            "2/2 [==============================] - 0s 24ms/step - loss: 27239.2109 - saccharide_out_loss: 0.5924 - conc_out_loss: 27238.6172 - saccharide_out_accuracy: 0.6710 - conc_out_accuracy: 0.0055 - val_loss: 27566.0801 - val_saccharide_out_loss: 0.5903 - val_conc_out_loss: 27565.4902 - val_saccharide_out_accuracy: 0.6042 - val_conc_out_accuracy: 0.0000e+00\n",
            "Epoch 19/200\n",
            "1/2 [==============>...............] - ETA: 0s - loss: 27169.7266 - saccharide_out_loss: 0.6019 - conc_out_loss: 27169.1250 - saccharide_out_accuracy: 0.6777 - conc_out_accuracy: 0.0059\n",
            "Epoch 00019: val_loss improved from 27566.08008 to 27566.02539, saving model to saccharide.h5\n",
            "2/2 [==============================] - 0s 23ms/step - loss: 27239.1875 - saccharide_out_loss: 0.5983 - conc_out_loss: 27238.5879 - saccharide_out_accuracy: 0.6820 - conc_out_accuracy: 0.0055 - val_loss: 27566.0254 - val_saccharide_out_loss: 0.5886 - val_conc_out_loss: 27565.4375 - val_saccharide_out_accuracy: 0.6042 - val_conc_out_accuracy: 0.0000e+00\n",
            "Epoch 20/200\n",
            "1/2 [==============>...............] - ETA: 0s - loss: 26989.9941 - saccharide_out_loss: 0.5978 - conc_out_loss: 26989.3965 - saccharide_out_accuracy: 0.6836 - conc_out_accuracy: 0.0020\n",
            "Epoch 00020: val_loss improved from 27566.02539 to 27565.96875, saving model to saccharide.h5\n",
            "2/2 [==============================] - 0s 20ms/step - loss: 27239.1250 - saccharide_out_loss: 0.5960 - conc_out_loss: 27238.5293 - saccharide_out_accuracy: 0.6838 - conc_out_accuracy: 0.0018 - val_loss: 27565.9688 - val_saccharide_out_loss: 0.5869 - val_conc_out_loss: 27565.3828 - val_saccharide_out_accuracy: 0.6042 - val_conc_out_accuracy: 0.0000e+00\n",
            "Epoch 21/200\n",
            "1/2 [==============>...............] - ETA: 0s - loss: 27280.3125 - saccharide_out_loss: 0.5945 - conc_out_loss: 27279.7188 - saccharide_out_accuracy: 0.6855 - conc_out_accuracy: 0.0059\n",
            "Epoch 00021: val_loss improved from 27565.96875 to 27565.91406, saving model to saccharide.h5\n",
            "2/2 [==============================] - 0s 21ms/step - loss: 27239.0703 - saccharide_out_loss: 0.5917 - conc_out_loss: 27238.4805 - saccharide_out_accuracy: 0.6875 - conc_out_accuracy: 0.0074 - val_loss: 27565.9141 - val_saccharide_out_loss: 0.5855 - val_conc_out_loss: 27565.3281 - val_saccharide_out_accuracy: 0.6042 - val_conc_out_accuracy: 0.0000e+00\n",
            "Epoch 22/200\n",
            "1/2 [==============>...............] - ETA: 0s - loss: 26837.6699 - saccharide_out_loss: 0.5801 - conc_out_loss: 26837.0898 - saccharide_out_accuracy: 0.6895 - conc_out_accuracy: 0.0000e+00\n",
            "Epoch 00022: val_loss improved from 27565.91406 to 27565.85742, saving model to saccharide.h5\n",
            "2/2 [==============================] - 0s 21ms/step - loss: 27239.0039 - saccharide_out_loss: 0.5792 - conc_out_loss: 27238.4238 - saccharide_out_accuracy: 0.6949 - conc_out_accuracy: 0.0000e+00 - val_loss: 27565.8574 - val_saccharide_out_loss: 0.5845 - val_conc_out_loss: 27565.2734 - val_saccharide_out_accuracy: 0.6042 - val_conc_out_accuracy: 0.0000e+00\n",
            "Epoch 23/200\n",
            "1/2 [==============>...............] - ETA: 0s - loss: 27591.5703 - saccharide_out_loss: 0.5942 - conc_out_loss: 27590.9766 - saccharide_out_accuracy: 0.6758 - conc_out_accuracy: 0.0000e+00\n",
            "Epoch 00023: val_loss improved from 27565.85742 to 27565.80469, saving model to saccharide.h5\n",
            "2/2 [==============================] - 0s 21ms/step - loss: 27238.9746 - saccharide_out_loss: 0.5952 - conc_out_loss: 27238.3789 - saccharide_out_accuracy: 0.6765 - conc_out_accuracy: 0.0000e+00 - val_loss: 27565.8047 - val_saccharide_out_loss: 0.5836 - val_conc_out_loss: 27565.2207 - val_saccharide_out_accuracy: 0.6042 - val_conc_out_accuracy: 0.0000e+00\n",
            "Epoch 24/200\n",
            "1/2 [==============>...............] - ETA: 0s - loss: 27139.1875 - saccharide_out_loss: 0.5808 - conc_out_loss: 27138.6074 - saccharide_out_accuracy: 0.7070 - conc_out_accuracy: 0.0000e+00\n",
            "Epoch 00024: val_loss improved from 27565.80469 to 27565.75195, saving model to saccharide.h5\n",
            "2/2 [==============================] - 0s 22ms/step - loss: 27238.9180 - saccharide_out_loss: 0.5788 - conc_out_loss: 27238.3379 - saccharide_out_accuracy: 0.7077 - conc_out_accuracy: 0.0000e+00 - val_loss: 27565.7520 - val_saccharide_out_loss: 0.5825 - val_conc_out_loss: 27565.1699 - val_saccharide_out_accuracy: 0.6042 - val_conc_out_accuracy: 0.0000e+00\n",
            "Epoch 25/200\n",
            "1/2 [==============>...............] - ETA: 0s - loss: 27677.5996 - saccharide_out_loss: 0.5851 - conc_out_loss: 27677.0137 - saccharide_out_accuracy: 0.6934 - conc_out_accuracy: 0.0000e+00\n",
            "Epoch 00025: val_loss improved from 27565.75195 to 27565.69727, saving model to saccharide.h5\n",
            "2/2 [==============================] - 0s 25ms/step - loss: 27238.8887 - saccharide_out_loss: 0.5831 - conc_out_loss: 27238.3047 - saccharide_out_accuracy: 0.7022 - conc_out_accuracy: 0.0000e+00 - val_loss: 27565.6973 - val_saccharide_out_loss: 0.5818 - val_conc_out_loss: 27565.1152 - val_saccharide_out_accuracy: 0.6042 - val_conc_out_accuracy: 0.0000e+00\n",
            "Epoch 26/200\n",
            "1/2 [==============>...............] - ETA: 0s - loss: 27292.7793 - saccharide_out_loss: 0.5824 - conc_out_loss: 27292.1973 - saccharide_out_accuracy: 0.6641 - conc_out_accuracy: 0.0000e+00\n",
            "Epoch 00026: val_loss improved from 27565.69727 to 27565.64648, saving model to saccharide.h5\n",
            "2/2 [==============================] - 0s 23ms/step - loss: 27238.8320 - saccharide_out_loss: 0.5862 - conc_out_loss: 27238.2461 - saccharide_out_accuracy: 0.6654 - conc_out_accuracy: 0.0000e+00 - val_loss: 27565.6465 - val_saccharide_out_loss: 0.5817 - val_conc_out_loss: 27565.0625 - val_saccharide_out_accuracy: 0.6042 - val_conc_out_accuracy: 0.0000e+00\n",
            "Epoch 27/200\n",
            "1/2 [==============>...............] - ETA: 0s - loss: 26917.7617 - saccharide_out_loss: 0.5785 - conc_out_loss: 26917.1836 - saccharide_out_accuracy: 0.6836 - conc_out_accuracy: 0.0000e+00\n",
            "Epoch 00027: val_loss improved from 27565.64648 to 27565.59180, saving model to saccharide.h5\n",
            "2/2 [==============================] - 0s 24ms/step - loss: 27238.7988 - saccharide_out_loss: 0.5794 - conc_out_loss: 27238.2207 - saccharide_out_accuracy: 0.6857 - conc_out_accuracy: 0.0000e+00 - val_loss: 27565.5918 - val_saccharide_out_loss: 0.5814 - val_conc_out_loss: 27565.0098 - val_saccharide_out_accuracy: 0.5938 - val_conc_out_accuracy: 0.0000e+00\n",
            "Epoch 28/200\n",
            "1/2 [==============>...............] - ETA: 0s - loss: 27332.2695 - saccharide_out_loss: 0.5754 - conc_out_loss: 27331.6934 - saccharide_out_accuracy: 0.7148 - conc_out_accuracy: 0.0000e+00\n",
            "Epoch 00028: val_loss improved from 27565.59180 to 27565.53906, saving model to saccharide.h5\n",
            "2/2 [==============================] - 0s 23ms/step - loss: 27238.7344 - saccharide_out_loss: 0.5794 - conc_out_loss: 27238.1562 - saccharide_out_accuracy: 0.7077 - conc_out_accuracy: 0.0000e+00 - val_loss: 27565.5391 - val_saccharide_out_loss: 0.5811 - val_conc_out_loss: 27564.9590 - val_saccharide_out_accuracy: 0.5938 - val_conc_out_accuracy: 0.0000e+00\n",
            "Epoch 29/200\n",
            "1/2 [==============>...............] - ETA: 0s - loss: 27420.0293 - saccharide_out_loss: 0.5801 - conc_out_loss: 27419.4492 - saccharide_out_accuracy: 0.7012 - conc_out_accuracy: 0.0000e+00\n",
            "Epoch 00029: val_loss improved from 27565.53906 to 27565.48633, saving model to saccharide.h5\n",
            "2/2 [==============================] - 0s 25ms/step - loss: 27238.6953 - saccharide_out_loss: 0.5808 - conc_out_loss: 27238.1152 - saccharide_out_accuracy: 0.7022 - conc_out_accuracy: 0.0000e+00 - val_loss: 27565.4863 - val_saccharide_out_loss: 0.5806 - val_conc_out_loss: 27564.9062 - val_saccharide_out_accuracy: 0.5938 - val_conc_out_accuracy: 0.0000e+00\n",
            "Epoch 30/200\n",
            "1/2 [==============>...............] - ETA: 0s - loss: 26854.1660 - saccharide_out_loss: 0.5898 - conc_out_loss: 26853.5762 - saccharide_out_accuracy: 0.6934 - conc_out_accuracy: 0.0000e+00\n",
            "Epoch 00030: val_loss improved from 27565.48633 to 27565.43164, saving model to saccharide.h5\n",
            "2/2 [==============================] - 0s 24ms/step - loss: 27238.6660 - saccharide_out_loss: 0.5840 - conc_out_loss: 27238.0801 - saccharide_out_accuracy: 0.7022 - conc_out_accuracy: 0.0000e+00 - val_loss: 27565.4316 - val_saccharide_out_loss: 0.5799 - val_conc_out_loss: 27564.8535 - val_saccharide_out_accuracy: 0.5938 - val_conc_out_accuracy: 0.0000e+00\n",
            "Epoch 31/200\n",
            "1/2 [==============>...............] - ETA: 0s - loss: 27287.5098 - saccharide_out_loss: 0.5754 - conc_out_loss: 27286.9336 - saccharide_out_accuracy: 0.7012 - conc_out_accuracy: 0.0000e+00\n",
            "Epoch 00031: val_loss improved from 27565.43164 to 27565.38086, saving model to saccharide.h5\n",
            "2/2 [==============================] - 0s 23ms/step - loss: 27238.6152 - saccharide_out_loss: 0.5759 - conc_out_loss: 27238.0410 - saccharide_out_accuracy: 0.6985 - conc_out_accuracy: 0.0000e+00 - val_loss: 27565.3809 - val_saccharide_out_loss: 0.5790 - val_conc_out_loss: 27564.8027 - val_saccharide_out_accuracy: 0.5938 - val_conc_out_accuracy: 0.0000e+00\n",
            "Epoch 32/200\n",
            "1/2 [==============>...............] - ETA: 0s - loss: 26788.4727 - saccharide_out_loss: 0.5698 - conc_out_loss: 26787.9023 - saccharide_out_accuracy: 0.7070 - conc_out_accuracy: 0.0000e+00\n",
            "Epoch 00032: val_loss improved from 27565.38086 to 27565.32617, saving model to saccharide.h5\n",
            "2/2 [==============================] - 0s 26ms/step - loss: 27238.5703 - saccharide_out_loss: 0.5641 - conc_out_loss: 27238.0059 - saccharide_out_accuracy: 0.7114 - conc_out_accuracy: 0.0000e+00 - val_loss: 27565.3262 - val_saccharide_out_loss: 0.5777 - val_conc_out_loss: 27564.7480 - val_saccharide_out_accuracy: 0.6042 - val_conc_out_accuracy: 0.0000e+00\n",
            "Epoch 33/200\n",
            "1/2 [==============>...............] - ETA: 0s - loss: 27033.1035 - saccharide_out_loss: 0.5686 - conc_out_loss: 27032.5352 - saccharide_out_accuracy: 0.7227 - conc_out_accuracy: 0.0020\n",
            "Epoch 00033: val_loss improved from 27565.32617 to 27565.27148, saving model to saccharide.h5\n",
            "2/2 [==============================] - 0s 23ms/step - loss: 27238.5078 - saccharide_out_loss: 0.5677 - conc_out_loss: 27237.9395 - saccharide_out_accuracy: 0.7243 - conc_out_accuracy: 0.0018 - val_loss: 27565.2715 - val_saccharide_out_loss: 0.5757 - val_conc_out_loss: 27564.6934 - val_saccharide_out_accuracy: 0.6146 - val_conc_out_accuracy: 0.0000e+00\n",
            "Epoch 34/200\n",
            "1/2 [==============>...............] - ETA: 0s - loss: 27040.2852 - saccharide_out_loss: 0.5781 - conc_out_loss: 27039.7070 - saccharide_out_accuracy: 0.6953 - conc_out_accuracy: 0.0000e+00\n",
            "Epoch 00034: val_loss improved from 27565.27148 to 27565.21094, saving model to saccharide.h5\n",
            "2/2 [==============================] - 0s 22ms/step - loss: 27238.4629 - saccharide_out_loss: 0.5777 - conc_out_loss: 27237.8867 - saccharide_out_accuracy: 0.6985 - conc_out_accuracy: 0.0000e+00 - val_loss: 27565.2109 - val_saccharide_out_loss: 0.5732 - val_conc_out_loss: 27564.6387 - val_saccharide_out_accuracy: 0.6146 - val_conc_out_accuracy: 0.0000e+00\n",
            "Epoch 35/200\n",
            "1/2 [==============>...............] - ETA: 0s - loss: 27070.4727 - saccharide_out_loss: 0.5560 - conc_out_loss: 27069.9160 - saccharide_out_accuracy: 0.7246 - conc_out_accuracy: 0.0000e+00\n",
            "Epoch 00035: val_loss improved from 27565.21094 to 27565.15430, saving model to saccharide.h5\n",
            "2/2 [==============================] - 0s 26ms/step - loss: 27238.4043 - saccharide_out_loss: 0.5619 - conc_out_loss: 27237.8418 - saccharide_out_accuracy: 0.7151 - conc_out_accuracy: 0.0000e+00 - val_loss: 27565.1543 - val_saccharide_out_loss: 0.5700 - val_conc_out_loss: 27564.5840 - val_saccharide_out_accuracy: 0.6146 - val_conc_out_accuracy: 0.0000e+00\n",
            "Epoch 36/200\n",
            "1/2 [==============>...............] - ETA: 0s - loss: 27208.8750 - saccharide_out_loss: 0.5709 - conc_out_loss: 27208.3047 - saccharide_out_accuracy: 0.6934 - conc_out_accuracy: 0.0000e+00\n",
            "Epoch 00036: val_loss improved from 27565.15430 to 27565.09180, saving model to saccharide.h5\n",
            "2/2 [==============================] - 0s 25ms/step - loss: 27238.3359 - saccharide_out_loss: 0.5658 - conc_out_loss: 27237.7695 - saccharide_out_accuracy: 0.7022 - conc_out_accuracy: 0.0000e+00 - val_loss: 27565.0918 - val_saccharide_out_loss: 0.5670 - val_conc_out_loss: 27564.5254 - val_saccharide_out_accuracy: 0.6146 - val_conc_out_accuracy: 0.0000e+00\n",
            "Epoch 37/200\n",
            "1/2 [==============>...............] - ETA: 0s - loss: 27479.5938 - saccharide_out_loss: 0.5547 - conc_out_loss: 27479.0391 - saccharide_out_accuracy: 0.7148 - conc_out_accuracy: 0.0000e+00\n",
            "Epoch 00037: val_loss improved from 27565.09180 to 27565.03711, saving model to saccharide.h5\n",
            "2/2 [==============================] - 0s 24ms/step - loss: 27238.3066 - saccharide_out_loss: 0.5565 - conc_out_loss: 27237.7500 - saccharide_out_accuracy: 0.7132 - conc_out_accuracy: 0.0000e+00 - val_loss: 27565.0371 - val_saccharide_out_loss: 0.5647 - val_conc_out_loss: 27564.4707 - val_saccharide_out_accuracy: 0.6146 - val_conc_out_accuracy: 0.0000e+00\n",
            "Epoch 38/200\n",
            "1/2 [==============>...............] - ETA: 0s - loss: 26957.6309 - saccharide_out_loss: 0.5521 - conc_out_loss: 26957.0781 - saccharide_out_accuracy: 0.7363 - conc_out_accuracy: 0.0000e+00\n",
            "Epoch 00038: val_loss improved from 27565.03711 to 27564.97852, saving model to saccharide.h5\n",
            "2/2 [==============================] - 0s 24ms/step - loss: 27238.2480 - saccharide_out_loss: 0.5516 - conc_out_loss: 27237.6953 - saccharide_out_accuracy: 0.7335 - conc_out_accuracy: 0.0000e+00 - val_loss: 27564.9785 - val_saccharide_out_loss: 0.5625 - val_conc_out_loss: 27564.4160 - val_saccharide_out_accuracy: 0.6250 - val_conc_out_accuracy: 0.0000e+00\n",
            "Epoch 39/200\n",
            "1/2 [==============>...............] - ETA: 0s - loss: 27090.5430 - saccharide_out_loss: 0.5506 - conc_out_loss: 27089.9922 - saccharide_out_accuracy: 0.7285 - conc_out_accuracy: 0.0000e+00\n",
            "Epoch 00039: val_loss improved from 27564.97852 to 27564.91602, saving model to saccharide.h5\n",
            "2/2 [==============================] - 0s 24ms/step - loss: 27238.1680 - saccharide_out_loss: 0.5528 - conc_out_loss: 27237.6133 - saccharide_out_accuracy: 0.7243 - conc_out_accuracy: 0.0000e+00 - val_loss: 27564.9160 - val_saccharide_out_loss: 0.5607 - val_conc_out_loss: 27564.3574 - val_saccharide_out_accuracy: 0.6250 - val_conc_out_accuracy: 0.0000e+00\n",
            "Epoch 40/200\n",
            "1/2 [==============>...............] - ETA: 0s - loss: 27176.4297 - saccharide_out_loss: 0.5566 - conc_out_loss: 27175.8730 - saccharide_out_accuracy: 0.7227 - conc_out_accuracy: 0.0000e+00\n",
            "Epoch 00040: val_loss improved from 27564.91602 to 27564.85742, saving model to saccharide.h5\n",
            "2/2 [==============================] - 0s 24ms/step - loss: 27238.1172 - saccharide_out_loss: 0.5588 - conc_out_loss: 27237.5586 - saccharide_out_accuracy: 0.7224 - conc_out_accuracy: 0.0000e+00 - val_loss: 27564.8574 - val_saccharide_out_loss: 0.5592 - val_conc_out_loss: 27564.2988 - val_saccharide_out_accuracy: 0.6354 - val_conc_out_accuracy: 0.0000e+00\n",
            "Epoch 41/200\n",
            "1/2 [==============>...............] - ETA: 0s - loss: 27351.2168 - saccharide_out_loss: 0.5579 - conc_out_loss: 27350.6582 - saccharide_out_accuracy: 0.7188 - conc_out_accuracy: 0.0000e+00\n",
            "Epoch 00041: val_loss improved from 27564.85742 to 27564.80273, saving model to saccharide.h5\n",
            "2/2 [==============================] - 0s 26ms/step - loss: 27238.1309 - saccharide_out_loss: 0.5575 - conc_out_loss: 27237.5742 - saccharide_out_accuracy: 0.7224 - conc_out_accuracy: 0.0000e+00 - val_loss: 27564.8027 - val_saccharide_out_loss: 0.5581 - val_conc_out_loss: 27564.2422 - val_saccharide_out_accuracy: 0.6354 - val_conc_out_accuracy: 0.0000e+00\n",
            "Epoch 42/200\n",
            "1/2 [==============>...............] - ETA: 0s - loss: 27570.3203 - saccharide_out_loss: 0.5510 - conc_out_loss: 27569.7695 - saccharide_out_accuracy: 0.6973 - conc_out_accuracy: 0.0000e+00\n",
            "Epoch 00042: val_loss improved from 27564.80273 to 27564.74023, saving model to saccharide.h5\n",
            "2/2 [==============================] - 0s 27ms/step - loss: 27238.0566 - saccharide_out_loss: 0.5516 - conc_out_loss: 27237.5059 - saccharide_out_accuracy: 0.6967 - conc_out_accuracy: 0.0000e+00 - val_loss: 27564.7402 - val_saccharide_out_loss: 0.5572 - val_conc_out_loss: 27564.1816 - val_saccharide_out_accuracy: 0.6354 - val_conc_out_accuracy: 0.0000e+00\n",
            "Epoch 43/200\n",
            "1/2 [==============>...............] - ETA: 0s - loss: 27772.3984 - saccharide_out_loss: 0.5432 - conc_out_loss: 27771.8555 - saccharide_out_accuracy: 0.7363 - conc_out_accuracy: 0.0000e+00\n",
            "Epoch 00043: val_loss improved from 27564.74023 to 27564.68164, saving model to saccharide.h5\n",
            "2/2 [==============================] - 0s 25ms/step - loss: 27238.0137 - saccharide_out_loss: 0.5497 - conc_out_loss: 27237.4629 - saccharide_out_accuracy: 0.7261 - conc_out_accuracy: 0.0000e+00 - val_loss: 27564.6816 - val_saccharide_out_loss: 0.5557 - val_conc_out_loss: 27564.1250 - val_saccharide_out_accuracy: 0.6250 - val_conc_out_accuracy: 0.0000e+00\n",
            "Epoch 44/200\n",
            "1/2 [==============>...............] - ETA: 0s - loss: 27187.3770 - saccharide_out_loss: 0.5501 - conc_out_loss: 27186.8262 - saccharide_out_accuracy: 0.7227 - conc_out_accuracy: 0.0000e+00\n",
            "Epoch 00044: val_loss improved from 27564.68164 to 27564.62500, saving model to saccharide.h5\n",
            "2/2 [==============================] - 0s 22ms/step - loss: 27237.9219 - saccharide_out_loss: 0.5515 - conc_out_loss: 27237.3691 - saccharide_out_accuracy: 0.7188 - conc_out_accuracy: 0.0000e+00 - val_loss: 27564.6250 - val_saccharide_out_loss: 0.5540 - val_conc_out_loss: 27564.0703 - val_saccharide_out_accuracy: 0.6250 - val_conc_out_accuracy: 0.0000e+00\n",
            "Epoch 45/200\n",
            "1/2 [==============>...............] - ETA: 0s - loss: 26944.9863 - saccharide_out_loss: 0.5523 - conc_out_loss: 26944.4336 - saccharide_out_accuracy: 0.7168 - conc_out_accuracy: 0.0000e+00\n",
            "Epoch 00045: val_loss improved from 27564.62500 to 27564.56836, saving model to saccharide.h5\n",
            "2/2 [==============================] - 0s 24ms/step - loss: 27237.8711 - saccharide_out_loss: 0.5464 - conc_out_loss: 27237.3242 - saccharide_out_accuracy: 0.7243 - conc_out_accuracy: 0.0000e+00 - val_loss: 27564.5684 - val_saccharide_out_loss: 0.5524 - val_conc_out_loss: 27564.0137 - val_saccharide_out_accuracy: 0.6250 - val_conc_out_accuracy: 0.0000e+00\n",
            "Epoch 46/200\n",
            "1/2 [==============>...............] - ETA: 0s - loss: 27340.5098 - saccharide_out_loss: 0.5484 - conc_out_loss: 27339.9609 - saccharide_out_accuracy: 0.7168 - conc_out_accuracy: 0.0000e+00\n",
            "Epoch 00046: val_loss improved from 27564.56836 to 27564.50586, saving model to saccharide.h5\n",
            "2/2 [==============================] - 0s 23ms/step - loss: 27237.8672 - saccharide_out_loss: 0.5492 - conc_out_loss: 27237.3184 - saccharide_out_accuracy: 0.7151 - conc_out_accuracy: 0.0000e+00 - val_loss: 27564.5059 - val_saccharide_out_loss: 0.5508 - val_conc_out_loss: 27563.9531 - val_saccharide_out_accuracy: 0.6354 - val_conc_out_accuracy: 0.0000e+00\n",
            "Epoch 47/200\n",
            "1/2 [==============>...............] - ETA: 0s - loss: 26682.7500 - saccharide_out_loss: 0.5421 - conc_out_loss: 26682.2070 - saccharide_out_accuracy: 0.7266 - conc_out_accuracy: 0.0000e+00\n",
            "Epoch 00047: val_loss improved from 27564.50586 to 27564.44336, saving model to saccharide.h5\n",
            "2/2 [==============================] - 0s 23ms/step - loss: 27237.7871 - saccharide_out_loss: 0.5419 - conc_out_loss: 27237.2422 - saccharide_out_accuracy: 0.7298 - conc_out_accuracy: 0.0000e+00 - val_loss: 27564.4434 - val_saccharide_out_loss: 0.5491 - val_conc_out_loss: 27563.8926 - val_saccharide_out_accuracy: 0.6458 - val_conc_out_accuracy: 0.0000e+00\n",
            "Epoch 48/200\n",
            "1/2 [==============>...............] - ETA: 0s - loss: 26370.4609 - saccharide_out_loss: 0.5441 - conc_out_loss: 26369.9160 - saccharide_out_accuracy: 0.7266 - conc_out_accuracy: 0.0000e+00\n",
            "Epoch 00048: val_loss improved from 27564.44336 to 27564.37695, saving model to saccharide.h5\n",
            "2/2 [==============================] - 0s 25ms/step - loss: 27237.7109 - saccharide_out_loss: 0.5359 - conc_out_loss: 27237.1738 - saccharide_out_accuracy: 0.7353 - conc_out_accuracy: 0.0000e+00 - val_loss: 27564.3770 - val_saccharide_out_loss: 0.5477 - val_conc_out_loss: 27563.8301 - val_saccharide_out_accuracy: 0.6562 - val_conc_out_accuracy: 0.0000e+00\n",
            "Epoch 49/200\n",
            "1/2 [==============>...............] - ETA: 0s - loss: 27148.8613 - saccharide_out_loss: 0.5414 - conc_out_loss: 27148.3203 - saccharide_out_accuracy: 0.7129 - conc_out_accuracy: 0.0000e+00\n",
            "Epoch 00049: val_loss improved from 27564.37695 to 27564.31836, saving model to saccharide.h5\n",
            "2/2 [==============================] - 0s 24ms/step - loss: 27237.7109 - saccharide_out_loss: 0.5427 - conc_out_loss: 27237.1699 - saccharide_out_accuracy: 0.7114 - conc_out_accuracy: 0.0000e+00 - val_loss: 27564.3184 - val_saccharide_out_loss: 0.5468 - val_conc_out_loss: 27563.7715 - val_saccharide_out_accuracy: 0.6562 - val_conc_out_accuracy: 0.0000e+00\n",
            "Epoch 50/200\n",
            "1/2 [==============>...............] - ETA: 0s - loss: 26714.3945 - saccharide_out_loss: 0.5357 - conc_out_loss: 26713.8594 - saccharide_out_accuracy: 0.7383 - conc_out_accuracy: 0.0000e+00\n",
            "Epoch 00050: val_loss improved from 27564.31836 to 27564.25586, saving model to saccharide.h5\n",
            "2/2 [==============================] - 0s 24ms/step - loss: 27237.5938 - saccharide_out_loss: 0.5355 - conc_out_loss: 27237.0586 - saccharide_out_accuracy: 0.7390 - conc_out_accuracy: 0.0000e+00 - val_loss: 27564.2559 - val_saccharide_out_loss: 0.5463 - val_conc_out_loss: 27563.7090 - val_saccharide_out_accuracy: 0.6562 - val_conc_out_accuracy: 0.0000e+00\n",
            "Epoch 51/200\n",
            "1/2 [==============>...............] - ETA: 0s - loss: 27413.0000 - saccharide_out_loss: 0.5407 - conc_out_loss: 27412.4590 - saccharide_out_accuracy: 0.7012 - conc_out_accuracy: 0.0000e+00\n",
            "Epoch 00051: val_loss improved from 27564.25586 to 27564.19336, saving model to saccharide.h5\n",
            "2/2 [==============================] - 0s 24ms/step - loss: 27237.5625 - saccharide_out_loss: 0.5382 - conc_out_loss: 27237.0234 - saccharide_out_accuracy: 0.7096 - conc_out_accuracy: 0.0000e+00 - val_loss: 27564.1934 - val_saccharide_out_loss: 0.5459 - val_conc_out_loss: 27563.6465 - val_saccharide_out_accuracy: 0.6458 - val_conc_out_accuracy: 0.0000e+00\n",
            "Epoch 52/200\n",
            "1/2 [==============>...............] - ETA: 0s - loss: 27386.0098 - saccharide_out_loss: 0.5344 - conc_out_loss: 27385.4746 - saccharide_out_accuracy: 0.7168 - conc_out_accuracy: 0.0000e+00\n",
            "Epoch 00052: val_loss improved from 27564.19336 to 27564.12500, saving model to saccharide.h5\n",
            "2/2 [==============================] - 0s 26ms/step - loss: 27237.5000 - saccharide_out_loss: 0.5375 - conc_out_loss: 27236.9609 - saccharide_out_accuracy: 0.7151 - conc_out_accuracy: 0.0000e+00 - val_loss: 27564.1250 - val_saccharide_out_loss: 0.5454 - val_conc_out_loss: 27563.5801 - val_saccharide_out_accuracy: 0.6458 - val_conc_out_accuracy: 0.0000e+00\n",
            "Epoch 53/200\n",
            "1/2 [==============>...............] - ETA: 0s - loss: 26866.8477 - saccharide_out_loss: 0.5388 - conc_out_loss: 26866.3086 - saccharide_out_accuracy: 0.7266 - conc_out_accuracy: 0.0000e+00\n",
            "Epoch 00053: val_loss improved from 27564.12500 to 27564.06055, saving model to saccharide.h5\n",
            "2/2 [==============================] - 0s 23ms/step - loss: 27237.4531 - saccharide_out_loss: 0.5374 - conc_out_loss: 27236.9160 - saccharide_out_accuracy: 0.7335 - conc_out_accuracy: 0.0000e+00 - val_loss: 27564.0605 - val_saccharide_out_loss: 0.5448 - val_conc_out_loss: 27563.5156 - val_saccharide_out_accuracy: 0.6458 - val_conc_out_accuracy: 0.0000e+00\n",
            "Epoch 54/200\n",
            "1/2 [==============>...............] - ETA: 0s - loss: 27753.1250 - saccharide_out_loss: 0.5331 - conc_out_loss: 27752.5918 - saccharide_out_accuracy: 0.7051 - conc_out_accuracy: 0.0000e+00\n",
            "Epoch 00054: val_loss improved from 27564.06055 to 27563.99219, saving model to saccharide.h5\n",
            "2/2 [==============================] - 0s 25ms/step - loss: 27237.4395 - saccharide_out_loss: 0.5357 - conc_out_loss: 27236.9043 - saccharide_out_accuracy: 0.7040 - conc_out_accuracy: 0.0000e+00 - val_loss: 27563.9922 - val_saccharide_out_loss: 0.5444 - val_conc_out_loss: 27563.4473 - val_saccharide_out_accuracy: 0.6458 - val_conc_out_accuracy: 0.0000e+00\n",
            "Epoch 55/200\n",
            "1/2 [==============>...............] - ETA: 0s - loss: 27050.9141 - saccharide_out_loss: 0.5388 - conc_out_loss: 27050.3750 - saccharide_out_accuracy: 0.7305 - conc_out_accuracy: 0.0000e+00\n",
            "Epoch 00055: val_loss improved from 27563.99219 to 27563.92969, saving model to saccharide.h5\n",
            "2/2 [==============================] - 0s 22ms/step - loss: 27237.3711 - saccharide_out_loss: 0.5344 - conc_out_loss: 27236.8359 - saccharide_out_accuracy: 0.7335 - conc_out_accuracy: 0.0000e+00 - val_loss: 27563.9297 - val_saccharide_out_loss: 0.5443 - val_conc_out_loss: 27563.3848 - val_saccharide_out_accuracy: 0.6250 - val_conc_out_accuracy: 0.0000e+00\n",
            "Epoch 56/200\n",
            "1/2 [==============>...............] - ETA: 0s - loss: 26927.6562 - saccharide_out_loss: 0.5334 - conc_out_loss: 26927.1230 - saccharide_out_accuracy: 0.7188 - conc_out_accuracy: 0.0000e+00\n",
            "Epoch 00056: val_loss improved from 27563.92969 to 27563.86523, saving model to saccharide.h5\n",
            "2/2 [==============================] - 0s 26ms/step - loss: 27237.3047 - saccharide_out_loss: 0.5322 - conc_out_loss: 27236.7715 - saccharide_out_accuracy: 0.7206 - conc_out_accuracy: 0.0000e+00 - val_loss: 27563.8652 - val_saccharide_out_loss: 0.5445 - val_conc_out_loss: 27563.3184 - val_saccharide_out_accuracy: 0.6250 - val_conc_out_accuracy: 0.0000e+00\n",
            "Epoch 57/200\n",
            "1/2 [==============>...............] - ETA: 0s - loss: 27115.9922 - saccharide_out_loss: 0.5310 - conc_out_loss: 27115.4609 - saccharide_out_accuracy: 0.7324 - conc_out_accuracy: 0.0000e+00\n",
            "Epoch 00057: val_loss improved from 27563.86523 to 27563.79492, saving model to saccharide.h5\n",
            "2/2 [==============================] - 0s 25ms/step - loss: 27237.1797 - saccharide_out_loss: 0.5357 - conc_out_loss: 27236.6426 - saccharide_out_accuracy: 0.7188 - conc_out_accuracy: 0.0000e+00 - val_loss: 27563.7949 - val_saccharide_out_loss: 0.5444 - val_conc_out_loss: 27563.2500 - val_saccharide_out_accuracy: 0.6250 - val_conc_out_accuracy: 0.0000e+00\n",
            "Epoch 58/200\n",
            "1/2 [==============>...............] - ETA: 0s - loss: 27185.5996 - saccharide_out_loss: 0.5277 - conc_out_loss: 27185.0723 - saccharide_out_accuracy: 0.7148 - conc_out_accuracy: 0.0000e+00\n",
            "Epoch 00058: val_loss improved from 27563.79492 to 27563.72461, saving model to saccharide.h5\n",
            "2/2 [==============================] - 0s 24ms/step - loss: 27237.1348 - saccharide_out_loss: 0.5266 - conc_out_loss: 27236.6094 - saccharide_out_accuracy: 0.7206 - conc_out_accuracy: 0.0000e+00 - val_loss: 27563.7246 - val_saccharide_out_loss: 0.5443 - val_conc_out_loss: 27563.1777 - val_saccharide_out_accuracy: 0.6250 - val_conc_out_accuracy: 0.0000e+00\n",
            "Epoch 59/200\n",
            "1/2 [==============>...............] - ETA: 0s - loss: 27149.8359 - saccharide_out_loss: 0.5334 - conc_out_loss: 27149.3027 - saccharide_out_accuracy: 0.7344 - conc_out_accuracy: 0.0000e+00\n",
            "Epoch 00059: val_loss improved from 27563.72461 to 27563.65430, saving model to saccharide.h5\n",
            "2/2 [==============================] - 0s 24ms/step - loss: 27237.0840 - saccharide_out_loss: 0.5301 - conc_out_loss: 27236.5527 - saccharide_out_accuracy: 0.7390 - conc_out_accuracy: 0.0000e+00 - val_loss: 27563.6543 - val_saccharide_out_loss: 0.5443 - val_conc_out_loss: 27563.1094 - val_saccharide_out_accuracy: 0.6250 - val_conc_out_accuracy: 0.0000e+00\n",
            "Epoch 60/200\n",
            "1/2 [==============>...............] - ETA: 0s - loss: 27514.2383 - saccharide_out_loss: 0.5265 - conc_out_loss: 27513.7109 - saccharide_out_accuracy: 0.7285 - conc_out_accuracy: 0.0000e+00\n",
            "Epoch 00060: val_loss improved from 27563.65430 to 27563.58398, saving model to saccharide.h5\n",
            "2/2 [==============================] - 0s 23ms/step - loss: 27237.0176 - saccharide_out_loss: 0.5280 - conc_out_loss: 27236.4883 - saccharide_out_accuracy: 0.7224 - conc_out_accuracy: 0.0000e+00 - val_loss: 27563.5840 - val_saccharide_out_loss: 0.5440 - val_conc_out_loss: 27563.0391 - val_saccharide_out_accuracy: 0.6250 - val_conc_out_accuracy: 0.0000e+00\n",
            "Epoch 61/200\n",
            "1/2 [==============>...............] - ETA: 0s - loss: 26903.0469 - saccharide_out_loss: 0.5283 - conc_out_loss: 26902.5195 - saccharide_out_accuracy: 0.7227 - conc_out_accuracy: 0.0000e+00\n",
            "Epoch 00061: val_loss improved from 27563.58398 to 27563.50977, saving model to saccharide.h5\n",
            "2/2 [==============================] - 0s 24ms/step - loss: 27236.9629 - saccharide_out_loss: 0.5315 - conc_out_loss: 27236.4316 - saccharide_out_accuracy: 0.7206 - conc_out_accuracy: 0.0000e+00 - val_loss: 27563.5098 - val_saccharide_out_loss: 0.5428 - val_conc_out_loss: 27562.9688 - val_saccharide_out_accuracy: 0.6250 - val_conc_out_accuracy: 0.0000e+00\n",
            "Epoch 62/200\n",
            "1/2 [==============>...............] - ETA: 0s - loss: 26990.6895 - saccharide_out_loss: 0.5299 - conc_out_loss: 26990.1602 - saccharide_out_accuracy: 0.7441 - conc_out_accuracy: 0.0000e+00\n",
            "Epoch 00062: val_loss improved from 27563.50977 to 27563.43750, saving model to saccharide.h5\n",
            "2/2 [==============================] - 0s 23ms/step - loss: 27236.8750 - saccharide_out_loss: 0.5302 - conc_out_loss: 27236.3457 - saccharide_out_accuracy: 0.7371 - conc_out_accuracy: 0.0000e+00 - val_loss: 27563.4375 - val_saccharide_out_loss: 0.5411 - val_conc_out_loss: 27562.8965 - val_saccharide_out_accuracy: 0.6250 - val_conc_out_accuracy: 0.0000e+00\n",
            "Epoch 63/200\n",
            "1/2 [==============>...............] - ETA: 0s - loss: 27634.9336 - saccharide_out_loss: 0.5228 - conc_out_loss: 27634.4102 - saccharide_out_accuracy: 0.7168 - conc_out_accuracy: 0.0000e+00\n",
            "Epoch 00063: val_loss improved from 27563.43750 to 27563.36133, saving model to saccharide.h5\n",
            "2/2 [==============================] - 0s 23ms/step - loss: 27236.8145 - saccharide_out_loss: 0.5219 - conc_out_loss: 27236.2930 - saccharide_out_accuracy: 0.7206 - conc_out_accuracy: 0.0000e+00 - val_loss: 27563.3613 - val_saccharide_out_loss: 0.5395 - val_conc_out_loss: 27562.8223 - val_saccharide_out_accuracy: 0.6562 - val_conc_out_accuracy: 0.0000e+00\n",
            "Epoch 64/200\n",
            "1/2 [==============>...............] - ETA: 0s - loss: 27322.6074 - saccharide_out_loss: 0.5339 - conc_out_loss: 27322.0742 - saccharide_out_accuracy: 0.7188 - conc_out_accuracy: 0.0000e+00\n",
            "Epoch 00064: val_loss improved from 27563.36133 to 27563.28906, saving model to saccharide.h5\n",
            "2/2 [==============================] - 0s 24ms/step - loss: 27236.8418 - saccharide_out_loss: 0.5324 - conc_out_loss: 27236.3086 - saccharide_out_accuracy: 0.7206 - conc_out_accuracy: 0.0000e+00 - val_loss: 27563.2891 - val_saccharide_out_loss: 0.5381 - val_conc_out_loss: 27562.7500 - val_saccharide_out_accuracy: 0.6562 - val_conc_out_accuracy: 0.0000e+00\n",
            "Epoch 65/200\n",
            "1/2 [==============>...............] - ETA: 0s - loss: 27510.7949 - saccharide_out_loss: 0.5258 - conc_out_loss: 27510.2695 - saccharide_out_accuracy: 0.7168 - conc_out_accuracy: 0.0000e+00\n",
            "Epoch 00065: val_loss improved from 27563.28906 to 27563.21289, saving model to saccharide.h5\n",
            "2/2 [==============================] - 0s 25ms/step - loss: 27236.7168 - saccharide_out_loss: 0.5271 - conc_out_loss: 27236.1914 - saccharide_out_accuracy: 0.7169 - conc_out_accuracy: 0.0000e+00 - val_loss: 27563.2129 - val_saccharide_out_loss: 0.5369 - val_conc_out_loss: 27562.6777 - val_saccharide_out_accuracy: 0.6562 - val_conc_out_accuracy: 0.0000e+00\n",
            "Epoch 66/200\n",
            "1/2 [==============>...............] - ETA: 0s - loss: 26427.1660 - saccharide_out_loss: 0.5301 - conc_out_loss: 26426.6367 - saccharide_out_accuracy: 0.7422 - conc_out_accuracy: 0.0000e+00\n",
            "Epoch 00066: val_loss improved from 27563.21289 to 27563.13477, saving model to saccharide.h5\n",
            "2/2 [==============================] - 0s 24ms/step - loss: 27236.6445 - saccharide_out_loss: 0.5283 - conc_out_loss: 27236.1172 - saccharide_out_accuracy: 0.7390 - conc_out_accuracy: 0.0000e+00 - val_loss: 27563.1348 - val_saccharide_out_loss: 0.5356 - val_conc_out_loss: 27562.6016 - val_saccharide_out_accuracy: 0.6458 - val_conc_out_accuracy: 0.0000e+00\n",
            "Epoch 67/200\n",
            "1/2 [==============>...............] - ETA: 0s - loss: 27029.3789 - saccharide_out_loss: 0.5164 - conc_out_loss: 27028.8633 - saccharide_out_accuracy: 0.7285 - conc_out_accuracy: 0.0000e+00\n",
            "Epoch 00067: val_loss improved from 27563.13477 to 27563.05664, saving model to saccharide.h5\n",
            "2/2 [==============================] - 0s 24ms/step - loss: 27236.5625 - saccharide_out_loss: 0.5219 - conc_out_loss: 27236.0430 - saccharide_out_accuracy: 0.7224 - conc_out_accuracy: 0.0000e+00 - val_loss: 27563.0566 - val_saccharide_out_loss: 0.5341 - val_conc_out_loss: 27562.5254 - val_saccharide_out_accuracy: 0.6562 - val_conc_out_accuracy: 0.0000e+00\n",
            "Epoch 68/200\n",
            "1/2 [==============>...............] - ETA: 0s - loss: 27040.4668 - saccharide_out_loss: 0.5246 - conc_out_loss: 27039.9414 - saccharide_out_accuracy: 0.7461 - conc_out_accuracy: 0.0000e+00\n",
            "Epoch 00068: val_loss improved from 27563.05664 to 27562.98633, saving model to saccharide.h5\n",
            "2/2 [==============================] - 0s 25ms/step - loss: 27236.5039 - saccharide_out_loss: 0.5248 - conc_out_loss: 27235.9785 - saccharide_out_accuracy: 0.7426 - conc_out_accuracy: 0.0000e+00 - val_loss: 27562.9863 - val_saccharide_out_loss: 0.5325 - val_conc_out_loss: 27562.4531 - val_saccharide_out_accuracy: 0.6875 - val_conc_out_accuracy: 0.0000e+00\n",
            "Epoch 69/200\n",
            "1/2 [==============>...............] - ETA: 0s - loss: 27262.4648 - saccharide_out_loss: 0.5237 - conc_out_loss: 27261.9414 - saccharide_out_accuracy: 0.7383 - conc_out_accuracy: 0.0000e+00\n",
            "Epoch 00069: val_loss improved from 27562.98633 to 27562.90820, saving model to saccharide.h5\n",
            "2/2 [==============================] - 0s 22ms/step - loss: 27236.4570 - saccharide_out_loss: 0.5288 - conc_out_loss: 27235.9277 - saccharide_out_accuracy: 0.7353 - conc_out_accuracy: 0.0000e+00 - val_loss: 27562.9082 - val_saccharide_out_loss: 0.5314 - val_conc_out_loss: 27562.3770 - val_saccharide_out_accuracy: 0.6875 - val_conc_out_accuracy: 0.0000e+00\n",
            "Epoch 70/200\n",
            "1/2 [==============>...............] - ETA: 0s - loss: 27418.0742 - saccharide_out_loss: 0.5199 - conc_out_loss: 27417.5547 - saccharide_out_accuracy: 0.7207 - conc_out_accuracy: 0.0000e+00\n",
            "Epoch 00070: val_loss improved from 27562.90820 to 27562.83008, saving model to saccharide.h5\n",
            "2/2 [==============================] - 0s 22ms/step - loss: 27236.4180 - saccharide_out_loss: 0.5219 - conc_out_loss: 27235.8965 - saccharide_out_accuracy: 0.7188 - conc_out_accuracy: 0.0000e+00 - val_loss: 27562.8301 - val_saccharide_out_loss: 0.5309 - val_conc_out_loss: 27562.2988 - val_saccharide_out_accuracy: 0.6875 - val_conc_out_accuracy: 0.0000e+00\n",
            "Epoch 71/200\n",
            "1/2 [==============>...............] - ETA: 0s - loss: 26835.0508 - saccharide_out_loss: 0.5234 - conc_out_loss: 26834.5273 - saccharide_out_accuracy: 0.7129 - conc_out_accuracy: 0.0000e+00\n",
            "Epoch 00071: val_loss improved from 27562.83008 to 27562.75586, saving model to saccharide.h5\n",
            "2/2 [==============================] - 0s 24ms/step - loss: 27236.3301 - saccharide_out_loss: 0.5219 - conc_out_loss: 27235.8086 - saccharide_out_accuracy: 0.7169 - conc_out_accuracy: 0.0000e+00 - val_loss: 27562.7559 - val_saccharide_out_loss: 0.5310 - val_conc_out_loss: 27562.2246 - val_saccharide_out_accuracy: 0.6875 - val_conc_out_accuracy: 0.0000e+00\n",
            "Epoch 72/200\n",
            "1/2 [==============>...............] - ETA: 0s - loss: 27069.5703 - saccharide_out_loss: 0.5210 - conc_out_loss: 27069.0488 - saccharide_out_accuracy: 0.7227 - conc_out_accuracy: 0.0000e+00\n",
            "Epoch 00072: val_loss improved from 27562.75586 to 27562.67773, saving model to saccharide.h5\n",
            "2/2 [==============================] - 0s 23ms/step - loss: 27236.2969 - saccharide_out_loss: 0.5162 - conc_out_loss: 27235.7793 - saccharide_out_accuracy: 0.7261 - conc_out_accuracy: 0.0000e+00 - val_loss: 27562.6777 - val_saccharide_out_loss: 0.5313 - val_conc_out_loss: 27562.1465 - val_saccharide_out_accuracy: 0.6562 - val_conc_out_accuracy: 0.0000e+00\n",
            "Epoch 73/200\n",
            "1/2 [==============>...............] - ETA: 0s - loss: 27225.1406 - saccharide_out_loss: 0.5192 - conc_out_loss: 27224.6211 - saccharide_out_accuracy: 0.7266 - conc_out_accuracy: 0.0000e+00\n",
            "Epoch 00073: val_loss improved from 27562.67773 to 27562.59570, saving model to saccharide.h5\n",
            "2/2 [==============================] - 0s 23ms/step - loss: 27236.2266 - saccharide_out_loss: 0.5196 - conc_out_loss: 27235.7051 - saccharide_out_accuracy: 0.7224 - conc_out_accuracy: 0.0000e+00 - val_loss: 27562.5957 - val_saccharide_out_loss: 0.5317 - val_conc_out_loss: 27562.0645 - val_saccharide_out_accuracy: 0.6562 - val_conc_out_accuracy: 0.0000e+00\n",
            "Epoch 74/200\n",
            "1/2 [==============>...............] - ETA: 0s - loss: 27156.7168 - saccharide_out_loss: 0.5154 - conc_out_loss: 27156.2012 - saccharide_out_accuracy: 0.7344 - conc_out_accuracy: 0.0000e+00\n",
            "Epoch 00074: val_loss improved from 27562.59570 to 27562.51758, saving model to saccharide.h5\n",
            "2/2 [==============================] - 0s 24ms/step - loss: 27236.1816 - saccharide_out_loss: 0.5166 - conc_out_loss: 27235.6660 - saccharide_out_accuracy: 0.7316 - conc_out_accuracy: 0.0000e+00 - val_loss: 27562.5176 - val_saccharide_out_loss: 0.5321 - val_conc_out_loss: 27561.9863 - val_saccharide_out_accuracy: 0.6458 - val_conc_out_accuracy: 0.0000e+00\n",
            "Epoch 75/200\n",
            "1/2 [==============>...............] - ETA: 0s - loss: 27137.3105 - saccharide_out_loss: 0.5119 - conc_out_loss: 27136.7988 - saccharide_out_accuracy: 0.7324 - conc_out_accuracy: 0.0000e+00\n",
            "Epoch 00075: val_loss improved from 27562.51758 to 27562.43750, saving model to saccharide.h5\n",
            "2/2 [==============================] - 0s 23ms/step - loss: 27236.0625 - saccharide_out_loss: 0.5127 - conc_out_loss: 27235.5488 - saccharide_out_accuracy: 0.7298 - conc_out_accuracy: 0.0000e+00 - val_loss: 27562.4375 - val_saccharide_out_loss: 0.5322 - val_conc_out_loss: 27561.9062 - val_saccharide_out_accuracy: 0.6667 - val_conc_out_accuracy: 0.0000e+00\n",
            "Epoch 76/200\n",
            "1/2 [==============>...............] - ETA: 0s - loss: 27815.0098 - saccharide_out_loss: 0.5088 - conc_out_loss: 27814.5000 - saccharide_out_accuracy: 0.7266 - conc_out_accuracy: 0.0000e+00\n",
            "Epoch 00076: val_loss improved from 27562.43750 to 27562.35352, saving model to saccharide.h5\n",
            "2/2 [==============================] - 0s 26ms/step - loss: 27235.9902 - saccharide_out_loss: 0.5151 - conc_out_loss: 27235.4746 - saccharide_out_accuracy: 0.7206 - conc_out_accuracy: 0.0000e+00 - val_loss: 27562.3535 - val_saccharide_out_loss: 0.5316 - val_conc_out_loss: 27561.8223 - val_saccharide_out_accuracy: 0.6562 - val_conc_out_accuracy: 0.0000e+00\n",
            "Epoch 77/200\n",
            "1/2 [==============>...............] - ETA: 0s - loss: 27475.3477 - saccharide_out_loss: 0.5071 - conc_out_loss: 27474.8398 - saccharide_out_accuracy: 0.7383 - conc_out_accuracy: 0.0000e+00\n",
            "Epoch 00077: val_loss improved from 27562.35352 to 27562.27344, saving model to saccharide.h5\n",
            "2/2 [==============================] - 0s 23ms/step - loss: 27235.8848 - saccharide_out_loss: 0.5098 - conc_out_loss: 27235.3730 - saccharide_out_accuracy: 0.7408 - conc_out_accuracy: 0.0000e+00 - val_loss: 27562.2734 - val_saccharide_out_loss: 0.5308 - val_conc_out_loss: 27561.7422 - val_saccharide_out_accuracy: 0.6562 - val_conc_out_accuracy: 0.0000e+00\n",
            "Epoch 78/200\n",
            "1/2 [==============>...............] - ETA: 0s - loss: 27047.0371 - saccharide_out_loss: 0.5166 - conc_out_loss: 27046.5215 - saccharide_out_accuracy: 0.7207 - conc_out_accuracy: 0.0000e+00\n",
            "Epoch 00078: val_loss improved from 27562.27344 to 27562.18945, saving model to saccharide.h5\n",
            "2/2 [==============================] - 0s 24ms/step - loss: 27235.8340 - saccharide_out_loss: 0.5112 - conc_out_loss: 27235.3242 - saccharide_out_accuracy: 0.7279 - conc_out_accuracy: 0.0000e+00 - val_loss: 27562.1895 - val_saccharide_out_loss: 0.5305 - val_conc_out_loss: 27561.6582 - val_saccharide_out_accuracy: 0.6667 - val_conc_out_accuracy: 0.0000e+00\n",
            "Epoch 79/200\n",
            "1/2 [==============>...............] - ETA: 0s - loss: 27245.5879 - saccharide_out_loss: 0.5169 - conc_out_loss: 27245.0703 - saccharide_out_accuracy: 0.7148 - conc_out_accuracy: 0.0000e+00\n",
            "Epoch 00079: val_loss improved from 27562.18945 to 27562.10352, saving model to saccharide.h5\n",
            "2/2 [==============================] - 0s 23ms/step - loss: 27235.7969 - saccharide_out_loss: 0.5189 - conc_out_loss: 27235.2793 - saccharide_out_accuracy: 0.7151 - conc_out_accuracy: 0.0000e+00 - val_loss: 27562.1035 - val_saccharide_out_loss: 0.5306 - val_conc_out_loss: 27561.5723 - val_saccharide_out_accuracy: 0.6562 - val_conc_out_accuracy: 0.0000e+00\n",
            "Epoch 80/200\n",
            "1/2 [==============>...............] - ETA: 0s - loss: 27019.3457 - saccharide_out_loss: 0.5159 - conc_out_loss: 27018.8301 - saccharide_out_accuracy: 0.7441 - conc_out_accuracy: 0.0000e+00\n",
            "Epoch 00080: val_loss improved from 27562.10352 to 27562.01758, saving model to saccharide.h5\n",
            "2/2 [==============================] - 0s 23ms/step - loss: 27235.6660 - saccharide_out_loss: 0.5134 - conc_out_loss: 27235.1523 - saccharide_out_accuracy: 0.7463 - conc_out_accuracy: 0.0000e+00 - val_loss: 27562.0176 - val_saccharide_out_loss: 0.5304 - val_conc_out_loss: 27561.4863 - val_saccharide_out_accuracy: 0.6562 - val_conc_out_accuracy: 0.0000e+00\n",
            "Epoch 81/200\n",
            "1/2 [==============>...............] - ETA: 0s - loss: 27387.7363 - saccharide_out_loss: 0.5175 - conc_out_loss: 27387.2188 - saccharide_out_accuracy: 0.7031 - conc_out_accuracy: 0.0000e+00\n",
            "Epoch 00081: val_loss improved from 27562.01758 to 27561.92969, saving model to saccharide.h5\n",
            "2/2 [==============================] - 0s 25ms/step - loss: 27235.7207 - saccharide_out_loss: 0.5164 - conc_out_loss: 27235.2031 - saccharide_out_accuracy: 0.7040 - conc_out_accuracy: 0.0000e+00 - val_loss: 27561.9297 - val_saccharide_out_loss: 0.5302 - val_conc_out_loss: 27561.4004 - val_saccharide_out_accuracy: 0.6562 - val_conc_out_accuracy: 0.0000e+00\n",
            "Epoch 82/200\n",
            "1/2 [==============>...............] - ETA: 0s - loss: 26860.2871 - saccharide_out_loss: 0.5197 - conc_out_loss: 26859.7676 - saccharide_out_accuracy: 0.7324 - conc_out_accuracy: 0.0000e+00\n",
            "Epoch 00082: val_loss improved from 27561.92969 to 27561.84375, saving model to saccharide.h5\n",
            "2/2 [==============================] - 0s 23ms/step - loss: 27235.5781 - saccharide_out_loss: 0.5133 - conc_out_loss: 27235.0664 - saccharide_out_accuracy: 0.7426 - conc_out_accuracy: 0.0000e+00 - val_loss: 27561.8438 - val_saccharide_out_loss: 0.5301 - val_conc_out_loss: 27561.3145 - val_saccharide_out_accuracy: 0.6562 - val_conc_out_accuracy: 0.0000e+00\n",
            "Epoch 83/200\n",
            "1/2 [==============>...............] - ETA: 0s - loss: 26793.8770 - saccharide_out_loss: 0.5176 - conc_out_loss: 26793.3594 - saccharide_out_accuracy: 0.7266 - conc_out_accuracy: 0.0000e+00\n",
            "Epoch 00083: val_loss improved from 27561.84375 to 27561.75781, saving model to saccharide.h5\n",
            "2/2 [==============================] - 0s 23ms/step - loss: 27235.4727 - saccharide_out_loss: 0.5124 - conc_out_loss: 27234.9590 - saccharide_out_accuracy: 0.7353 - conc_out_accuracy: 0.0000e+00 - val_loss: 27561.7578 - val_saccharide_out_loss: 0.5300 - val_conc_out_loss: 27561.2285 - val_saccharide_out_accuracy: 0.6667 - val_conc_out_accuracy: 0.0000e+00\n",
            "Epoch 84/200\n",
            "1/2 [==============>...............] - ETA: 0s - loss: 27354.5156 - saccharide_out_loss: 0.5132 - conc_out_loss: 27354.0020 - saccharide_out_accuracy: 0.7383 - conc_out_accuracy: 0.0000e+00\n",
            "Epoch 00084: val_loss improved from 27561.75781 to 27561.66992, saving model to saccharide.h5\n",
            "2/2 [==============================] - 0s 24ms/step - loss: 27235.3965 - saccharide_out_loss: 0.5141 - conc_out_loss: 27234.8848 - saccharide_out_accuracy: 0.7390 - conc_out_accuracy: 0.0000e+00 - val_loss: 27561.6699 - val_saccharide_out_loss: 0.5302 - val_conc_out_loss: 27561.1406 - val_saccharide_out_accuracy: 0.6667 - val_conc_out_accuracy: 0.0000e+00\n",
            "Epoch 85/200\n",
            "1/2 [==============>...............] - ETA: 0s - loss: 27001.6621 - saccharide_out_loss: 0.5171 - conc_out_loss: 27001.1445 - saccharide_out_accuracy: 0.7324 - conc_out_accuracy: 0.0000e+00\n",
            "Epoch 00085: val_loss improved from 27561.66992 to 27561.58398, saving model to saccharide.h5\n",
            "2/2 [==============================] - 0s 25ms/step - loss: 27235.3867 - saccharide_out_loss: 0.5147 - conc_out_loss: 27234.8711 - saccharide_out_accuracy: 0.7335 - conc_out_accuracy: 0.0000e+00 - val_loss: 27561.5840 - val_saccharide_out_loss: 0.5303 - val_conc_out_loss: 27561.0527 - val_saccharide_out_accuracy: 0.6667 - val_conc_out_accuracy: 0.0000e+00\n",
            "Epoch 86/200\n",
            "1/2 [==============>...............] - ETA: 0s - loss: 27367.3594 - saccharide_out_loss: 0.5041 - conc_out_loss: 27366.8555 - saccharide_out_accuracy: 0.7578 - conc_out_accuracy: 0.0000e+00\n",
            "Epoch 00086: val_loss improved from 27561.58398 to 27561.49219, saving model to saccharide.h5\n",
            "2/2 [==============================] - 0s 23ms/step - loss: 27235.2637 - saccharide_out_loss: 0.5111 - conc_out_loss: 27234.7520 - saccharide_out_accuracy: 0.7518 - conc_out_accuracy: 0.0000e+00 - val_loss: 27561.4922 - val_saccharide_out_loss: 0.5294 - val_conc_out_loss: 27560.9629 - val_saccharide_out_accuracy: 0.6667 - val_conc_out_accuracy: 0.0000e+00\n",
            "Epoch 87/200\n",
            "1/2 [==============>...............] - ETA: 0s - loss: 27375.8613 - saccharide_out_loss: 0.5114 - conc_out_loss: 27375.3496 - saccharide_out_accuracy: 0.7207 - conc_out_accuracy: 0.0000e+00\n",
            "Epoch 00087: val_loss improved from 27561.49219 to 27561.40039, saving model to saccharide.h5\n",
            "2/2 [==============================] - 0s 24ms/step - loss: 27235.1602 - saccharide_out_loss: 0.5096 - conc_out_loss: 27234.6504 - saccharide_out_accuracy: 0.7243 - conc_out_accuracy: 0.0000e+00 - val_loss: 27561.4004 - val_saccharide_out_loss: 0.5278 - val_conc_out_loss: 27560.8750 - val_saccharide_out_accuracy: 0.6667 - val_conc_out_accuracy: 0.0000e+00\n",
            "Epoch 88/200\n",
            "1/2 [==============>...............] - ETA: 0s - loss: 27468.4023 - saccharide_out_loss: 0.5059 - conc_out_loss: 27467.8965 - saccharide_out_accuracy: 0.7246 - conc_out_accuracy: 0.0000e+00\n",
            "Epoch 00088: val_loss improved from 27561.40039 to 27561.30664, saving model to saccharide.h5\n",
            "2/2 [==============================] - 0s 26ms/step - loss: 27235.2129 - saccharide_out_loss: 0.5081 - conc_out_loss: 27234.7051 - saccharide_out_accuracy: 0.7206 - conc_out_accuracy: 0.0000e+00 - val_loss: 27561.3066 - val_saccharide_out_loss: 0.5266 - val_conc_out_loss: 27560.7812 - val_saccharide_out_accuracy: 0.6667 - val_conc_out_accuracy: 0.0000e+00\n",
            "Epoch 89/200\n",
            "1/2 [==============>...............] - ETA: 0s - loss: 27187.0488 - saccharide_out_loss: 0.5100 - conc_out_loss: 27186.5391 - saccharide_out_accuracy: 0.7305 - conc_out_accuracy: 0.0000e+00\n",
            "Epoch 00089: val_loss improved from 27561.30664 to 27561.21289, saving model to saccharide.h5\n",
            "2/2 [==============================] - 0s 28ms/step - loss: 27235.0078 - saccharide_out_loss: 0.5022 - conc_out_loss: 27234.5059 - saccharide_out_accuracy: 0.7426 - conc_out_accuracy: 0.0000e+00 - val_loss: 27561.2129 - val_saccharide_out_loss: 0.5260 - val_conc_out_loss: 27560.6875 - val_saccharide_out_accuracy: 0.6771 - val_conc_out_accuracy: 0.0000e+00\n",
            "Epoch 90/200\n",
            "1/2 [==============>...............] - ETA: 0s - loss: 27039.4199 - saccharide_out_loss: 0.5121 - conc_out_loss: 27038.9082 - saccharide_out_accuracy: 0.7148 - conc_out_accuracy: 0.0000e+00\n",
            "Epoch 00090: val_loss improved from 27561.21289 to 27561.11914, saving model to saccharide.h5\n",
            "2/2 [==============================] - 0s 22ms/step - loss: 27234.9863 - saccharide_out_loss: 0.5093 - conc_out_loss: 27234.4785 - saccharide_out_accuracy: 0.7188 - conc_out_accuracy: 0.0000e+00 - val_loss: 27561.1191 - val_saccharide_out_loss: 0.5258 - val_conc_out_loss: 27560.5938 - val_saccharide_out_accuracy: 0.6771 - val_conc_out_accuracy: 0.0000e+00\n",
            "Epoch 91/200\n",
            "1/2 [==============>...............] - ETA: 0s - loss: 26971.7129 - saccharide_out_loss: 0.4984 - conc_out_loss: 26971.2148 - saccharide_out_accuracy: 0.7402 - conc_out_accuracy: 0.0000e+00\n",
            "Epoch 00091: val_loss improved from 27561.11914 to 27561.01562, saving model to saccharide.h5\n",
            "2/2 [==============================] - 0s 24ms/step - loss: 27234.7969 - saccharide_out_loss: 0.4943 - conc_out_loss: 27234.3008 - saccharide_out_accuracy: 0.7408 - conc_out_accuracy: 0.0000e+00 - val_loss: 27561.0156 - val_saccharide_out_loss: 0.5253 - val_conc_out_loss: 27560.4902 - val_saccharide_out_accuracy: 0.6771 - val_conc_out_accuracy: 0.0000e+00\n",
            "Epoch 92/200\n",
            "1/2 [==============>...............] - ETA: 0s - loss: 26777.4180 - saccharide_out_loss: 0.5034 - conc_out_loss: 26776.9141 - saccharide_out_accuracy: 0.7266 - conc_out_accuracy: 0.0000e+00\n",
            "Epoch 00092: val_loss improved from 27561.01562 to 27560.91602, saving model to saccharide.h5\n",
            "2/2 [==============================] - 0s 22ms/step - loss: 27234.7383 - saccharide_out_loss: 0.5027 - conc_out_loss: 27234.2344 - saccharide_out_accuracy: 0.7298 - conc_out_accuracy: 0.0000e+00 - val_loss: 27560.9160 - val_saccharide_out_loss: 0.5245 - val_conc_out_loss: 27560.3906 - val_saccharide_out_accuracy: 0.6771 - val_conc_out_accuracy: 0.0000e+00\n",
            "Epoch 93/200\n",
            "1/2 [==============>...............] - ETA: 0s - loss: 27477.6328 - saccharide_out_loss: 0.5069 - conc_out_loss: 27477.1250 - saccharide_out_accuracy: 0.7168 - conc_out_accuracy: 0.0000e+00\n",
            "Epoch 00093: val_loss improved from 27560.91602 to 27560.81055, saving model to saccharide.h5\n",
            "2/2 [==============================] - 0s 24ms/step - loss: 27234.6719 - saccharide_out_loss: 0.5106 - conc_out_loss: 27234.1621 - saccharide_out_accuracy: 0.7206 - conc_out_accuracy: 0.0000e+00 - val_loss: 27560.8105 - val_saccharide_out_loss: 0.5237 - val_conc_out_loss: 27560.2871 - val_saccharide_out_accuracy: 0.6875 - val_conc_out_accuracy: 0.0000e+00\n",
            "Epoch 94/200\n",
            "1/2 [==============>...............] - ETA: 0s - loss: 26764.0410 - saccharide_out_loss: 0.5142 - conc_out_loss: 26763.5273 - saccharide_out_accuracy: 0.7344 - conc_out_accuracy: 0.0000e+00\n",
            "Epoch 00094: val_loss improved from 27560.81055 to 27560.71094, saving model to saccharide.h5\n",
            "2/2 [==============================] - 0s 25ms/step - loss: 27234.6699 - saccharide_out_loss: 0.5075 - conc_out_loss: 27234.1641 - saccharide_out_accuracy: 0.7390 - conc_out_accuracy: 0.0000e+00 - val_loss: 27560.7109 - val_saccharide_out_loss: 0.5229 - val_conc_out_loss: 27560.1875 - val_saccharide_out_accuracy: 0.6875 - val_conc_out_accuracy: 0.0000e+00\n",
            "Epoch 95/200\n",
            "1/2 [==============>...............] - ETA: 0s - loss: 27119.2832 - saccharide_out_loss: 0.4971 - conc_out_loss: 27118.7852 - saccharide_out_accuracy: 0.7461 - conc_out_accuracy: 0.0000e+00\n",
            "Epoch 00095: val_loss improved from 27560.71094 to 27560.60352, saving model to saccharide.h5\n",
            "2/2 [==============================] - 0s 23ms/step - loss: 27234.5156 - saccharide_out_loss: 0.5000 - conc_out_loss: 27234.0137 - saccharide_out_accuracy: 0.7426 - conc_out_accuracy: 0.0000e+00 - val_loss: 27560.6035 - val_saccharide_out_loss: 0.5222 - val_conc_out_loss: 27560.0840 - val_saccharide_out_accuracy: 0.7083 - val_conc_out_accuracy: 0.0000e+00\n",
            "Epoch 96/200\n",
            "1/2 [==============>...............] - ETA: 0s - loss: 26793.4941 - saccharide_out_loss: 0.5017 - conc_out_loss: 26792.9922 - saccharide_out_accuracy: 0.7344 - conc_out_accuracy: 0.0000e+00\n",
            "Epoch 00096: val_loss improved from 27560.60352 to 27560.50586, saving model to saccharide.h5\n",
            "2/2 [==============================] - 0s 22ms/step - loss: 27234.3281 - saccharide_out_loss: 0.4995 - conc_out_loss: 27233.8281 - saccharide_out_accuracy: 0.7408 - conc_out_accuracy: 0.0000e+00 - val_loss: 27560.5059 - val_saccharide_out_loss: 0.5220 - val_conc_out_loss: 27559.9844 - val_saccharide_out_accuracy: 0.7083 - val_conc_out_accuracy: 0.0000e+00\n",
            "Epoch 97/200\n",
            "1/2 [==============>...............] - ETA: 0s - loss: 27193.2383 - saccharide_out_loss: 0.5000 - conc_out_loss: 27192.7383 - saccharide_out_accuracy: 0.7402 - conc_out_accuracy: 0.0000e+00\n",
            "Epoch 00097: val_loss improved from 27560.50586 to 27560.40625, saving model to saccharide.h5\n",
            "2/2 [==============================] - 0s 23ms/step - loss: 27234.3574 - saccharide_out_loss: 0.5005 - conc_out_loss: 27233.8574 - saccharide_out_accuracy: 0.7426 - conc_out_accuracy: 0.0000e+00 - val_loss: 27560.4062 - val_saccharide_out_loss: 0.5223 - val_conc_out_loss: 27559.8848 - val_saccharide_out_accuracy: 0.6875 - val_conc_out_accuracy: 0.0000e+00\n",
            "Epoch 98/200\n",
            "1/2 [==============>...............] - ETA: 0s - loss: 27047.8887 - saccharide_out_loss: 0.5095 - conc_out_loss: 27047.3789 - saccharide_out_accuracy: 0.7285 - conc_out_accuracy: 0.0000e+00\n",
            "Epoch 00098: val_loss improved from 27560.40625 to 27560.30469, saving model to saccharide.h5\n",
            "2/2 [==============================] - 0s 23ms/step - loss: 27234.3379 - saccharide_out_loss: 0.5071 - conc_out_loss: 27233.8301 - saccharide_out_accuracy: 0.7261 - conc_out_accuracy: 0.0000e+00 - val_loss: 27560.3047 - val_saccharide_out_loss: 0.5225 - val_conc_out_loss: 27559.7812 - val_saccharide_out_accuracy: 0.6771 - val_conc_out_accuracy: 0.0000e+00\n",
            "Epoch 99/200\n",
            "1/2 [==============>...............] - ETA: 0s - loss: 27243.5449 - saccharide_out_loss: 0.5092 - conc_out_loss: 27243.0352 - saccharide_out_accuracy: 0.7266 - conc_out_accuracy: 0.0000e+00\n",
            "Epoch 00099: val_loss improved from 27560.30469 to 27560.19727, saving model to saccharide.h5\n",
            "2/2 [==============================] - 0s 24ms/step - loss: 27234.1934 - saccharide_out_loss: 0.5066 - conc_out_loss: 27233.6855 - saccharide_out_accuracy: 0.7279 - conc_out_accuracy: 0.0000e+00 - val_loss: 27560.1973 - val_saccharide_out_loss: 0.5227 - val_conc_out_loss: 27559.6738 - val_saccharide_out_accuracy: 0.6771 - val_conc_out_accuracy: 0.0000e+00\n",
            "Epoch 100/200\n",
            "1/2 [==============>...............] - ETA: 0s - loss: 26969.5918 - saccharide_out_loss: 0.4948 - conc_out_loss: 26969.0977 - saccharide_out_accuracy: 0.7305 - conc_out_accuracy: 0.0000e+00\n",
            "Epoch 00100: val_loss improved from 27560.19727 to 27560.09570, saving model to saccharide.h5\n",
            "2/2 [==============================] - 0s 26ms/step - loss: 27234.0449 - saccharide_out_loss: 0.4961 - conc_out_loss: 27233.5469 - saccharide_out_accuracy: 0.7335 - conc_out_accuracy: 0.0000e+00 - val_loss: 27560.0957 - val_saccharide_out_loss: 0.5227 - val_conc_out_loss: 27559.5723 - val_saccharide_out_accuracy: 0.6771 - val_conc_out_accuracy: 0.0000e+00\n",
            "Epoch 101/200\n",
            "1/2 [==============>...............] - ETA: 0s - loss: 27340.2246 - saccharide_out_loss: 0.5020 - conc_out_loss: 27339.7227 - saccharide_out_accuracy: 0.7363 - conc_out_accuracy: 0.0000e+00\n",
            "Epoch 00101: val_loss improved from 27560.09570 to 27559.99023, saving model to saccharide.h5\n",
            "2/2 [==============================] - 0s 26ms/step - loss: 27233.8984 - saccharide_out_loss: 0.5007 - conc_out_loss: 27233.3965 - saccharide_out_accuracy: 0.7371 - conc_out_accuracy: 0.0000e+00 - val_loss: 27559.9902 - val_saccharide_out_loss: 0.5223 - val_conc_out_loss: 27559.4688 - val_saccharide_out_accuracy: 0.6771 - val_conc_out_accuracy: 0.0000e+00\n",
            "Epoch 102/200\n",
            "1/2 [==============>...............] - ETA: 0s - loss: 27655.5820 - saccharide_out_loss: 0.5041 - conc_out_loss: 27655.0781 - saccharide_out_accuracy: 0.7129 - conc_out_accuracy: 0.0000e+00\n",
            "Epoch 00102: val_loss improved from 27559.99023 to 27559.88477, saving model to saccharide.h5\n",
            "2/2 [==============================] - 0s 24ms/step - loss: 27233.8281 - saccharide_out_loss: 0.5105 - conc_out_loss: 27233.3164 - saccharide_out_accuracy: 0.7077 - conc_out_accuracy: 0.0000e+00 - val_loss: 27559.8848 - val_saccharide_out_loss: 0.5217 - val_conc_out_loss: 27559.3652 - val_saccharide_out_accuracy: 0.6771 - val_conc_out_accuracy: 0.0000e+00\n",
            "Epoch 103/200\n",
            "1/2 [==============>...............] - ETA: 0s - loss: 27170.0586 - saccharide_out_loss: 0.4893 - conc_out_loss: 27169.5684 - saccharide_out_accuracy: 0.7578 - conc_out_accuracy: 0.0000e+00\n",
            "Epoch 00103: val_loss improved from 27559.88477 to 27559.78125, saving model to saccharide.h5\n",
            "2/2 [==============================] - 0s 22ms/step - loss: 27233.7773 - saccharide_out_loss: 0.4942 - conc_out_loss: 27233.2812 - saccharide_out_accuracy: 0.7574 - conc_out_accuracy: 0.0000e+00 - val_loss: 27559.7812 - val_saccharide_out_loss: 0.5211 - val_conc_out_loss: 27559.2598 - val_saccharide_out_accuracy: 0.6875 - val_conc_out_accuracy: 0.0000e+00\n",
            "Epoch 104/200\n",
            "1/2 [==============>...............] - ETA: 0s - loss: 27413.5000 - saccharide_out_loss: 0.5007 - conc_out_loss: 27413.0000 - saccharide_out_accuracy: 0.7363 - conc_out_accuracy: 0.0000e+00\n",
            "Epoch 00104: val_loss improved from 27559.78125 to 27559.67383, saving model to saccharide.h5\n",
            "2/2 [==============================] - 0s 22ms/step - loss: 27233.7988 - saccharide_out_loss: 0.5022 - conc_out_loss: 27233.2988 - saccharide_out_accuracy: 0.7316 - conc_out_accuracy: 0.0000e+00 - val_loss: 27559.6738 - val_saccharide_out_loss: 0.5199 - val_conc_out_loss: 27559.1543 - val_saccharide_out_accuracy: 0.7188 - val_conc_out_accuracy: 0.0000e+00\n",
            "Epoch 105/200\n",
            "1/2 [==============>...............] - ETA: 0s - loss: 26934.5996 - saccharide_out_loss: 0.5061 - conc_out_loss: 26934.0938 - saccharide_out_accuracy: 0.7266 - conc_out_accuracy: 0.0000e+00\n",
            "Epoch 00105: val_loss improved from 27559.67383 to 27559.56836, saving model to saccharide.h5\n",
            "2/2 [==============================] - 0s 23ms/step - loss: 27233.5566 - saccharide_out_loss: 0.5047 - conc_out_loss: 27233.0527 - saccharide_out_accuracy: 0.7279 - conc_out_accuracy: 0.0000e+00 - val_loss: 27559.5684 - val_saccharide_out_loss: 0.5189 - val_conc_out_loss: 27559.0469 - val_saccharide_out_accuracy: 0.7188 - val_conc_out_accuracy: 0.0000e+00\n",
            "Epoch 106/200\n",
            "1/2 [==============>...............] - ETA: 0s - loss: 27114.3086 - saccharide_out_loss: 0.4953 - conc_out_loss: 27113.8125 - saccharide_out_accuracy: 0.7480 - conc_out_accuracy: 0.0000e+00\n",
            "Epoch 00106: val_loss improved from 27559.56836 to 27559.45508, saving model to saccharide.h5\n",
            "2/2 [==============================] - 0s 21ms/step - loss: 27233.5176 - saccharide_out_loss: 0.4954 - conc_out_loss: 27233.0215 - saccharide_out_accuracy: 0.7482 - conc_out_accuracy: 0.0000e+00 - val_loss: 27559.4551 - val_saccharide_out_loss: 0.5182 - val_conc_out_loss: 27558.9375 - val_saccharide_out_accuracy: 0.7188 - val_conc_out_accuracy: 0.0000e+00\n",
            "Epoch 107/200\n",
            "1/2 [==============>...............] - ETA: 0s - loss: 27320.3262 - saccharide_out_loss: 0.5058 - conc_out_loss: 27319.8203 - saccharide_out_accuracy: 0.7402 - conc_out_accuracy: 0.0000e+00\n",
            "Epoch 00107: val_loss improved from 27559.45508 to 27559.34570, saving model to saccharide.h5\n",
            "2/2 [==============================] - 0s 25ms/step - loss: 27233.5781 - saccharide_out_loss: 0.5054 - conc_out_loss: 27233.0723 - saccharide_out_accuracy: 0.7371 - conc_out_accuracy: 0.0000e+00 - val_loss: 27559.3457 - val_saccharide_out_loss: 0.5171 - val_conc_out_loss: 27558.8281 - val_saccharide_out_accuracy: 0.7188 - val_conc_out_accuracy: 0.0000e+00\n",
            "Epoch 108/200\n",
            "1/2 [==============>...............] - ETA: 0s - loss: 27231.0625 - saccharide_out_loss: 0.4985 - conc_out_loss: 27230.5645 - saccharide_out_accuracy: 0.7246 - conc_out_accuracy: 0.0000e+00\n",
            "Epoch 00108: val_loss improved from 27559.34570 to 27559.23242, saving model to saccharide.h5\n",
            "2/2 [==============================] - 0s 24ms/step - loss: 27233.2949 - saccharide_out_loss: 0.4992 - conc_out_loss: 27232.7969 - saccharide_out_accuracy: 0.7224 - conc_out_accuracy: 0.0000e+00 - val_loss: 27559.2324 - val_saccharide_out_loss: 0.5157 - val_conc_out_loss: 27558.7168 - val_saccharide_out_accuracy: 0.7292 - val_conc_out_accuracy: 0.0000e+00\n",
            "Epoch 109/200\n",
            "1/2 [==============>...............] - ETA: 0s - loss: 27271.3984 - saccharide_out_loss: 0.4962 - conc_out_loss: 27270.9023 - saccharide_out_accuracy: 0.7480 - conc_out_accuracy: 0.0000e+00\n",
            "Epoch 00109: val_loss improved from 27559.23242 to 27559.12500, saving model to saccharide.h5\n",
            "2/2 [==============================] - 0s 24ms/step - loss: 27233.2832 - saccharide_out_loss: 0.4985 - conc_out_loss: 27232.7852 - saccharide_out_accuracy: 0.7463 - conc_out_accuracy: 0.0000e+00 - val_loss: 27559.1250 - val_saccharide_out_loss: 0.5148 - val_conc_out_loss: 27558.6094 - val_saccharide_out_accuracy: 0.7292 - val_conc_out_accuracy: 0.0000e+00\n",
            "Epoch 110/200\n",
            "1/2 [==============>...............] - ETA: 0s - loss: 27294.5371 - saccharide_out_loss: 0.5027 - conc_out_loss: 27294.0352 - saccharide_out_accuracy: 0.7324 - conc_out_accuracy: 0.0000e+00\n",
            "Epoch 00110: val_loss improved from 27559.12500 to 27559.00977, saving model to saccharide.h5\n",
            "2/2 [==============================] - 0s 24ms/step - loss: 27233.1348 - saccharide_out_loss: 0.5005 - conc_out_loss: 27232.6348 - saccharide_out_accuracy: 0.7371 - conc_out_accuracy: 0.0000e+00 - val_loss: 27559.0098 - val_saccharide_out_loss: 0.5141 - val_conc_out_loss: 27558.4980 - val_saccharide_out_accuracy: 0.7188 - val_conc_out_accuracy: 0.0000e+00\n",
            "Epoch 111/200\n",
            "1/2 [==============>...............] - ETA: 0s - loss: 27026.1172 - saccharide_out_loss: 0.4914 - conc_out_loss: 27025.6250 - saccharide_out_accuracy: 0.7422 - conc_out_accuracy: 0.0000e+00\n",
            "Epoch 00111: val_loss improved from 27559.00977 to 27558.89844, saving model to saccharide.h5\n",
            "2/2 [==============================] - 0s 24ms/step - loss: 27233.0859 - saccharide_out_loss: 0.4924 - conc_out_loss: 27232.5918 - saccharide_out_accuracy: 0.7390 - conc_out_accuracy: 0.0000e+00 - val_loss: 27558.8984 - val_saccharide_out_loss: 0.5133 - val_conc_out_loss: 27558.3848 - val_saccharide_out_accuracy: 0.7188 - val_conc_out_accuracy: 0.0000e+00\n",
            "Epoch 112/200\n",
            "1/2 [==============>...............] - ETA: 0s - loss: 27472.1055 - saccharide_out_loss: 0.4919 - conc_out_loss: 27471.6133 - saccharide_out_accuracy: 0.7480 - conc_out_accuracy: 0.0000e+00\n",
            "Epoch 00112: val_loss improved from 27558.89844 to 27558.78711, saving model to saccharide.h5\n",
            "2/2 [==============================] - 0s 24ms/step - loss: 27232.9902 - saccharide_out_loss: 0.4927 - conc_out_loss: 27232.4961 - saccharide_out_accuracy: 0.7518 - conc_out_accuracy: 0.0000e+00 - val_loss: 27558.7871 - val_saccharide_out_loss: 0.5131 - val_conc_out_loss: 27558.2734 - val_saccharide_out_accuracy: 0.7188 - val_conc_out_accuracy: 0.0000e+00\n",
            "Epoch 113/200\n",
            "1/2 [==============>...............] - ETA: 0s - loss: 26999.0527 - saccharide_out_loss: 0.4987 - conc_out_loss: 26998.5547 - saccharide_out_accuracy: 0.7520 - conc_out_accuracy: 0.0000e+00\n",
            "Epoch 00113: val_loss improved from 27558.78711 to 27558.67773, saving model to saccharide.h5\n",
            "2/2 [==============================] - 0s 24ms/step - loss: 27232.9648 - saccharide_out_loss: 0.4972 - conc_out_loss: 27232.4688 - saccharide_out_accuracy: 0.7537 - conc_out_accuracy: 0.0000e+00 - val_loss: 27558.6777 - val_saccharide_out_loss: 0.5133 - val_conc_out_loss: 27558.1621 - val_saccharide_out_accuracy: 0.7292 - val_conc_out_accuracy: 0.0000e+00\n",
            "Epoch 114/200\n",
            "1/2 [==============>...............] - ETA: 0s - loss: 27016.9609 - saccharide_out_loss: 0.4882 - conc_out_loss: 27016.4727 - saccharide_out_accuracy: 0.7285 - conc_out_accuracy: 0.0000e+00\n",
            "Epoch 00114: val_loss improved from 27558.67773 to 27558.56836, saving model to saccharide.h5\n",
            "2/2 [==============================] - 0s 24ms/step - loss: 27232.7578 - saccharide_out_loss: 0.4924 - conc_out_loss: 27232.2656 - saccharide_out_accuracy: 0.7261 - conc_out_accuracy: 0.0000e+00 - val_loss: 27558.5684 - val_saccharide_out_loss: 0.5138 - val_conc_out_loss: 27558.0547 - val_saccharide_out_accuracy: 0.7188 - val_conc_out_accuracy: 0.0000e+00\n",
            "Epoch 115/200\n",
            "1/2 [==============>...............] - ETA: 0s - loss: 27571.3887 - saccharide_out_loss: 0.4981 - conc_out_loss: 27570.8906 - saccharide_out_accuracy: 0.7285 - conc_out_accuracy: 0.0000e+00\n",
            "Epoch 00115: val_loss improved from 27558.56836 to 27558.45898, saving model to saccharide.h5\n",
            "2/2 [==============================] - 0s 25ms/step - loss: 27232.7207 - saccharide_out_loss: 0.5017 - conc_out_loss: 27232.2188 - saccharide_out_accuracy: 0.7206 - conc_out_accuracy: 0.0000e+00 - val_loss: 27558.4590 - val_saccharide_out_loss: 0.5142 - val_conc_out_loss: 27557.9434 - val_saccharide_out_accuracy: 0.7292 - val_conc_out_accuracy: 0.0000e+00\n",
            "Epoch 116/200\n",
            "1/2 [==============>...............] - ETA: 0s - loss: 26522.3750 - saccharide_out_loss: 0.4999 - conc_out_loss: 26521.8750 - saccharide_out_accuracy: 0.7148 - conc_out_accuracy: 0.0000e+00\n",
            "Epoch 00116: val_loss improved from 27558.45898 to 27558.34961, saving model to saccharide.h5\n",
            "2/2 [==============================] - 0s 24ms/step - loss: 27232.4336 - saccharide_out_loss: 0.4936 - conc_out_loss: 27231.9395 - saccharide_out_accuracy: 0.7206 - conc_out_accuracy: 0.0000e+00 - val_loss: 27558.3496 - val_saccharide_out_loss: 0.5144 - val_conc_out_loss: 27557.8340 - val_saccharide_out_accuracy: 0.7188 - val_conc_out_accuracy: 0.0000e+00\n",
            "Epoch 117/200\n",
            "1/2 [==============>...............] - ETA: 0s - loss: 27006.2422 - saccharide_out_loss: 0.4889 - conc_out_loss: 27005.7539 - saccharide_out_accuracy: 0.7461 - conc_out_accuracy: 0.0000e+00\n",
            "Epoch 00117: val_loss improved from 27558.34961 to 27558.23438, saving model to saccharide.h5\n",
            "2/2 [==============================] - 0s 23ms/step - loss: 27232.5352 - saccharide_out_loss: 0.4870 - conc_out_loss: 27232.0469 - saccharide_out_accuracy: 0.7482 - conc_out_accuracy: 0.0000e+00 - val_loss: 27558.2344 - val_saccharide_out_loss: 0.5144 - val_conc_out_loss: 27557.7207 - val_saccharide_out_accuracy: 0.7188 - val_conc_out_accuracy: 0.0000e+00\n",
            "Epoch 118/200\n",
            "1/2 [==============>...............] - ETA: 0s - loss: 27201.8008 - saccharide_out_loss: 0.4914 - conc_out_loss: 27201.3086 - saccharide_out_accuracy: 0.7520 - conc_out_accuracy: 0.0000e+00\n",
            "Epoch 00118: val_loss improved from 27558.23438 to 27558.11914, saving model to saccharide.h5\n",
            "2/2 [==============================] - 0s 23ms/step - loss: 27232.4570 - saccharide_out_loss: 0.4906 - conc_out_loss: 27231.9668 - saccharide_out_accuracy: 0.7518 - conc_out_accuracy: 0.0000e+00 - val_loss: 27558.1191 - val_saccharide_out_loss: 0.5143 - val_conc_out_loss: 27557.6074 - val_saccharide_out_accuracy: 0.7188 - val_conc_out_accuracy: 0.0000e+00\n",
            "Epoch 119/200\n",
            "1/2 [==============>...............] - ETA: 0s - loss: 27142.5117 - saccharide_out_loss: 0.4943 - conc_out_loss: 27142.0176 - saccharide_out_accuracy: 0.7402 - conc_out_accuracy: 0.0000e+00\n",
            "Epoch 00119: val_loss improved from 27558.11914 to 27558.00781, saving model to saccharide.h5\n",
            "2/2 [==============================] - 0s 23ms/step - loss: 27232.4297 - saccharide_out_loss: 0.4972 - conc_out_loss: 27231.9336 - saccharide_out_accuracy: 0.7390 - conc_out_accuracy: 0.0000e+00 - val_loss: 27558.0078 - val_saccharide_out_loss: 0.5141 - val_conc_out_loss: 27557.4941 - val_saccharide_out_accuracy: 0.7188 - val_conc_out_accuracy: 0.0000e+00\n",
            "Epoch 120/200\n",
            "1/2 [==============>...............] - ETA: 0s - loss: 26731.1602 - saccharide_out_loss: 0.4919 - conc_out_loss: 26730.6680 - saccharide_out_accuracy: 0.7383 - conc_out_accuracy: 0.0000e+00\n",
            "Epoch 00120: val_loss improved from 27558.00781 to 27557.89648, saving model to saccharide.h5\n",
            "2/2 [==============================] - 0s 23ms/step - loss: 27232.1094 - saccharide_out_loss: 0.4919 - conc_out_loss: 27231.6152 - saccharide_out_accuracy: 0.7335 - conc_out_accuracy: 0.0000e+00 - val_loss: 27557.8965 - val_saccharide_out_loss: 0.5137 - val_conc_out_loss: 27557.3828 - val_saccharide_out_accuracy: 0.7292 - val_conc_out_accuracy: 0.0000e+00\n",
            "Epoch 121/200\n",
            "1/2 [==============>...............] - ETA: 0s - loss: 26717.8184 - saccharide_out_loss: 0.5033 - conc_out_loss: 26717.3145 - saccharide_out_accuracy: 0.7305 - conc_out_accuracy: 0.0000e+00\n",
            "Epoch 00121: val_loss improved from 27557.89648 to 27557.78711, saving model to saccharide.h5\n",
            "2/2 [==============================] - 0s 25ms/step - loss: 27232.1953 - saccharide_out_loss: 0.4973 - conc_out_loss: 27231.6992 - saccharide_out_accuracy: 0.7316 - conc_out_accuracy: 0.0000e+00 - val_loss: 27557.7871 - val_saccharide_out_loss: 0.5135 - val_conc_out_loss: 27557.2715 - val_saccharide_out_accuracy: 0.7396 - val_conc_out_accuracy: 0.0000e+00\n",
            "Epoch 122/200\n",
            "1/2 [==============>...............] - ETA: 0s - loss: 27541.3887 - saccharide_out_loss: 0.4905 - conc_out_loss: 27540.8984 - saccharide_out_accuracy: 0.7441 - conc_out_accuracy: 0.0000e+00\n",
            "Epoch 00122: val_loss improved from 27557.78711 to 27557.67188, saving model to saccharide.h5\n",
            "2/2 [==============================] - 0s 22ms/step - loss: 27232.0938 - saccharide_out_loss: 0.4907 - conc_out_loss: 27231.6035 - saccharide_out_accuracy: 0.7408 - conc_out_accuracy: 0.0000e+00 - val_loss: 27557.6719 - val_saccharide_out_loss: 0.5137 - val_conc_out_loss: 27557.1582 - val_saccharide_out_accuracy: 0.7188 - val_conc_out_accuracy: 0.0000e+00\n",
            "Epoch 123/200\n",
            "1/2 [==============>...............] - ETA: 0s - loss: 27215.1855 - saccharide_out_loss: 0.4904 - conc_out_loss: 27214.6953 - saccharide_out_accuracy: 0.7461 - conc_out_accuracy: 0.0000e+00\n",
            "Epoch 00123: val_loss improved from 27557.67188 to 27557.56836, saving model to saccharide.h5\n",
            "2/2 [==============================] - 0s 22ms/step - loss: 27232.0293 - saccharide_out_loss: 0.4941 - conc_out_loss: 27231.5371 - saccharide_out_accuracy: 0.7463 - conc_out_accuracy: 0.0000e+00 - val_loss: 27557.5684 - val_saccharide_out_loss: 0.5140 - val_conc_out_loss: 27557.0527 - val_saccharide_out_accuracy: 0.7188 - val_conc_out_accuracy: 0.0000e+00\n",
            "Epoch 124/200\n",
            "1/2 [==============>...............] - ETA: 0s - loss: 27426.5625 - saccharide_out_loss: 0.5054 - conc_out_loss: 27426.0566 - saccharide_out_accuracy: 0.7109 - conc_out_accuracy: 0.0000e+00\n",
            "Epoch 00124: val_loss improved from 27557.56836 to 27557.45898, saving model to saccharide.h5\n",
            "2/2 [==============================] - 0s 22ms/step - loss: 27232.0117 - saccharide_out_loss: 0.5014 - conc_out_loss: 27231.5098 - saccharide_out_accuracy: 0.7151 - conc_out_accuracy: 0.0000e+00 - val_loss: 27557.4590 - val_saccharide_out_loss: 0.5142 - val_conc_out_loss: 27556.9434 - val_saccharide_out_accuracy: 0.7188 - val_conc_out_accuracy: 0.0000e+00\n",
            "Epoch 125/200\n",
            "1/2 [==============>...............] - ETA: 0s - loss: 27193.8359 - saccharide_out_loss: 0.4968 - conc_out_loss: 27193.3398 - saccharide_out_accuracy: 0.7402 - conc_out_accuracy: 0.0000e+00\n",
            "Epoch 00125: val_loss improved from 27557.45898 to 27557.34961, saving model to saccharide.h5\n",
            "2/2 [==============================] - 0s 24ms/step - loss: 27231.7402 - saccharide_out_loss: 0.4965 - conc_out_loss: 27231.2441 - saccharide_out_accuracy: 0.7371 - conc_out_accuracy: 0.0000e+00 - val_loss: 27557.3496 - val_saccharide_out_loss: 0.5141 - val_conc_out_loss: 27556.8340 - val_saccharide_out_accuracy: 0.7188 - val_conc_out_accuracy: 0.0000e+00\n",
            "Epoch 126/200\n",
            "1/2 [==============>...............] - ETA: 0s - loss: 27083.4043 - saccharide_out_loss: 0.4855 - conc_out_loss: 27082.9180 - saccharide_out_accuracy: 0.7344 - conc_out_accuracy: 0.0000e+00\n",
            "Epoch 00126: val_loss improved from 27557.34961 to 27557.23438, saving model to saccharide.h5\n",
            "2/2 [==============================] - 0s 26ms/step - loss: 27231.7031 - saccharide_out_loss: 0.4920 - conc_out_loss: 27231.2090 - saccharide_out_accuracy: 0.7298 - conc_out_accuracy: 0.0000e+00 - val_loss: 27557.2344 - val_saccharide_out_loss: 0.5136 - val_conc_out_loss: 27556.7207 - val_saccharide_out_accuracy: 0.7188 - val_conc_out_accuracy: 0.0000e+00\n",
            "Epoch 127/200\n",
            "1/2 [==============>...............] - ETA: 0s - loss: 27460.3828 - saccharide_out_loss: 0.4884 - conc_out_loss: 27459.8945 - saccharide_out_accuracy: 0.7500 - conc_out_accuracy: 0.0000e+00\n",
            "Epoch 00127: val_loss improved from 27557.23438 to 27557.11719, saving model to saccharide.h5\n",
            "2/2 [==============================] - 0s 23ms/step - loss: 27231.6719 - saccharide_out_loss: 0.4880 - conc_out_loss: 27231.1836 - saccharide_out_accuracy: 0.7482 - conc_out_accuracy: 0.0000e+00 - val_loss: 27557.1172 - val_saccharide_out_loss: 0.5133 - val_conc_out_loss: 27556.6035 - val_saccharide_out_accuracy: 0.7188 - val_conc_out_accuracy: 0.0000e+00\n",
            "Epoch 128/200\n",
            "1/2 [==============>...............] - ETA: 0s - loss: 26780.4531 - saccharide_out_loss: 0.4995 - conc_out_loss: 26779.9531 - saccharide_out_accuracy: 0.7559 - conc_out_accuracy: 0.0000e+00\n",
            "Epoch 00128: val_loss improved from 27557.11719 to 27557.00000, saving model to saccharide.h5\n",
            "2/2 [==============================] - 0s 23ms/step - loss: 27231.5234 - saccharide_out_loss: 0.4952 - conc_out_loss: 27231.0293 - saccharide_out_accuracy: 0.7592 - conc_out_accuracy: 0.0000e+00 - val_loss: 27557.0000 - val_saccharide_out_loss: 0.5136 - val_conc_out_loss: 27556.4863 - val_saccharide_out_accuracy: 0.7188 - val_conc_out_accuracy: 0.0000e+00\n",
            "Epoch 129/200\n",
            "1/2 [==============>...............] - ETA: 0s - loss: 27099.3789 - saccharide_out_loss: 0.4915 - conc_out_loss: 27098.8867 - saccharide_out_accuracy: 0.7422 - conc_out_accuracy: 0.0000e+00\n",
            "Epoch 00129: val_loss improved from 27557.00000 to 27556.88086, saving model to saccharide.h5\n",
            "2/2 [==============================] - 0s 25ms/step - loss: 27231.4668 - saccharide_out_loss: 0.4909 - conc_out_loss: 27230.9746 - saccharide_out_accuracy: 0.7463 - conc_out_accuracy: 0.0000e+00 - val_loss: 27556.8809 - val_saccharide_out_loss: 0.5139 - val_conc_out_loss: 27556.3672 - val_saccharide_out_accuracy: 0.7188 - val_conc_out_accuracy: 0.0000e+00\n",
            "Epoch 130/200\n",
            "1/2 [==============>...............] - ETA: 0s - loss: 26692.0996 - saccharide_out_loss: 0.4904 - conc_out_loss: 26691.6094 - saccharide_out_accuracy: 0.7344 - conc_out_accuracy: 0.0000e+00\n",
            "Epoch 00130: val_loss improved from 27556.88086 to 27556.75977, saving model to saccharide.h5\n",
            "2/2 [==============================] - 0s 22ms/step - loss: 27231.4844 - saccharide_out_loss: 0.4930 - conc_out_loss: 27230.9922 - saccharide_out_accuracy: 0.7298 - conc_out_accuracy: 0.0000e+00 - val_loss: 27556.7598 - val_saccharide_out_loss: 0.5142 - val_conc_out_loss: 27556.2480 - val_saccharide_out_accuracy: 0.7188 - val_conc_out_accuracy: 0.0000e+00\n",
            "Epoch 131/200\n",
            "1/2 [==============>...............] - ETA: 0s - loss: 27599.8301 - saccharide_out_loss: 0.4931 - conc_out_loss: 27599.3379 - saccharide_out_accuracy: 0.7188 - conc_out_accuracy: 0.0000e+00\n",
            "Epoch 00131: val_loss improved from 27556.75977 to 27556.64062, saving model to saccharide.h5\n",
            "2/2 [==============================] - 0s 24ms/step - loss: 27231.2520 - saccharide_out_loss: 0.4949 - conc_out_loss: 27230.7578 - saccharide_out_accuracy: 0.7206 - conc_out_accuracy: 0.0000e+00 - val_loss: 27556.6406 - val_saccharide_out_loss: 0.5143 - val_conc_out_loss: 27556.1270 - val_saccharide_out_accuracy: 0.7083 - val_conc_out_accuracy: 0.0000e+00\n",
            "Epoch 132/200\n",
            "1/2 [==============>...............] - ETA: 0s - loss: 26717.6328 - saccharide_out_loss: 0.4952 - conc_out_loss: 26717.1367 - saccharide_out_accuracy: 0.7441 - conc_out_accuracy: 0.0000e+00\n",
            "Epoch 00132: val_loss improved from 27556.64062 to 27556.52148, saving model to saccharide.h5\n",
            "2/2 [==============================] - 0s 22ms/step - loss: 27231.0723 - saccharide_out_loss: 0.4897 - conc_out_loss: 27230.5801 - saccharide_out_accuracy: 0.7518 - conc_out_accuracy: 0.0000e+00 - val_loss: 27556.5215 - val_saccharide_out_loss: 0.5144 - val_conc_out_loss: 27556.0078 - val_saccharide_out_accuracy: 0.6875 - val_conc_out_accuracy: 0.0000e+00\n",
            "Epoch 133/200\n",
            "1/2 [==============>...............] - ETA: 0s - loss: 26953.7910 - saccharide_out_loss: 0.4850 - conc_out_loss: 26953.3066 - saccharide_out_accuracy: 0.7461 - conc_out_accuracy: 0.0000e+00\n",
            "Epoch 00133: val_loss improved from 27556.52148 to 27556.39844, saving model to saccharide.h5\n",
            "2/2 [==============================] - 0s 24ms/step - loss: 27231.0938 - saccharide_out_loss: 0.4856 - conc_out_loss: 27230.6094 - saccharide_out_accuracy: 0.7426 - conc_out_accuracy: 0.0000e+00 - val_loss: 27556.3984 - val_saccharide_out_loss: 0.5148 - val_conc_out_loss: 27555.8828 - val_saccharide_out_accuracy: 0.6875 - val_conc_out_accuracy: 0.0000e+00\n",
            "Epoch 134/200\n",
            "1/2 [==============>...............] - ETA: 0s - loss: 26905.4434 - saccharide_out_loss: 0.4983 - conc_out_loss: 26904.9453 - saccharide_out_accuracy: 0.7441 - conc_out_accuracy: 0.0000e+00\n",
            "Epoch 00134: val_loss improved from 27556.39844 to 27556.27539, saving model to saccharide.h5\n",
            "2/2 [==============================] - 0s 23ms/step - loss: 27230.7930 - saccharide_out_loss: 0.4932 - conc_out_loss: 27230.2988 - saccharide_out_accuracy: 0.7500 - conc_out_accuracy: 0.0000e+00 - val_loss: 27556.2754 - val_saccharide_out_loss: 0.5154 - val_conc_out_loss: 27555.7598 - val_saccharide_out_accuracy: 0.6562 - val_conc_out_accuracy: 0.0000e+00\n",
            "Epoch 135/200\n",
            "1/2 [==============>...............] - ETA: 0s - loss: 26985.8125 - saccharide_out_loss: 0.4949 - conc_out_loss: 26985.3184 - saccharide_out_accuracy: 0.7246 - conc_out_accuracy: 0.0000e+00\n",
            "Epoch 00135: val_loss improved from 27556.27539 to 27556.15039, saving model to saccharide.h5\n",
            "2/2 [==============================] - 0s 23ms/step - loss: 27230.9375 - saccharide_out_loss: 0.4922 - conc_out_loss: 27230.4453 - saccharide_out_accuracy: 0.7279 - conc_out_accuracy: 0.0000e+00 - val_loss: 27556.1504 - val_saccharide_out_loss: 0.5162 - val_conc_out_loss: 27555.6348 - val_saccharide_out_accuracy: 0.6562 - val_conc_out_accuracy: 0.0000e+00\n",
            "Epoch 136/200\n",
            "1/2 [==============>...............] - ETA: 0s - loss: 27071.7168 - saccharide_out_loss: 0.4961 - conc_out_loss: 27071.2207 - saccharide_out_accuracy: 0.7363 - conc_out_accuracy: 0.0000e+00\n",
            "Epoch 00136: val_loss improved from 27556.15039 to 27556.02930, saving model to saccharide.h5\n",
            "2/2 [==============================] - 0s 23ms/step - loss: 27230.8066 - saccharide_out_loss: 0.4935 - conc_out_loss: 27230.3145 - saccharide_out_accuracy: 0.7390 - conc_out_accuracy: 0.0000e+00 - val_loss: 27556.0293 - val_saccharide_out_loss: 0.5165 - val_conc_out_loss: 27555.5137 - val_saccharide_out_accuracy: 0.6562 - val_conc_out_accuracy: 0.0000e+00\n",
            "Epoch 137/200\n",
            "1/2 [==============>...............] - ETA: 0s - loss: 27334.4180 - saccharide_out_loss: 0.4826 - conc_out_loss: 27333.9355 - saccharide_out_accuracy: 0.7500 - conc_out_accuracy: 0.0000e+00\n",
            "Epoch 00137: val_loss improved from 27556.02930 to 27555.90625, saving model to saccharide.h5\n",
            "2/2 [==============================] - 0s 25ms/step - loss: 27230.5176 - saccharide_out_loss: 0.4865 - conc_out_loss: 27230.0332 - saccharide_out_accuracy: 0.7445 - conc_out_accuracy: 0.0000e+00 - val_loss: 27555.9062 - val_saccharide_out_loss: 0.5169 - val_conc_out_loss: 27555.3887 - val_saccharide_out_accuracy: 0.6562 - val_conc_out_accuracy: 0.0000e+00\n",
            "Epoch 138/200\n",
            "1/2 [==============>...............] - ETA: 0s - loss: 27537.7891 - saccharide_out_loss: 0.4925 - conc_out_loss: 27537.2969 - saccharide_out_accuracy: 0.7266 - conc_out_accuracy: 0.0000e+00\n",
            "Epoch 00138: val_loss improved from 27555.90625 to 27555.78320, saving model to saccharide.h5\n",
            "2/2 [==============================] - 0s 23ms/step - loss: 27230.6367 - saccharide_out_loss: 0.4936 - conc_out_loss: 27230.1426 - saccharide_out_accuracy: 0.7279 - conc_out_accuracy: 0.0000e+00 - val_loss: 27555.7832 - val_saccharide_out_loss: 0.5182 - val_conc_out_loss: 27555.2656 - val_saccharide_out_accuracy: 0.6667 - val_conc_out_accuracy: 0.0000e+00\n",
            "Epoch 139/200\n",
            "1/2 [==============>...............] - ETA: 0s - loss: 27132.0137 - saccharide_out_loss: 0.4911 - conc_out_loss: 27131.5234 - saccharide_out_accuracy: 0.7324 - conc_out_accuracy: 0.0000e+00\n",
            "Epoch 00139: val_loss improved from 27555.78320 to 27555.66211, saving model to saccharide.h5\n",
            "2/2 [==============================] - 0s 28ms/step - loss: 27230.5605 - saccharide_out_loss: 0.4895 - conc_out_loss: 27230.0723 - saccharide_out_accuracy: 0.7298 - conc_out_accuracy: 0.0000e+00 - val_loss: 27555.6621 - val_saccharide_out_loss: 0.5203 - val_conc_out_loss: 27555.1426 - val_saccharide_out_accuracy: 0.6458 - val_conc_out_accuracy: 0.0000e+00\n",
            "Epoch 140/200\n",
            "1/2 [==============>...............] - ETA: 0s - loss: 27469.0469 - saccharide_out_loss: 0.4764 - conc_out_loss: 27468.5703 - saccharide_out_accuracy: 0.7559 - conc_out_accuracy: 0.0000e+00\n",
            "Epoch 00140: val_loss improved from 27555.66211 to 27555.53711, saving model to saccharide.h5\n",
            "2/2 [==============================] - 0s 29ms/step - loss: 27230.3281 - saccharide_out_loss: 0.4830 - conc_out_loss: 27229.8457 - saccharide_out_accuracy: 0.7537 - conc_out_accuracy: 0.0000e+00 - val_loss: 27555.5371 - val_saccharide_out_loss: 0.5224 - val_conc_out_loss: 27555.0156 - val_saccharide_out_accuracy: 0.6354 - val_conc_out_accuracy: 0.0000e+00\n",
            "Epoch 141/200\n",
            "1/2 [==============>...............] - ETA: 0s - loss: 27320.1992 - saccharide_out_loss: 0.4887 - conc_out_loss: 27319.7109 - saccharide_out_accuracy: 0.7383 - conc_out_accuracy: 0.0000e+00\n",
            "Epoch 00141: val_loss improved from 27555.53711 to 27555.41211, saving model to saccharide.h5\n",
            "2/2 [==============================] - 0s 23ms/step - loss: 27230.4082 - saccharide_out_loss: 0.4891 - conc_out_loss: 27229.9199 - saccharide_out_accuracy: 0.7371 - conc_out_accuracy: 0.0000e+00 - val_loss: 27555.4121 - val_saccharide_out_loss: 0.5238 - val_conc_out_loss: 27554.8887 - val_saccharide_out_accuracy: 0.6354 - val_conc_out_accuracy: 0.0000e+00\n",
            "Epoch 142/200\n",
            "1/2 [==============>...............] - ETA: 0s - loss: 27688.0039 - saccharide_out_loss: 0.4842 - conc_out_loss: 27687.5195 - saccharide_out_accuracy: 0.7344 - conc_out_accuracy: 0.0000e+00\n",
            "Epoch 00142: val_loss improved from 27555.41211 to 27555.28906, saving model to saccharide.h5\n",
            "2/2 [==============================] - 0s 25ms/step - loss: 27230.1836 - saccharide_out_loss: 0.4901 - conc_out_loss: 27229.6953 - saccharide_out_accuracy: 0.7298 - conc_out_accuracy: 0.0000e+00 - val_loss: 27555.2891 - val_saccharide_out_loss: 0.5244 - val_conc_out_loss: 27554.7656 - val_saccharide_out_accuracy: 0.6354 - val_conc_out_accuracy: 0.0000e+00\n",
            "Epoch 143/200\n",
            "1/2 [==============>...............] - ETA: 0s - loss: 27777.9277 - saccharide_out_loss: 0.4827 - conc_out_loss: 27777.4453 - saccharide_out_accuracy: 0.7461 - conc_out_accuracy: 0.0000e+00\n",
            "Epoch 00143: val_loss improved from 27555.28906 to 27555.16602, saving model to saccharide.h5\n",
            "2/2 [==============================] - 0s 28ms/step - loss: 27230.1094 - saccharide_out_loss: 0.4911 - conc_out_loss: 27229.6172 - saccharide_out_accuracy: 0.7371 - conc_out_accuracy: 0.0000e+00 - val_loss: 27555.1660 - val_saccharide_out_loss: 0.5237 - val_conc_out_loss: 27554.6426 - val_saccharide_out_accuracy: 0.6354 - val_conc_out_accuracy: 0.0000e+00\n",
            "Epoch 144/200\n",
            "1/2 [==============>...............] - ETA: 0s - loss: 26925.3086 - saccharide_out_loss: 0.4982 - conc_out_loss: 26924.8105 - saccharide_out_accuracy: 0.7402 - conc_out_accuracy: 0.0000e+00\n",
            "Epoch 00144: val_loss improved from 27555.16602 to 27555.04102, saving model to saccharide.h5\n",
            "2/2 [==============================] - 0s 22ms/step - loss: 27229.8906 - saccharide_out_loss: 0.4949 - conc_out_loss: 27229.3965 - saccharide_out_accuracy: 0.7390 - conc_out_accuracy: 0.0000e+00 - val_loss: 27555.0410 - val_saccharide_out_loss: 0.5217 - val_conc_out_loss: 27554.5215 - val_saccharide_out_accuracy: 0.6354 - val_conc_out_accuracy: 0.0000e+00\n",
            "Epoch 145/200\n",
            "1/2 [==============>...............] - ETA: 0s - loss: 27542.3418 - saccharide_out_loss: 0.4893 - conc_out_loss: 27541.8516 - saccharide_out_accuracy: 0.7520 - conc_out_accuracy: 0.0000e+00\n",
            "Epoch 00145: val_loss improved from 27555.04102 to 27554.91602, saving model to saccharide.h5\n",
            "2/2 [==============================] - 0s 20ms/step - loss: 27230.1367 - saccharide_out_loss: 0.4930 - conc_out_loss: 27229.6406 - saccharide_out_accuracy: 0.7426 - conc_out_accuracy: 0.0000e+00 - val_loss: 27554.9160 - val_saccharide_out_loss: 0.5194 - val_conc_out_loss: 27554.3965 - val_saccharide_out_accuracy: 0.6354 - val_conc_out_accuracy: 0.0000e+00\n",
            "Epoch 146/200\n",
            "1/2 [==============>...............] - ETA: 0s - loss: 26922.5137 - saccharide_out_loss: 0.4927 - conc_out_loss: 26922.0215 - saccharide_out_accuracy: 0.7402 - conc_out_accuracy: 0.0000e+00\n",
            "Epoch 00146: val_loss improved from 27554.91602 to 27554.78906, saving model to saccharide.h5\n",
            "2/2 [==============================] - 0s 23ms/step - loss: 27229.8711 - saccharide_out_loss: 0.4892 - conc_out_loss: 27229.3828 - saccharide_out_accuracy: 0.7426 - conc_out_accuracy: 0.0000e+00 - val_loss: 27554.7891 - val_saccharide_out_loss: 0.5175 - val_conc_out_loss: 27554.2715 - val_saccharide_out_accuracy: 0.6458 - val_conc_out_accuracy: 0.0000e+00\n",
            "Epoch 147/200\n",
            "1/2 [==============>...............] - ETA: 0s - loss: 27332.3047 - saccharide_out_loss: 0.4878 - conc_out_loss: 27331.8164 - saccharide_out_accuracy: 0.7344 - conc_out_accuracy: 0.0000e+00\n",
            "Epoch 00147: val_loss improved from 27554.78906 to 27554.65625, saving model to saccharide.h5\n",
            "2/2 [==============================] - 0s 23ms/step - loss: 27229.8066 - saccharide_out_loss: 0.4841 - conc_out_loss: 27229.3223 - saccharide_out_accuracy: 0.7371 - conc_out_accuracy: 0.0000e+00 - val_loss: 27554.6562 - val_saccharide_out_loss: 0.5164 - val_conc_out_loss: 27554.1406 - val_saccharide_out_accuracy: 0.6562 - val_conc_out_accuracy: 0.0000e+00\n",
            "Epoch 148/200\n",
            "1/2 [==============>...............] - ETA: 0s - loss: 27373.4023 - saccharide_out_loss: 0.4723 - conc_out_loss: 27372.9297 - saccharide_out_accuracy: 0.7734 - conc_out_accuracy: 0.0000e+00\n",
            "Epoch 00148: val_loss improved from 27554.65625 to 27554.52539, saving model to saccharide.h5\n",
            "2/2 [==============================] - 0s 21ms/step - loss: 27229.5898 - saccharide_out_loss: 0.4823 - conc_out_loss: 27229.1074 - saccharide_out_accuracy: 0.7665 - conc_out_accuracy: 0.0000e+00 - val_loss: 27554.5254 - val_saccharide_out_loss: 0.5155 - val_conc_out_loss: 27554.0098 - val_saccharide_out_accuracy: 0.6667 - val_conc_out_accuracy: 0.0000e+00\n",
            "Epoch 149/200\n",
            "1/2 [==============>...............] - ETA: 0s - loss: 26388.1211 - saccharide_out_loss: 0.4991 - conc_out_loss: 26387.6211 - saccharide_out_accuracy: 0.7109 - conc_out_accuracy: 0.0000e+00\n",
            "Epoch 00149: val_loss improved from 27554.52539 to 27554.38281, saving model to saccharide.h5\n",
            "2/2 [==============================] - 0s 23ms/step - loss: 27229.3633 - saccharide_out_loss: 0.4907 - conc_out_loss: 27228.8730 - saccharide_out_accuracy: 0.7169 - conc_out_accuracy: 0.0000e+00 - val_loss: 27554.3828 - val_saccharide_out_loss: 0.5146 - val_conc_out_loss: 27553.8691 - val_saccharide_out_accuracy: 0.6667 - val_conc_out_accuracy: 0.0000e+00\n",
            "Epoch 150/200\n",
            "1/2 [==============>...............] - ETA: 0s - loss: 27128.8398 - saccharide_out_loss: 0.4941 - conc_out_loss: 27128.3457 - saccharide_out_accuracy: 0.7344 - conc_out_accuracy: 0.0000e+00\n",
            "Epoch 00150: val_loss improved from 27554.38281 to 27554.24414, saving model to saccharide.h5\n",
            "2/2 [==============================] - 0s 24ms/step - loss: 27229.3691 - saccharide_out_loss: 0.4909 - conc_out_loss: 27228.8789 - saccharide_out_accuracy: 0.7353 - conc_out_accuracy: 0.0000e+00 - val_loss: 27554.2441 - val_saccharide_out_loss: 0.5140 - val_conc_out_loss: 27553.7324 - val_saccharide_out_accuracy: 0.6562 - val_conc_out_accuracy: 0.0000e+00\n",
            "Epoch 151/200\n",
            "1/2 [==============>...............] - ETA: 0s - loss: 26974.6582 - saccharide_out_loss: 0.4889 - conc_out_loss: 26974.1699 - saccharide_out_accuracy: 0.7227 - conc_out_accuracy: 0.0000e+00\n",
            "Epoch 00151: val_loss improved from 27554.24414 to 27554.10352, saving model to saccharide.h5\n",
            "2/2 [==============================] - 0s 23ms/step - loss: 27229.3008 - saccharide_out_loss: 0.4892 - conc_out_loss: 27228.8125 - saccharide_out_accuracy: 0.7298 - conc_out_accuracy: 0.0000e+00 - val_loss: 27554.1035 - val_saccharide_out_loss: 0.5136 - val_conc_out_loss: 27553.5918 - val_saccharide_out_accuracy: 0.6562 - val_conc_out_accuracy: 0.0000e+00\n",
            "Epoch 152/200\n",
            "1/2 [==============>...............] - ETA: 0s - loss: 27022.1992 - saccharide_out_loss: 0.4894 - conc_out_loss: 27021.7090 - saccharide_out_accuracy: 0.7344 - conc_out_accuracy: 0.0000e+00\n",
            "Epoch 00152: val_loss improved from 27554.10352 to 27553.96094, saving model to saccharide.h5\n",
            "2/2 [==============================] - 0s 23ms/step - loss: 27229.3047 - saccharide_out_loss: 0.4868 - conc_out_loss: 27228.8184 - saccharide_out_accuracy: 0.7335 - conc_out_accuracy: 0.0000e+00 - val_loss: 27553.9609 - val_saccharide_out_loss: 0.5134 - val_conc_out_loss: 27553.4473 - val_saccharide_out_accuracy: 0.6562 - val_conc_out_accuracy: 0.0000e+00\n",
            "Epoch 153/200\n",
            "1/2 [==============>...............] - ETA: 0s - loss: 26972.1602 - saccharide_out_loss: 0.4811 - conc_out_loss: 26971.6797 - saccharide_out_accuracy: 0.7598 - conc_out_accuracy: 0.0000e+00\n",
            "Epoch 00153: val_loss improved from 27553.96094 to 27553.82031, saving model to saccharide.h5\n",
            "2/2 [==============================] - 0s 24ms/step - loss: 27228.8281 - saccharide_out_loss: 0.4753 - conc_out_loss: 27228.3535 - saccharide_out_accuracy: 0.7665 - conc_out_accuracy: 0.0000e+00 - val_loss: 27553.8203 - val_saccharide_out_loss: 0.5133 - val_conc_out_loss: 27553.3066 - val_saccharide_out_accuracy: 0.6562 - val_conc_out_accuracy: 0.0000e+00\n",
            "Epoch 154/200\n",
            "1/2 [==============>...............] - ETA: 0s - loss: 27071.5254 - saccharide_out_loss: 0.4893 - conc_out_loss: 27071.0352 - saccharide_out_accuracy: 0.7520 - conc_out_accuracy: 0.0000e+00\n",
            "Epoch 00154: val_loss improved from 27553.82031 to 27553.67773, saving model to saccharide.h5\n",
            "2/2 [==============================] - 0s 23ms/step - loss: 27228.8301 - saccharide_out_loss: 0.4921 - conc_out_loss: 27228.3379 - saccharide_out_accuracy: 0.7500 - conc_out_accuracy: 0.0000e+00 - val_loss: 27553.6777 - val_saccharide_out_loss: 0.5130 - val_conc_out_loss: 27553.1641 - val_saccharide_out_accuracy: 0.6562 - val_conc_out_accuracy: 0.0000e+00\n",
            "Epoch 155/200\n",
            "1/2 [==============>...............] - ETA: 0s - loss: 27186.4453 - saccharide_out_loss: 0.4913 - conc_out_loss: 27185.9531 - saccharide_out_accuracy: 0.7363 - conc_out_accuracy: 0.0000e+00\n",
            "Epoch 00155: val_loss improved from 27553.67773 to 27553.53711, saving model to saccharide.h5\n",
            "2/2 [==============================] - 0s 23ms/step - loss: 27228.5664 - saccharide_out_loss: 0.4839 - conc_out_loss: 27228.0801 - saccharide_out_accuracy: 0.7426 - conc_out_accuracy: 0.0000e+00 - val_loss: 27553.5371 - val_saccharide_out_loss: 0.5128 - val_conc_out_loss: 27553.0215 - val_saccharide_out_accuracy: 0.6562 - val_conc_out_accuracy: 0.0000e+00\n",
            "Epoch 156/200\n",
            "1/2 [==============>...............] - ETA: 0s - loss: 27499.4258 - saccharide_out_loss: 0.4791 - conc_out_loss: 27498.9473 - saccharide_out_accuracy: 0.7480 - conc_out_accuracy: 0.0000e+00\n",
            "Epoch 00156: val_loss improved from 27553.53711 to 27553.39258, saving model to saccharide.h5\n",
            "2/2 [==============================] - 0s 24ms/step - loss: 27228.5625 - saccharide_out_loss: 0.4857 - conc_out_loss: 27228.0781 - saccharide_out_accuracy: 0.7390 - conc_out_accuracy: 0.0000e+00 - val_loss: 27553.3926 - val_saccharide_out_loss: 0.5124 - val_conc_out_loss: 27552.8809 - val_saccharide_out_accuracy: 0.6562 - val_conc_out_accuracy: 0.0000e+00\n",
            "Epoch 157/200\n",
            "1/2 [==============>...............] - ETA: 0s - loss: 27672.7637 - saccharide_out_loss: 0.4909 - conc_out_loss: 27672.2734 - saccharide_out_accuracy: 0.7285 - conc_out_accuracy: 0.0000e+00\n",
            "Epoch 00157: val_loss improved from 27553.39258 to 27553.25195, saving model to saccharide.h5\n",
            "2/2 [==============================] - 0s 23ms/step - loss: 27228.6445 - saccharide_out_loss: 0.4932 - conc_out_loss: 27228.1523 - saccharide_out_accuracy: 0.7298 - conc_out_accuracy: 0.0000e+00 - val_loss: 27553.2520 - val_saccharide_out_loss: 0.5120 - val_conc_out_loss: 27552.7402 - val_saccharide_out_accuracy: 0.6562 - val_conc_out_accuracy: 0.0000e+00\n",
            "Epoch 158/200\n",
            "1/2 [==============>...............] - ETA: 0s - loss: 27500.9316 - saccharide_out_loss: 0.4895 - conc_out_loss: 27500.4414 - saccharide_out_accuracy: 0.7266 - conc_out_accuracy: 0.0000e+00\n",
            "Epoch 00158: val_loss improved from 27553.25195 to 27553.10742, saving model to saccharide.h5\n",
            "2/2 [==============================] - 0s 25ms/step - loss: 27228.4668 - saccharide_out_loss: 0.4910 - conc_out_loss: 27227.9746 - saccharide_out_accuracy: 0.7298 - conc_out_accuracy: 0.0000e+00 - val_loss: 27553.1074 - val_saccharide_out_loss: 0.5120 - val_conc_out_loss: 27552.5957 - val_saccharide_out_accuracy: 0.6562 - val_conc_out_accuracy: 0.0000e+00\n",
            "Epoch 159/200\n",
            "1/2 [==============>...............] - ETA: 0s - loss: 27009.2852 - saccharide_out_loss: 0.4884 - conc_out_loss: 27008.7969 - saccharide_out_accuracy: 0.7480 - conc_out_accuracy: 0.0000e+00\n",
            "Epoch 00159: val_loss improved from 27553.10742 to 27552.96289, saving model to saccharide.h5\n",
            "2/2 [==============================] - 0s 25ms/step - loss: 27228.2930 - saccharide_out_loss: 0.4854 - conc_out_loss: 27227.8066 - saccharide_out_accuracy: 0.7482 - conc_out_accuracy: 0.0000e+00 - val_loss: 27552.9629 - val_saccharide_out_loss: 0.5123 - val_conc_out_loss: 27552.4512 - val_saccharide_out_accuracy: 0.6562 - val_conc_out_accuracy: 0.0000e+00\n",
            "Epoch 160/200\n",
            "1/2 [==============>...............] - ETA: 0s - loss: 27213.0938 - saccharide_out_loss: 0.4877 - conc_out_loss: 27212.6055 - saccharide_out_accuracy: 0.7520 - conc_out_accuracy: 0.0000e+00\n",
            "Epoch 00160: val_loss improved from 27552.96289 to 27552.81836, saving model to saccharide.h5\n",
            "2/2 [==============================] - 0s 22ms/step - loss: 27227.8535 - saccharide_out_loss: 0.4858 - conc_out_loss: 27227.3672 - saccharide_out_accuracy: 0.7500 - conc_out_accuracy: 0.0000e+00 - val_loss: 27552.8184 - val_saccharide_out_loss: 0.5128 - val_conc_out_loss: 27552.3047 - val_saccharide_out_accuracy: 0.6562 - val_conc_out_accuracy: 0.0000e+00\n",
            "Epoch 161/200\n",
            "1/2 [==============>...............] - ETA: 0s - loss: 27414.3145 - saccharide_out_loss: 0.4922 - conc_out_loss: 27413.8223 - saccharide_out_accuracy: 0.7305 - conc_out_accuracy: 0.0000e+00\n",
            "Epoch 00161: val_loss improved from 27552.81836 to 27552.66992, saving model to saccharide.h5\n",
            "2/2 [==============================] - 0s 23ms/step - loss: 27228.0098 - saccharide_out_loss: 0.4970 - conc_out_loss: 27227.5117 - saccharide_out_accuracy: 0.7261 - conc_out_accuracy: 0.0000e+00 - val_loss: 27552.6699 - val_saccharide_out_loss: 0.5130 - val_conc_out_loss: 27552.1562 - val_saccharide_out_accuracy: 0.6562 - val_conc_out_accuracy: 0.0000e+00\n",
            "Epoch 162/200\n",
            "1/2 [==============>...............] - ETA: 0s - loss: 27089.8535 - saccharide_out_loss: 0.4822 - conc_out_loss: 27089.3711 - saccharide_out_accuracy: 0.7480 - conc_out_accuracy: 0.0000e+00\n",
            "Epoch 00162: val_loss improved from 27552.66992 to 27552.52344, saving model to saccharide.h5\n",
            "2/2 [==============================] - 0s 25ms/step - loss: 27227.9375 - saccharide_out_loss: 0.4806 - conc_out_loss: 27227.4551 - saccharide_out_accuracy: 0.7500 - conc_out_accuracy: 0.0000e+00 - val_loss: 27552.5234 - val_saccharide_out_loss: 0.5131 - val_conc_out_loss: 27552.0098 - val_saccharide_out_accuracy: 0.6562 - val_conc_out_accuracy: 0.0000e+00\n",
            "Epoch 163/200\n",
            "1/2 [==============>...............] - ETA: 0s - loss: 26885.8125 - saccharide_out_loss: 0.4812 - conc_out_loss: 26885.3320 - saccharide_out_accuracy: 0.7363 - conc_out_accuracy: 0.0000e+00\n",
            "Epoch 00163: val_loss improved from 27552.52344 to 27552.38086, saving model to saccharide.h5\n",
            "2/2 [==============================] - 0s 24ms/step - loss: 27227.7090 - saccharide_out_loss: 0.4781 - conc_out_loss: 27227.2324 - saccharide_out_accuracy: 0.7371 - conc_out_accuracy: 0.0000e+00 - val_loss: 27552.3809 - val_saccharide_out_loss: 0.5136 - val_conc_out_loss: 27551.8652 - val_saccharide_out_accuracy: 0.6562 - val_conc_out_accuracy: 0.0000e+00\n",
            "Epoch 164/200\n",
            "1/2 [==============>...............] - ETA: 0s - loss: 27050.8438 - saccharide_out_loss: 0.4879 - conc_out_loss: 27050.3555 - saccharide_out_accuracy: 0.7266 - conc_out_accuracy: 0.0000e+00\n",
            "Epoch 00164: val_loss improved from 27552.38086 to 27552.23242, saving model to saccharide.h5\n",
            "2/2 [==============================] - 0s 23ms/step - loss: 27227.7383 - saccharide_out_loss: 0.4885 - conc_out_loss: 27227.2500 - saccharide_out_accuracy: 0.7206 - conc_out_accuracy: 0.0000e+00 - val_loss: 27552.2324 - val_saccharide_out_loss: 0.5138 - val_conc_out_loss: 27551.7188 - val_saccharide_out_accuracy: 0.6562 - val_conc_out_accuracy: 0.0000e+00\n",
            "Epoch 165/200\n",
            "1/2 [==============>...............] - ETA: 0s - loss: 27399.7012 - saccharide_out_loss: 0.4830 - conc_out_loss: 27399.2188 - saccharide_out_accuracy: 0.7500 - conc_out_accuracy: 0.0000e+00\n",
            "Epoch 00165: val_loss improved from 27552.23242 to 27552.08789, saving model to saccharide.h5\n",
            "2/2 [==============================] - 0s 24ms/step - loss: 27227.3633 - saccharide_out_loss: 0.4807 - conc_out_loss: 27226.8828 - saccharide_out_accuracy: 0.7537 - conc_out_accuracy: 0.0000e+00 - val_loss: 27552.0879 - val_saccharide_out_loss: 0.5139 - val_conc_out_loss: 27551.5762 - val_saccharide_out_accuracy: 0.6562 - val_conc_out_accuracy: 0.0000e+00\n",
            "Epoch 166/200\n",
            "1/2 [==============>...............] - ETA: 0s - loss: 27321.4258 - saccharide_out_loss: 0.4891 - conc_out_loss: 27320.9375 - saccharide_out_accuracy: 0.7402 - conc_out_accuracy: 0.0000e+00\n",
            "Epoch 00166: val_loss improved from 27552.08789 to 27551.94727, saving model to saccharide.h5\n",
            "2/2 [==============================] - 0s 22ms/step - loss: 27227.7070 - saccharide_out_loss: 0.4824 - conc_out_loss: 27227.2266 - saccharide_out_accuracy: 0.7482 - conc_out_accuracy: 0.0000e+00 - val_loss: 27551.9473 - val_saccharide_out_loss: 0.5144 - val_conc_out_loss: 27551.4355 - val_saccharide_out_accuracy: 0.6562 - val_conc_out_accuracy: 0.0000e+00\n",
            "Epoch 167/200\n",
            "1/2 [==============>...............] - ETA: 0s - loss: 27678.9297 - saccharide_out_loss: 0.4735 - conc_out_loss: 27678.4570 - saccharide_out_accuracy: 0.7539 - conc_out_accuracy: 0.0000e+00\n",
            "Epoch 00167: val_loss improved from 27551.94727 to 27551.80469, saving model to saccharide.h5\n",
            "2/2 [==============================] - 0s 24ms/step - loss: 27227.5098 - saccharide_out_loss: 0.4783 - conc_out_loss: 27227.0312 - saccharide_out_accuracy: 0.7500 - conc_out_accuracy: 0.0000e+00 - val_loss: 27551.8047 - val_saccharide_out_loss: 0.5145 - val_conc_out_loss: 27551.2910 - val_saccharide_out_accuracy: 0.6562 - val_conc_out_accuracy: 0.0000e+00\n",
            "Epoch 168/200\n",
            "1/2 [==============>...............] - ETA: 0s - loss: 26933.5078 - saccharide_out_loss: 0.4872 - conc_out_loss: 26933.0215 - saccharide_out_accuracy: 0.7520 - conc_out_accuracy: 0.0000e+00\n",
            "Epoch 00168: val_loss improved from 27551.80469 to 27551.66211, saving model to saccharide.h5\n",
            "2/2 [==============================] - 0s 25ms/step - loss: 27227.4355 - saccharide_out_loss: 0.4875 - conc_out_loss: 27226.9492 - saccharide_out_accuracy: 0.7518 - conc_out_accuracy: 0.0000e+00 - val_loss: 27551.6621 - val_saccharide_out_loss: 0.5137 - val_conc_out_loss: 27551.1484 - val_saccharide_out_accuracy: 0.6562 - val_conc_out_accuracy: 0.0000e+00\n",
            "Epoch 169/200\n",
            "1/2 [==============>...............] - ETA: 0s - loss: 27011.5859 - saccharide_out_loss: 0.4823 - conc_out_loss: 27011.1035 - saccharide_out_accuracy: 0.7246 - conc_out_accuracy: 0.0000e+00\n",
            "Epoch 00169: val_loss improved from 27551.66211 to 27551.52148, saving model to saccharide.h5\n",
            "2/2 [==============================] - 0s 24ms/step - loss: 27227.1152 - saccharide_out_loss: 0.4782 - conc_out_loss: 27226.6387 - saccharide_out_accuracy: 0.7279 - conc_out_accuracy: 0.0000e+00 - val_loss: 27551.5215 - val_saccharide_out_loss: 0.5129 - val_conc_out_loss: 27551.0059 - val_saccharide_out_accuracy: 0.6562 - val_conc_out_accuracy: 0.0000e+00\n",
            "Epoch 170/200\n",
            "1/2 [==============>...............] - ETA: 0s - loss: 27098.4512 - saccharide_out_loss: 0.4806 - conc_out_loss: 27097.9707 - saccharide_out_accuracy: 0.7363 - conc_out_accuracy: 0.0000e+00\n",
            "Epoch 00170: val_loss improved from 27551.52148 to 27551.36914, saving model to saccharide.h5\n",
            "2/2 [==============================] - 0s 27ms/step - loss: 27227.1074 - saccharide_out_loss: 0.4821 - conc_out_loss: 27226.6250 - saccharide_out_accuracy: 0.7335 - conc_out_accuracy: 0.0000e+00 - val_loss: 27551.3691 - val_saccharide_out_loss: 0.5125 - val_conc_out_loss: 27550.8574 - val_saccharide_out_accuracy: 0.6562 - val_conc_out_accuracy: 0.0000e+00\n",
            "Epoch 171/200\n",
            "1/2 [==============>...............] - ETA: 0s - loss: 27652.6543 - saccharide_out_loss: 0.4761 - conc_out_loss: 27652.1777 - saccharide_out_accuracy: 0.7461 - conc_out_accuracy: 0.0000e+00\n",
            "Epoch 00171: val_loss improved from 27551.36914 to 27551.22461, saving model to saccharide.h5\n",
            "2/2 [==============================] - 0s 23ms/step - loss: 27227.1328 - saccharide_out_loss: 0.4813 - conc_out_loss: 27226.6504 - saccharide_out_accuracy: 0.7445 - conc_out_accuracy: 0.0000e+00 - val_loss: 27551.2246 - val_saccharide_out_loss: 0.5120 - val_conc_out_loss: 27550.7109 - val_saccharide_out_accuracy: 0.6562 - val_conc_out_accuracy: 0.0000e+00\n",
            "Epoch 172/200\n",
            "1/2 [==============>...............] - ETA: 0s - loss: 27204.5762 - saccharide_out_loss: 0.4873 - conc_out_loss: 27204.0898 - saccharide_out_accuracy: 0.7324 - conc_out_accuracy: 0.0000e+00\n",
            "Epoch 00172: val_loss improved from 27551.22461 to 27551.08008, saving model to saccharide.h5\n",
            "2/2 [==============================] - 0s 22ms/step - loss: 27226.9160 - saccharide_out_loss: 0.4901 - conc_out_loss: 27226.4238 - saccharide_out_accuracy: 0.7353 - conc_out_accuracy: 0.0000e+00 - val_loss: 27551.0801 - val_saccharide_out_loss: 0.5116 - val_conc_out_loss: 27550.5684 - val_saccharide_out_accuracy: 0.6562 - val_conc_out_accuracy: 0.0000e+00\n",
            "Epoch 173/200\n",
            "1/2 [==============>...............] - ETA: 0s - loss: 27527.4355 - saccharide_out_loss: 0.4780 - conc_out_loss: 27526.9570 - saccharide_out_accuracy: 0.7500 - conc_out_accuracy: 0.0000e+00\n",
            "Epoch 00173: val_loss improved from 27551.08008 to 27550.92773, saving model to saccharide.h5\n",
            "2/2 [==============================] - 0s 23ms/step - loss: 27227.0332 - saccharide_out_loss: 0.4804 - conc_out_loss: 27226.5508 - saccharide_out_accuracy: 0.7445 - conc_out_accuracy: 0.0000e+00 - val_loss: 27550.9277 - val_saccharide_out_loss: 0.5112 - val_conc_out_loss: 27550.4160 - val_saccharide_out_accuracy: 0.6562 - val_conc_out_accuracy: 0.0000e+00\n",
            "Epoch 174/200\n",
            "1/2 [==============>...............] - ETA: 0s - loss: 27020.0547 - saccharide_out_loss: 0.4919 - conc_out_loss: 27019.5625 - saccharide_out_accuracy: 0.7324 - conc_out_accuracy: 0.0000e+00\n",
            "Epoch 00174: val_loss improved from 27550.92773 to 27550.77539, saving model to saccharide.h5\n",
            "2/2 [==============================] - 0s 26ms/step - loss: 27226.2871 - saccharide_out_loss: 0.4864 - conc_out_loss: 27225.7988 - saccharide_out_accuracy: 0.7390 - conc_out_accuracy: 0.0000e+00 - val_loss: 27550.7754 - val_saccharide_out_loss: 0.5115 - val_conc_out_loss: 27550.2656 - val_saccharide_out_accuracy: 0.6562 - val_conc_out_accuracy: 0.0000e+00\n",
            "Epoch 175/200\n",
            "1/2 [==============>...............] - ETA: 0s - loss: 27056.3984 - saccharide_out_loss: 0.4813 - conc_out_loss: 27055.9180 - saccharide_out_accuracy: 0.7402 - conc_out_accuracy: 0.0000e+00\n",
            "Epoch 00175: val_loss improved from 27550.77539 to 27550.62305, saving model to saccharide.h5\n",
            "2/2 [==============================] - 0s 24ms/step - loss: 27226.5918 - saccharide_out_loss: 0.4814 - conc_out_loss: 27226.1094 - saccharide_out_accuracy: 0.7408 - conc_out_accuracy: 0.0000e+00 - val_loss: 27550.6230 - val_saccharide_out_loss: 0.5123 - val_conc_out_loss: 27550.1113 - val_saccharide_out_accuracy: 0.6458 - val_conc_out_accuracy: 0.0000e+00\n",
            "Epoch 176/200\n",
            "1/2 [==============>...............] - ETA: 0s - loss: 26650.5371 - saccharide_out_loss: 0.4859 - conc_out_loss: 26650.0508 - saccharide_out_accuracy: 0.7480 - conc_out_accuracy: 0.0000e+00\n",
            "Epoch 00176: val_loss improved from 27550.62305 to 27550.46680, saving model to saccharide.h5\n",
            "2/2 [==============================] - 0s 25ms/step - loss: 27226.3711 - saccharide_out_loss: 0.4779 - conc_out_loss: 27225.8926 - saccharide_out_accuracy: 0.7555 - conc_out_accuracy: 0.0000e+00 - val_loss: 27550.4668 - val_saccharide_out_loss: 0.5133 - val_conc_out_loss: 27549.9531 - val_saccharide_out_accuracy: 0.6562 - val_conc_out_accuracy: 0.0000e+00\n",
            "Epoch 177/200\n",
            "1/2 [==============>...............] - ETA: 0s - loss: 27459.9355 - saccharide_out_loss: 0.4732 - conc_out_loss: 27459.4629 - saccharide_out_accuracy: 0.7734 - conc_out_accuracy: 0.0000e+00\n",
            "Epoch 00177: val_loss improved from 27550.46680 to 27550.30273, saving model to saccharide.h5\n",
            "2/2 [==============================] - 0s 26ms/step - loss: 27226.4434 - saccharide_out_loss: 0.4768 - conc_out_loss: 27225.9668 - saccharide_out_accuracy: 0.7739 - conc_out_accuracy: 0.0000e+00 - val_loss: 27550.3027 - val_saccharide_out_loss: 0.5140 - val_conc_out_loss: 27549.7891 - val_saccharide_out_accuracy: 0.6458 - val_conc_out_accuracy: 0.0000e+00\n",
            "Epoch 178/200\n",
            "1/2 [==============>...............] - ETA: 0s - loss: 27314.9648 - saccharide_out_loss: 0.4879 - conc_out_loss: 27314.4766 - saccharide_out_accuracy: 0.7266 - conc_out_accuracy: 0.0000e+00\n",
            "Epoch 00178: val_loss improved from 27550.30273 to 27550.13281, saving model to saccharide.h5\n",
            "2/2 [==============================] - 0s 23ms/step - loss: 27226.1406 - saccharide_out_loss: 0.4851 - conc_out_loss: 27225.6562 - saccharide_out_accuracy: 0.7298 - conc_out_accuracy: 0.0000e+00 - val_loss: 27550.1328 - val_saccharide_out_loss: 0.5146 - val_conc_out_loss: 27549.6191 - val_saccharide_out_accuracy: 0.6354 - val_conc_out_accuracy: 0.0000e+00\n",
            "Epoch 179/200\n",
            "1/2 [==============>...............] - ETA: 0s - loss: 26475.4512 - saccharide_out_loss: 0.4899 - conc_out_loss: 26474.9609 - saccharide_out_accuracy: 0.7383 - conc_out_accuracy: 0.0000e+00\n",
            "Epoch 00179: val_loss improved from 27550.13281 to 27549.96680, saving model to saccharide.h5\n",
            "2/2 [==============================] - 0s 22ms/step - loss: 27226.1973 - saccharide_out_loss: 0.4848 - conc_out_loss: 27225.7109 - saccharide_out_accuracy: 0.7445 - conc_out_accuracy: 0.0000e+00 - val_loss: 27549.9668 - val_saccharide_out_loss: 0.5151 - val_conc_out_loss: 27549.4512 - val_saccharide_out_accuracy: 0.6458 - val_conc_out_accuracy: 0.0000e+00\n",
            "Epoch 180/200\n",
            "1/2 [==============>...............] - ETA: 0s - loss: 27391.5410 - saccharide_out_loss: 0.4831 - conc_out_loss: 27391.0586 - saccharide_out_accuracy: 0.7695 - conc_out_accuracy: 0.0000e+00\n",
            "Epoch 00180: val_loss improved from 27549.96680 to 27549.79102, saving model to saccharide.h5\n",
            "2/2 [==============================] - 0s 26ms/step - loss: 27225.9160 - saccharide_out_loss: 0.4828 - conc_out_loss: 27225.4336 - saccharide_out_accuracy: 0.7684 - conc_out_accuracy: 0.0000e+00 - val_loss: 27549.7910 - val_saccharide_out_loss: 0.5152 - val_conc_out_loss: 27549.2754 - val_saccharide_out_accuracy: 0.6458 - val_conc_out_accuracy: 0.0000e+00\n",
            "Epoch 181/200\n",
            "1/2 [==============>...............] - ETA: 0s - loss: 26758.8105 - saccharide_out_loss: 0.4910 - conc_out_loss: 26758.3203 - saccharide_out_accuracy: 0.7285 - conc_out_accuracy: 0.0000e+00\n",
            "Epoch 00181: val_loss improved from 27549.79102 to 27549.61523, saving model to saccharide.h5\n",
            "2/2 [==============================] - 0s 22ms/step - loss: 27225.6719 - saccharide_out_loss: 0.4858 - conc_out_loss: 27225.1875 - saccharide_out_accuracy: 0.7335 - conc_out_accuracy: 0.0000e+00 - val_loss: 27549.6152 - val_saccharide_out_loss: 0.5154 - val_conc_out_loss: 27549.0996 - val_saccharide_out_accuracy: 0.6458 - val_conc_out_accuracy: 0.0000e+00\n",
            "Epoch 182/200\n",
            "1/2 [==============>...............] - ETA: 0s - loss: 27611.9082 - saccharide_out_loss: 0.4778 - conc_out_loss: 27611.4297 - saccharide_out_accuracy: 0.7402 - conc_out_accuracy: 0.0000e+00\n",
            "Epoch 00182: val_loss improved from 27549.61523 to 27549.43945, saving model to saccharide.h5\n",
            "2/2 [==============================] - 0s 23ms/step - loss: 27225.4805 - saccharide_out_loss: 0.4835 - conc_out_loss: 27224.9961 - saccharide_out_accuracy: 0.7353 - conc_out_accuracy: 0.0000e+00 - val_loss: 27549.4395 - val_saccharide_out_loss: 0.5157 - val_conc_out_loss: 27548.9238 - val_saccharide_out_accuracy: 0.6458 - val_conc_out_accuracy: 0.0000e+00\n",
            "Epoch 183/200\n",
            "1/2 [==============>...............] - ETA: 0s - loss: 27398.9668 - saccharide_out_loss: 0.4761 - conc_out_loss: 27398.4902 - saccharide_out_accuracy: 0.7578 - conc_out_accuracy: 0.0000e+00\n",
            "Epoch 00183: val_loss improved from 27549.43945 to 27549.26562, saving model to saccharide.h5\n",
            "2/2 [==============================] - 0s 26ms/step - loss: 27225.4980 - saccharide_out_loss: 0.4796 - conc_out_loss: 27225.0176 - saccharide_out_accuracy: 0.7555 - conc_out_accuracy: 0.0000e+00 - val_loss: 27549.2656 - val_saccharide_out_loss: 0.5158 - val_conc_out_loss: 27548.7500 - val_saccharide_out_accuracy: 0.6458 - val_conc_out_accuracy: 0.0000e+00\n",
            "Epoch 184/200\n",
            "1/2 [==============>...............] - ETA: 0s - loss: 27170.7148 - saccharide_out_loss: 0.4797 - conc_out_loss: 27170.2344 - saccharide_out_accuracy: 0.7363 - conc_out_accuracy: 0.0000e+00\n",
            "Epoch 00184: val_loss improved from 27549.26562 to 27549.09375, saving model to saccharide.h5\n",
            "2/2 [==============================] - 0s 26ms/step - loss: 27225.3203 - saccharide_out_loss: 0.4777 - conc_out_loss: 27224.8418 - saccharide_out_accuracy: 0.7371 - conc_out_accuracy: 0.0000e+00 - val_loss: 27549.0938 - val_saccharide_out_loss: 0.5153 - val_conc_out_loss: 27548.5781 - val_saccharide_out_accuracy: 0.6458 - val_conc_out_accuracy: 0.0000e+00\n",
            "Epoch 185/200\n",
            "1/2 [==============>...............] - ETA: 0s - loss: 26453.6992 - saccharide_out_loss: 0.4914 - conc_out_loss: 26453.2070 - saccharide_out_accuracy: 0.7090 - conc_out_accuracy: 0.0000e+00\n",
            "Epoch 00185: val_loss improved from 27549.09375 to 27548.91602, saving model to saccharide.h5\n",
            "2/2 [==============================] - 0s 21ms/step - loss: 27224.8906 - saccharide_out_loss: 0.4809 - conc_out_loss: 27224.4082 - saccharide_out_accuracy: 0.7188 - conc_out_accuracy: 0.0000e+00 - val_loss: 27548.9160 - val_saccharide_out_loss: 0.5147 - val_conc_out_loss: 27548.4004 - val_saccharide_out_accuracy: 0.6458 - val_conc_out_accuracy: 0.0000e+00\n",
            "Epoch 186/200\n",
            "1/2 [==============>...............] - ETA: 0s - loss: 27475.0742 - saccharide_out_loss: 0.4780 - conc_out_loss: 27474.5957 - saccharide_out_accuracy: 0.7480 - conc_out_accuracy: 0.0000e+00\n",
            "Epoch 00186: val_loss improved from 27548.91602 to 27548.74023, saving model to saccharide.h5\n",
            "2/2 [==============================] - 0s 25ms/step - loss: 27225.2383 - saccharide_out_loss: 0.4834 - conc_out_loss: 27224.7559 - saccharide_out_accuracy: 0.7390 - conc_out_accuracy: 0.0000e+00 - val_loss: 27548.7402 - val_saccharide_out_loss: 0.5139 - val_conc_out_loss: 27548.2246 - val_saccharide_out_accuracy: 0.6354 - val_conc_out_accuracy: 0.0000e+00\n",
            "Epoch 187/200\n",
            "1/2 [==============>...............] - ETA: 0s - loss: 27364.7480 - saccharide_out_loss: 0.4848 - conc_out_loss: 27364.2637 - saccharide_out_accuracy: 0.7441 - conc_out_accuracy: 0.0000e+00\n",
            "Epoch 00187: val_loss improved from 27548.74023 to 27548.56836, saving model to saccharide.h5\n",
            "2/2 [==============================] - 0s 23ms/step - loss: 27225.0781 - saccharide_out_loss: 0.4852 - conc_out_loss: 27224.5938 - saccharide_out_accuracy: 0.7463 - conc_out_accuracy: 0.0000e+00 - val_loss: 27548.5684 - val_saccharide_out_loss: 0.5129 - val_conc_out_loss: 27548.0527 - val_saccharide_out_accuracy: 0.6354 - val_conc_out_accuracy: 0.0000e+00\n",
            "Epoch 188/200\n",
            "1/2 [==============>...............] - ETA: 0s - loss: 27412.9668 - saccharide_out_loss: 0.4822 - conc_out_loss: 27412.4844 - saccharide_out_accuracy: 0.7422 - conc_out_accuracy: 0.0000e+00\n",
            "Epoch 00188: val_loss improved from 27548.56836 to 27548.38477, saving model to saccharide.h5\n",
            "2/2 [==============================] - 0s 22ms/step - loss: 27224.8496 - saccharide_out_loss: 0.4869 - conc_out_loss: 27224.3613 - saccharide_out_accuracy: 0.7408 - conc_out_accuracy: 0.0000e+00 - val_loss: 27548.3848 - val_saccharide_out_loss: 0.5122 - val_conc_out_loss: 27547.8750 - val_saccharide_out_accuracy: 0.6354 - val_conc_out_accuracy: 0.0000e+00\n",
            "Epoch 189/200\n",
            "1/2 [==============>...............] - ETA: 0s - loss: 27446.0996 - saccharide_out_loss: 0.4789 - conc_out_loss: 27445.6211 - saccharide_out_accuracy: 0.7402 - conc_out_accuracy: 0.0000e+00\n",
            "Epoch 00189: val_loss improved from 27548.38477 to 27548.21289, saving model to saccharide.h5\n",
            "2/2 [==============================] - 0s 25ms/step - loss: 27224.5625 - saccharide_out_loss: 0.4834 - conc_out_loss: 27224.0781 - saccharide_out_accuracy: 0.7335 - conc_out_accuracy: 0.0000e+00 - val_loss: 27548.2129 - val_saccharide_out_loss: 0.5113 - val_conc_out_loss: 27547.7012 - val_saccharide_out_accuracy: 0.6354 - val_conc_out_accuracy: 0.0000e+00\n",
            "Epoch 190/200\n",
            "1/2 [==============>...............] - ETA: 0s - loss: 27096.4863 - saccharide_out_loss: 0.4880 - conc_out_loss: 27095.9980 - saccharide_out_accuracy: 0.7461 - conc_out_accuracy: 0.0000e+00\n",
            "Epoch 00190: val_loss improved from 27548.21289 to 27548.02539, saving model to saccharide.h5\n",
            "2/2 [==============================] - 0s 25ms/step - loss: 27224.4609 - saccharide_out_loss: 0.4817 - conc_out_loss: 27223.9805 - saccharide_out_accuracy: 0.7537 - conc_out_accuracy: 0.0000e+00 - val_loss: 27548.0254 - val_saccharide_out_loss: 0.5105 - val_conc_out_loss: 27547.5176 - val_saccharide_out_accuracy: 0.6458 - val_conc_out_accuracy: 0.0000e+00\n",
            "Epoch 191/200\n",
            "1/2 [==============>...............] - ETA: 0s - loss: 26792.4980 - saccharide_out_loss: 0.4824 - conc_out_loss: 26792.0156 - saccharide_out_accuracy: 0.7598 - conc_out_accuracy: 0.0000e+00\n",
            "Epoch 00191: val_loss improved from 27548.02539 to 27547.84570, saving model to saccharide.h5\n",
            "2/2 [==============================] - 0s 24ms/step - loss: 27224.3594 - saccharide_out_loss: 0.4798 - conc_out_loss: 27223.8828 - saccharide_out_accuracy: 0.7629 - conc_out_accuracy: 0.0000e+00 - val_loss: 27547.8457 - val_saccharide_out_loss: 0.5103 - val_conc_out_loss: 27547.3359 - val_saccharide_out_accuracy: 0.6458 - val_conc_out_accuracy: 0.0000e+00\n",
            "Epoch 192/200\n",
            "1/2 [==============>...............] - ETA: 0s - loss: 27294.3867 - saccharide_out_loss: 0.4847 - conc_out_loss: 27293.9023 - saccharide_out_accuracy: 0.7266 - conc_out_accuracy: 0.0000e+00\n",
            "Epoch 00192: val_loss improved from 27547.84570 to 27547.65820, saving model to saccharide.h5\n",
            "2/2 [==============================] - 0s 22ms/step - loss: 27224.2031 - saccharide_out_loss: 0.4800 - conc_out_loss: 27223.7246 - saccharide_out_accuracy: 0.7335 - conc_out_accuracy: 0.0000e+00 - val_loss: 27547.6582 - val_saccharide_out_loss: 0.5106 - val_conc_out_loss: 27547.1484 - val_saccharide_out_accuracy: 0.6354 - val_conc_out_accuracy: 0.0000e+00\n",
            "Epoch 193/200\n",
            "1/2 [==============>...............] - ETA: 0s - loss: 27257.5312 - saccharide_out_loss: 0.4768 - conc_out_loss: 27257.0547 - saccharide_out_accuracy: 0.7520 - conc_out_accuracy: 0.0000e+00\n",
            "Epoch 00193: val_loss improved from 27547.65820 to 27547.47070, saving model to saccharide.h5\n",
            "2/2 [==============================] - 0s 23ms/step - loss: 27223.7852 - saccharide_out_loss: 0.4816 - conc_out_loss: 27223.3027 - saccharide_out_accuracy: 0.7445 - conc_out_accuracy: 0.0000e+00 - val_loss: 27547.4707 - val_saccharide_out_loss: 0.5107 - val_conc_out_loss: 27546.9609 - val_saccharide_out_accuracy: 0.6354 - val_conc_out_accuracy: 0.0000e+00\n",
            "Epoch 194/200\n",
            "1/2 [==============>...............] - ETA: 0s - loss: 27650.3145 - saccharide_out_loss: 0.4814 - conc_out_loss: 27649.8340 - saccharide_out_accuracy: 0.7363 - conc_out_accuracy: 0.0000e+00\n",
            "Epoch 00194: val_loss improved from 27547.47070 to 27547.28711, saving model to saccharide.h5\n",
            "2/2 [==============================] - 0s 24ms/step - loss: 27223.7441 - saccharide_out_loss: 0.4807 - conc_out_loss: 27223.2656 - saccharide_out_accuracy: 0.7371 - conc_out_accuracy: 0.0000e+00 - val_loss: 27547.2871 - val_saccharide_out_loss: 0.5109 - val_conc_out_loss: 27546.7754 - val_saccharide_out_accuracy: 0.6354 - val_conc_out_accuracy: 0.0000e+00\n",
            "Epoch 195/200\n",
            "1/2 [==============>...............] - ETA: 0s - loss: 27027.1934 - saccharide_out_loss: 0.4771 - conc_out_loss: 27026.7168 - saccharide_out_accuracy: 0.7305 - conc_out_accuracy: 0.0000e+00\n",
            "Epoch 00195: val_loss improved from 27547.28711 to 27547.10352, saving model to saccharide.h5\n",
            "2/2 [==============================] - 0s 25ms/step - loss: 27223.7246 - saccharide_out_loss: 0.4790 - conc_out_loss: 27223.2461 - saccharide_out_accuracy: 0.7316 - conc_out_accuracy: 0.0000e+00 - val_loss: 27547.1035 - val_saccharide_out_loss: 0.5115 - val_conc_out_loss: 27546.5918 - val_saccharide_out_accuracy: 0.6354 - val_conc_out_accuracy: 0.0000e+00\n",
            "Epoch 196/200\n",
            "1/2 [==============>...............] - ETA: 0s - loss: 27289.0547 - saccharide_out_loss: 0.4800 - conc_out_loss: 27288.5742 - saccharide_out_accuracy: 0.7285 - conc_out_accuracy: 0.0000e+00\n",
            "Epoch 00196: val_loss improved from 27547.10352 to 27546.91602, saving model to saccharide.h5\n",
            "2/2 [==============================] - 0s 24ms/step - loss: 27223.4844 - saccharide_out_loss: 0.4805 - conc_out_loss: 27223.0059 - saccharide_out_accuracy: 0.7353 - conc_out_accuracy: 0.0000e+00 - val_loss: 27546.9160 - val_saccharide_out_loss: 0.5121 - val_conc_out_loss: 27546.4062 - val_saccharide_out_accuracy: 0.6354 - val_conc_out_accuracy: 0.0000e+00\n",
            "Epoch 197/200\n",
            "1/2 [==============>...............] - ETA: 0s - loss: 27478.3457 - saccharide_out_loss: 0.4770 - conc_out_loss: 27477.8691 - saccharide_out_accuracy: 0.7500 - conc_out_accuracy: 0.0000e+00\n",
            "Epoch 00197: val_loss improved from 27546.91602 to 27546.72852, saving model to saccharide.h5\n",
            "2/2 [==============================] - 0s 22ms/step - loss: 27223.7656 - saccharide_out_loss: 0.4783 - conc_out_loss: 27223.2871 - saccharide_out_accuracy: 0.7463 - conc_out_accuracy: 0.0000e+00 - val_loss: 27546.7285 - val_saccharide_out_loss: 0.5119 - val_conc_out_loss: 27546.2188 - val_saccharide_out_accuracy: 0.6354 - val_conc_out_accuracy: 0.0000e+00\n",
            "Epoch 198/200\n",
            "1/2 [==============>...............] - ETA: 0s - loss: 26895.4355 - saccharide_out_loss: 0.4862 - conc_out_loss: 26894.9492 - saccharide_out_accuracy: 0.7363 - conc_out_accuracy: 0.0000e+00\n",
            "Epoch 00198: val_loss improved from 27546.72852 to 27546.54102, saving model to saccharide.h5\n",
            "2/2 [==============================] - 0s 28ms/step - loss: 27223.3457 - saccharide_out_loss: 0.4848 - conc_out_loss: 27222.8594 - saccharide_out_accuracy: 0.7408 - conc_out_accuracy: 0.0000e+00 - val_loss: 27546.5410 - val_saccharide_out_loss: 0.5116 - val_conc_out_loss: 27546.0312 - val_saccharide_out_accuracy: 0.6354 - val_conc_out_accuracy: 0.0000e+00\n",
            "Epoch 199/200\n",
            "1/2 [==============>...............] - ETA: 0s - loss: 27716.0879 - saccharide_out_loss: 0.4748 - conc_out_loss: 27715.6133 - saccharide_out_accuracy: 0.7422 - conc_out_accuracy: 0.0000e+00\n",
            "Epoch 00199: val_loss improved from 27546.54102 to 27546.35742, saving model to saccharide.h5\n",
            "2/2 [==============================] - 0s 25ms/step - loss: 27222.6211 - saccharide_out_loss: 0.4812 - conc_out_loss: 27222.1406 - saccharide_out_accuracy: 0.7426 - conc_out_accuracy: 0.0000e+00 - val_loss: 27546.3574 - val_saccharide_out_loss: 0.5114 - val_conc_out_loss: 27545.8457 - val_saccharide_out_accuracy: 0.6354 - val_conc_out_accuracy: 0.0000e+00\n",
            "Epoch 200/200\n",
            "1/2 [==============>...............] - ETA: 0s - loss: 27386.4648 - saccharide_out_loss: 0.4780 - conc_out_loss: 27385.9863 - saccharide_out_accuracy: 0.7559 - conc_out_accuracy: 0.0000e+00\n",
            "Epoch 00200: val_loss improved from 27546.35742 to 27546.17383, saving model to saccharide.h5\n",
            "2/2 [==============================] - 0s 23ms/step - loss: 27222.9844 - saccharide_out_loss: 0.4775 - conc_out_loss: 27222.5059 - saccharide_out_accuracy: 0.7555 - conc_out_accuracy: 0.0000e+00 - val_loss: 27546.1738 - val_saccharide_out_loss: 0.5110 - val_conc_out_loss: 27545.6621 - val_saccharide_out_accuracy: 0.6354 - val_conc_out_accuracy: 0.0000e+00\n"
          ],
          "name": "stdout"
        }
      ]
    },
    {
      "cell_type": "markdown",
      "metadata": {
        "id": "q9dKt_XwZFgM"
      },
      "source": [
        "**Evaluation of the model**"
      ]
    },
    {
      "cell_type": "code",
      "metadata": {
        "id": "2UwB5OILkGHD",
        "colab": {
          "base_uri": "https://localhost:8080/",
          "height": 54
        },
        "outputId": "f5328860-de2e-4184-f32b-6ee3b1a76def"
      },
      "source": [
        "scores = Model.evaluate(X_test,Y_test_2)"
      ],
      "execution_count": null,
      "outputs": [
        {
          "output_type": "stream",
          "text": [
            "3/3 [==============================] - 0s 3ms/step - loss: 27546.1719 - saccharide_out_loss: 0.5110 - conc_out_loss: 27545.6621 - saccharide_out_accuracy: 0.6354 - conc_out_accuracy: 0.0000e+00\n"
          ],
          "name": "stdout"
        }
      ]
    },
    {
      "cell_type": "code",
      "metadata": {
        "id": "IhgLIoWCkLr6"
      },
      "source": [
        "pred=Model.predict(X_test)"
      ],
      "execution_count": null,
      "outputs": []
    },
    {
      "cell_type": "code",
      "metadata": {
        "id": "TwAYUkm_kXKg",
        "colab": {
          "base_uri": "https://localhost:8080/",
          "height": 366
        },
        "outputId": "c6c60989-3e14-4810-d4e0-820388edf7c1"
      },
      "source": [
        "plt.plot(History.history['loss'])\n",
        "plt.plot(History.history['val_loss'])\n",
        "plt.title('Model loss')\n",
        "plt.ylabel('Loss')\n",
        "plt.xlabel('Epoch')\n",
        "plt.legend(['Train', 'Validation'], loc='upper left')\n",
        "plt.subplots_adjust(top=1.00, bottom=0.0, left=0.0, right=0.95, hspace=0.25,\n",
        "                        wspace=0.35)"
      ],
      "execution_count": null,
      "outputs": [
        {
          "output_type": "display_data",
          "data": {
            "image/png": "[encoded data removed]",
            "text/plain": [
              "<Figure size 432x288 with 1 Axes>"
            ]
          },
          "metadata": {
            "tags": [],
            "needs_background": "light"
          }
        }
      ]
    },
    {
      "cell_type": "code",
      "metadata": {
        "id": "ow7wim06kiBf",
        "colab": {
          "base_uri": "https://localhost:8080/",
          "height": 366
        },
        "outputId": "f2c9a172-4e66-4c81-f20d-71bc16fdc2da"
      },
      "source": [
        "plt.plot(History.history['saccharide_out_accuracy'])\n",
        "plt.plot(History.history['val_saccharide_out_accuracy'])\n",
        "plt.title('Model accuracy')\n",
        "plt.ylabel('Accuracy')\n",
        "plt.xlabel('Epoch')\n",
        "plt.legend(['Train', 'Validation'], loc='upper left')\n",
        "plt.subplots_adjust(top=1.00, bottom=0.0, left=0.0, right=0.95, hspace=0.25, wspace=0.35)"
      ],
      "execution_count": null,
      "outputs": [
        {
          "output_type": "display_data",
          "data": {
            "image/png": "[encoded data removed]",
            "text/plain": [
              "<Figure size 432x288 with 1 Axes>"
            ]
          },
          "metadata": {
            "tags": [],
            "needs_background": "light"
          }
        }
      ]
    },
    {
      "cell_type": "code",
      "metadata": {
        "id": "5TKPbOJQk2HV",
        "colab": {
          "base_uri": "https://localhost:8080/",
          "height": 279
        },
        "outputId": "ddec1fff-27bc-41fd-cd7c-765926dad8b8"
      },
      "source": [
        "fig, ax = plt.subplots()\n",
        "ax.scatter(Y_test_2[1], pred[1])\n",
        "ax.plot([Y_test_2[1].min(),Y_test_2[1].max()], [Y_test_2[1].min(), Y_test_2[1].max()], 'k--', lw=4)\n",
        "ax.set_xlabel('Actual conc')\n",
        "ax.set_ylabel('Predicted conc')\n",
        "plt.show()"
      ],
      "execution_count": null,
      "outputs": [
        {
          "output_type": "display_data",
          "data": {
            "image/png": "[encoded data removed]",
            "text/plain": [
              "<Figure size 432x288 with 1 Axes>"
            ]
          },
          "metadata": {
            "tags": [],
            "needs_background": "light"
          }
        }
      ]
    },
    {
      "cell_type": "code",
      "metadata": {
        "id": "4mU7Cv8L6XjZ"
      },
      "source": [
        "from sklearn.metrics import confusion_matrix \n",
        "\n",
        "from sklearn.metrics import classification_report"
      ],
      "execution_count": null,
      "outputs": []
    },
    {
      "cell_type": "code",
      "metadata": {
        "id": "dXciZ94z6vCj"
      },
      "source": [
        "i=0\n",
        "Pred_l=[]\n",
        "while(i<len(pred[0])):\n",
        "\n",
        "  Pred_l.append(int(np.round(pred[0][i])))\n",
        "  i+=1"
      ],
      "execution_count": null,
      "outputs": []
    },
    {
      "cell_type": "code",
      "metadata": {
        "id": "HCyqp6-j6nv7"
      },
      "source": [
        "report=classification_report(Y_test_2[0], Pred_l)"
      ],
      "execution_count": null,
      "outputs": []
    },
    {
      "cell_type": "code",
      "metadata": {
        "id": "ZoxI-iwX6zI0",
        "colab": {
          "base_uri": "https://localhost:8080/",
          "height": 168
        },
        "outputId": "60c50096-85c6-452f-c6cc-525c071fae40"
      },
      "source": [
        "print(report)"
      ],
      "execution_count": null,
      "outputs": [
        {
          "output_type": "stream",
          "text": [
            "              precision    recall  f1-score   support\n",
            "\n",
            "           0       0.82      0.77      0.80        48\n",
            "           1       0.78      0.83      0.81        48\n",
            "\n",
            "    accuracy                           0.80        96\n",
            "   macro avg       0.80      0.80      0.80        96\n",
            "weighted avg       0.80      0.80      0.80        96\n",
            "\n"
          ],
          "name": "stdout"
        }
      ]
    },
    {
      "cell_type": "code",
      "metadata": {
        "id": "RAHE-Epw65T9"
      },
      "source": [
        "results = confusion_matrix(Y_test_2[0], Pred_l)"
      ],
      "execution_count": null,
      "outputs": []
    },
    {
      "cell_type": "code",
      "metadata": {
        "id": "2dLiMP9x67RE",
        "colab": {
          "base_uri": "https://localhost:8080/",
          "height": 286
        },
        "outputId": "2c90f6b2-3b90-4df8-dd46-c6962987927d"
      },
      "source": [
        "import seaborn as sns\n",
        "\n",
        "sns.heatmap(results, annot=True)"
      ],
      "execution_count": null,
      "outputs": [
        {
          "output_type": "execute_result",
          "data": {
            "text/plain": [
              "<matplotlib.axes._subplots.AxesSubplot at 0x7f0e029e6828>"
            ]
          },
          "metadata": {
            "tags": []
          },
          "execution_count": 48
        },
        {
          "output_type": "display_data",
          "data": {
            "image/png": "[encoded data removed]",
            "text/plain": [
              "<Figure size 432x288 with 2 Axes>"
            ]
          },
          "metadata": {
            "tags": [],
            "needs_background": "light"
          }
        }
      ]
    },
    {
      "cell_type": "code",
      "metadata": {
        "id": "QJrPOdfR8rXn",
        "colab": {
          "base_uri": "https://localhost:8080/",
          "height": 50
        },
        "outputId": "c30420fc-1121-4f84-fe12-3d8f67619931"
      },
      "source": [
        "X_test[1]"
      ],
      "execution_count": null,
      "outputs": [
        {
          "output_type": "execute_result",
          "data": {
            "text/plain": [
              "array([-1.60926909, -1.56709029,  1.27244599, -1.57591191, -1.58013793,\n",
              "        1.54210557,  1.39969855])"
            ]
          },
          "metadata": {
            "tags": []
          },
          "execution_count": 49
        }
      ]
    },
    {
      "cell_type": "code",
      "metadata": {
        "id": "wECunEb0EO0w",
        "colab": {
          "base_uri": "https://localhost:8080/",
          "height": 50
        },
        "outputId": "c662ba68-ff8c-4f07-c327-da6a52ff7f71"
      },
      "source": [
        "Y_test[1]"
      ],
      "execution_count": null,
      "outputs": [
        {
          "output_type": "execute_result",
          "data": {
            "text/plain": [
              "array([[40000],\n",
              "       [    0]])"
            ]
          },
          "metadata": {
            "tags": []
          },
          "execution_count": 50
        }
      ]
    },
    {
      "cell_type": "code",
      "metadata": {
        "id": "y1gxUw5NlSIV"
      },
      "source": [
        "def test(ind,X,Model):\n",
        "  pred_1=Model.predict(np.array([ind]))\n",
        "  #print(pred_1)\n",
        "  saccharide_f=['Fructose','Glucose']\n",
        "  conc=int(np.round(pred_1[1][0]))\n",
        "  saccharide=int(np.round(pred_1[0][0]))\n",
        "  print(\"Predicted Concentration: \"+ str(conc))\n",
        "  print(\"Predicted Saccharide: \"+ saccharide_f[saccharide])"
      ],
      "execution_count": null,
      "outputs": []
    },
    {
      "cell_type": "code",
      "metadata": {
        "id": "6lIJPbMjDQ0P",
        "colab": {
          "base_uri": "https://localhost:8080/",
          "height": 50
        },
        "outputId": "2b07c99d-9b1c-455f-9e3b-b3d04b71962a"
      },
      "source": [
        "test([ 0.63773415,  0.61646654, -0.34247125,  0.62652922,  0.63855111,\n",
        "       -0.5029677 , -0.5534424 ],X,Model)"
      ],
      "execution_count": null,
      "outputs": [
        {
          "output_type": "stream",
          "text": [
            "Predicted Concentration: 17\n",
            "Predicted Saccharide: Glucose\n"
          ],
          "name": "stdout"
        }
      ]
    }
  ]
}